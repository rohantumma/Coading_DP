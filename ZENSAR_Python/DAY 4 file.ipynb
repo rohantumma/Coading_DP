{
 "cells": [
  {
   "cell_type": "code",
   "execution_count": 1,
   "metadata": {},
   "outputs": [
    {
     "ename": "SyntaxError",
     "evalue": "unexpected character after line continuation character (<ipython-input-1-019e636e83bd>, line 1)",
     "output_type": "error",
     "traceback": [
      "\u001b[1;36m  File \u001b[1;32m\"<ipython-input-1-019e636e83bd>\"\u001b[1;36m, line \u001b[1;32m1\u001b[0m\n\u001b[1;33m    E:\\rohan\\CSE 5\\ZENSAR\\ZENSAR\\PYTHON\\New folder\u001b[0m\n\u001b[1;37m                                                  ^\u001b[0m\n\u001b[1;31mSyntaxError\u001b[0m\u001b[1;31m:\u001b[0m unexpected character after line continuation character\n"
     ]
    }
   ],
   "source": [
    "E:\\rohan\\CSE 5\\ZENSAR\\ZENSAR\\PYTHON\\New folder"
   ]
  },
  {
   "cell_type": "code",
   "execution_count": 7,
   "metadata": {},
   "outputs": [
    {
     "name": "stdout",
     "output_type": "stream",
     "text": [
      "\n",
      "\n",
      "pandas are good\n"
     ]
    }
   ],
   "source": [
    "##read\n",
    "file=open(\"E://rohan//CSE 5//ZENSAR//ZENSAR//PYTHON//New folder//loco.txt\",\"r\")\n",
    "for each in file:\n",
    "    print(each)"
   ]
  },
  {
   "cell_type": "code",
   "execution_count": 8,
   "metadata": {},
   "outputs": [],
   "source": [
    "#craete\n",
    "file=open(\"E://rohan//CSE 5//ZENSAR//ZENSAR//PYTHON//New folder//loco.txt\",\"w\")"
   ]
  },
  {
   "cell_type": "code",
   "execution_count": 9,
   "metadata": {},
   "outputs": [],
   "source": [
    "#write to file\n",
    "file=open(\"E://rohan//CSE 5//ZENSAR//ZENSAR//PYTHON//New folder//loco.txt\",\"w\")\n",
    "file.write(\"welcome to pandas...\")\n",
    "file.close()"
   ]
  },
  {
   "cell_type": "code",
   "execution_count": 10,
   "metadata": {},
   "outputs": [],
   "source": [
    "#append file\n",
    "file=open(\"E://rohan//CSE 5//ZENSAR//ZENSAR//PYTHON//New folder//loco.txt\",\"a\")\n",
    "file.write(\"\\npandas are good\")\n",
    "file.close()"
   ]
  },
  {
   "cell_type": "code",
   "execution_count": 5,
   "metadata": {},
   "outputs": [
    {
     "ename": "FileNotFoundError",
     "evalue": "[Errno 2] No such file or directory: 'E://rohan//CSE 5//ZENSAR//ZENSAR//PYTHON//New folder//loco.txt'",
     "output_type": "error",
     "traceback": [
      "\u001b[1;31m---------------------------------------------------------------------------\u001b[0m",
      "\u001b[1;31mFileNotFoundError\u001b[0m                         Traceback (most recent call last)",
      "\u001b[1;32m<ipython-input-5-39c0599c5e42>\u001b[0m in \u001b[0;36m<module>\u001b[1;34m\u001b[0m\n\u001b[0;32m      1\u001b[0m \u001b[1;31m# help of queue reading data line by line\u001b[0m\u001b[1;33m\u001b[0m\u001b[1;33m\u001b[0m\u001b[1;33m\u001b[0m\u001b[0m\n\u001b[0;32m      2\u001b[0m \u001b[1;31m# with keyword\u001b[0m\u001b[1;33m\u001b[0m\u001b[1;33m\u001b[0m\u001b[1;33m\u001b[0m\u001b[0m\n\u001b[1;32m----> 3\u001b[1;33m \u001b[1;32mwith\u001b[0m \u001b[0mopen\u001b[0m\u001b[1;33m(\u001b[0m\u001b[1;34m\"E://rohan//CSE 5//ZENSAR//ZENSAR//PYTHON//New folder//loco.txt\"\u001b[0m\u001b[1;33m,\u001b[0m\u001b[1;34m\"r\"\u001b[0m\u001b[1;33m)\u001b[0m \u001b[1;32mas\u001b[0m \u001b[0mf\u001b[0m\u001b[1;33m:\u001b[0m\u001b[1;33m\u001b[0m\u001b[1;33m\u001b[0m\u001b[0m\n\u001b[0m\u001b[0;32m      4\u001b[0m     \u001b[0md\u001b[0m\u001b[1;33m=\u001b[0m\u001b[0mf\u001b[0m\u001b[1;33m.\u001b[0m\u001b[0mreadlines\u001b[0m\u001b[1;33m(\u001b[0m\u001b[1;33m)\u001b[0m\u001b[1;33m\u001b[0m\u001b[1;33m\u001b[0m\u001b[0m\n\u001b[0;32m      5\u001b[0m     \u001b[1;32mfor\u001b[0m \u001b[0ms\u001b[0m \u001b[1;32min\u001b[0m \u001b[0md\u001b[0m\u001b[1;33m:\u001b[0m\u001b[1;33m\u001b[0m\u001b[1;33m\u001b[0m\u001b[0m\n",
      "\u001b[1;31mFileNotFoundError\u001b[0m: [Errno 2] No such file or directory: 'E://rohan//CSE 5//ZENSAR//ZENSAR//PYTHON//New folder//loco.txt'"
     ]
    }
   ],
   "source": [
    "# help of queue reading data line by line\n",
    "# with keyword\n",
    "with open(\"E://rohan//CSE 5//ZENSAR//ZENSAR//PYTHON//New folder//loco.txt\",\"r\") as f:\n",
    "    d=f.readlines()\n",
    "    for s in d:\n",
    "        print(s)"
   ]
  },
  {
   "cell_type": "code",
   "execution_count": 35,
   "metadata": {},
   "outputs": [
    {
     "name": "stdout",
     "output_type": "stream",
     "text": [
      "0\n",
      "['44']\n",
      "0\n",
      "['wre']\n",
      "0\n",
      "['ewr']\n",
      "0\n",
      "['wer']\n",
      "0\n",
      "['kj']\n"
     ]
    }
   ],
   "source": [
    "with open(\"E://rohan//CSE 5//ZENSAR//ZENSAR//PYTHON//New folder//loco.txt\",\"r\") as f:\n",
    "    d=f.readlines()\n",
    "    for s in d:\n",
    "        w=s.split()\n",
    "        print(len(w)-1)\n",
    "        print(w)"
   ]
  },
  {
   "cell_type": "code",
   "execution_count": 24,
   "metadata": {},
   "outputs": [
    {
     "data": {
      "text/plain": [
       "'02'"
      ]
     },
     "execution_count": 24,
     "metadata": {},
     "output_type": "execute_result"
    }
   ],
   "source": [
    "'''02'''\n"
   ]
  },
  {
   "cell_type": "code",
   "execution_count": 1,
   "metadata": {},
   "outputs": [],
   "source": [
    "#delete simple file\n",
    "import os\n",
    "os.remove(\"E://rohan//CSE 5//ZENSAR//ZENSAR//PYTHON//New folder//loco.txt\")"
   ]
  },
  {
   "cell_type": "code",
   "execution_count": 2,
   "metadata": {},
   "outputs": [],
   "source": [
    "# delete folder\n",
    "os.rmdir(\"E://rohan//CSE 5//ZENSAR//ZENSAR//PYTHON//New folder//asd\")"
   ]
  },
  {
   "cell_type": "code",
   "execution_count": 4,
   "metadata": {},
   "outputs": [
    {
     "name": "stdout",
     "output_type": "stream",
     "text": [
      "file deleted\n"
     ]
    }
   ],
   "source": [
    "#check file then delete\n",
    "if os.path.exists(\"E://rohan//CSE 5//ZENSAR//ZENSAR//PYTHON//New folder//loco.txt\"):\n",
    "    os.remove(\"E://rohan//CSE 5//ZENSAR//ZENSAR//PYTHON//New folder//loco.txt\")\n",
    "    print(\"file deleted\")\n",
    "else:\n",
    "    print(\"file not exits\")"
   ]
  },
  {
   "cell_type": "code",
   "execution_count": 27,
   "metadata": {},
   "outputs": [
    {
     "name": "stdout",
     "output_type": "stream",
     "text": [
      "welcome to pandas...\n",
      "pandas are good\n"
     ]
    }
   ],
   "source": [
    "#read file based on offset\n",
    "\n",
    "f=open(\"E://rohan//CSE 5//ZENSAR//ZENSAR//PYTHON//New folder//loco.txt\",\"r\")\n",
    "print(f.read())\n"
   ]
  },
  {
   "cell_type": "code",
   "execution_count": 34,
   "metadata": {},
   "outputs": [
    {
     "name": "stdout",
     "output_type": "stream",
     "text": [
      "id,name,number\n",
      "1,Thor,7276872664\n",
      "2,Loki,7276872664\n",
      "3,Hela,7276872664\n",
      "\n"
     ]
    }
   ],
   "source": [
    "f=open(\"E://rohan//CSE 5//ZENSAR//ZENSAR//PYTHON//New folder//csvi.csv\",\"r\")\n",
    "print(f.read())"
   ]
  },
  {
   "cell_type": "code",
   "execution_count": 30,
   "metadata": {},
   "outputs": [],
   "source": [
    "#encoding==UTF8\n",
    "\n",
    "with open(\"E://rohan//CSE 5//ZENSAR//ZENSAR//PYTHON//New folder//loco.txt\",\"w\",encoding=\"utf-8\") as f:\n",
    "    f.write(\"pandas are well\")"
   ]
  },
  {
   "cell_type": "code",
   "execution_count": 38,
   "metadata": {},
   "outputs": [
    {
     "name": "stdout",
     "output_type": "stream",
     "text": [
      "id name number\n",
      "1 Thor 7276872664\n",
      "2 Loki 7276872664\n",
      "3 Hela 7276872664\n"
     ]
    }
   ],
   "source": [
    "#csv reader\n",
    "import csv\n",
    "f=open(\"E://rohan//CSE 5//ZENSAR//ZENSAR//PYTHON//New folder//csvi.csv\")\n",
    "cf=('id','name','number')\n",
    "rdr=csv.DictReader(f,cf)\n",
    "for r in rdr:\n",
    "    print(r[\"id\"],r[\"name\"],r[\"number\"],)"
   ]
  },
  {
   "cell_type": "code",
   "execution_count": 42,
   "metadata": {},
   "outputs": [
    {
     "name": "stdout",
     "output_type": "stream",
     "text": [
      "Asgard\n",
      "21\n"
     ]
    }
   ],
   "source": [
    "#jsonreader\n",
    "import json\n",
    "x='{\"name\":\"Pandas\",\"age\":21,\"city\":\"Asgard\"}'\n",
    "y=json.loads(x)\n",
    "print(y[\"city\"])\n",
    "print(y[\"age\"])"
   ]
  },
  {
   "cell_type": "code",
   "execution_count": 49,
   "metadata": {},
   "outputs": [
    {
     "name": "stdout",
     "output_type": "stream",
     "text": [
      "Person name: 1\n",
      "name :  Thor\n",
      "age :  21\n",
      "city :  Asgard\n",
      "Person name: 2\n",
      "name :  Loki\n",
      "age :  19\n",
      "city :  Asgard\n"
     ]
    }
   ],
   "source": [
    "#json complex\n",
    "import json\n",
    "peo={1:{\"name\":\"Thor\",\"age\":21,\"city\":\"Asgard\"},\n",
    "     2:{\"name\":\"Loki\",\"age\":19,\"city\":\"Asgard\"}}\n",
    "for pname,page in peo.items():\n",
    "    print(\"Person name:\",pname)\n",
    "    for k in page:\n",
    "        print(k+\" : \",page[k])"
   ]
  },
  {
   "cell_type": "code",
   "execution_count": 60,
   "metadata": {},
   "outputs": [
    {
     "name": "stdout",
     "output_type": "stream",
     "text": [
      "{\n",
      " \"id\": \"id\",\n",
      " \"name\": \"name\",\n",
      " \"number\": \"number\"\n",
      "}\n",
      "{\n",
      " \"id\": \"1\",\n",
      " \"name\": \"Thor\",\n",
      " \"number\": \"7276872664\"\n",
      "}\n",
      "{\n",
      " \"id\": \"2\",\n",
      " \"name\": \"Loki\",\n",
      " \"number\": \"7276872664\"\n",
      "}\n",
      "{\n",
      " \"id\": \"3\",\n",
      " \"name\": \"Hela\",\n",
      " \"number\": \"7276872664\"\n",
      "}\n"
     ]
    }
   ],
   "source": [
    "#json to csv\n",
    "\n",
    "import csv\n",
    "import json\n",
    "\n",
    "csvfile = open(\"E://rohan//CSE 5//ZENSAR//ZENSAR//PYTHON//New folder//csvi.csv\")\n",
    "\n",
    "\n",
    "reader = csv.DictReader( csvfile, ('id','name','number'))\n",
    "for row in reader:\n",
    "    print(json.dumps(row,indent=1,sort_keys=True))"
   ]
  },
  {
   "cell_type": "code",
   "execution_count": 54,
   "metadata": {},
   "outputs": [
    {
     "name": "stdout",
     "output_type": "stream",
     "text": [
      "{\n",
      " \"Id\"--1234-\n",
      " \"Ip6\"--123456789\n",
      "}\n"
     ]
    }
   ],
   "source": [
    "#object to json\n",
    "import json\n",
    "data={\"Id\":1234,\"Ip6\":123456789}\n",
    "js=json.dumps(data,indent=1,separators=(\"-\",\"--\"),sort_keys=True)\n",
    "print(js)"
   ]
  },
  {
   "cell_type": "code",
   "execution_count": 61,
   "metadata": {},
   "outputs": [
    {
     "name": "stdout",
     "output_type": "stream",
     "text": [
      "100000\n"
     ]
    }
   ],
   "source": [
    "#ad features\n",
    "sf=100_000\n",
    "print(sf)"
   ]
  },
  {
   "cell_type": "code",
   "execution_count": 62,
   "metadata": {},
   "outputs": [
    {
     "name": "stdout",
     "output_type": "stream",
     "text": [
      "five plus tehn is (a+b) and not 50.\n"
     ]
    }
   ],
   "source": [
    "a=5\n",
    "b=20\n",
    "print(f'five plus tehn is (a+b) and not {2*(a+b)}.')"
   ]
  },
  {
   "cell_type": "code",
   "execution_count": 63,
   "metadata": {},
   "outputs": [
    {
     "name": "stdout",
     "output_type": "stream",
     "text": [
      "welcome,pandas!\n"
     ]
    }
   ],
   "source": [
    "#string\n",
    "name=\"pandas\"\n",
    "print(f\"welcome,{name}!\")"
   ]
  },
  {
   "cell_type": "code",
   "execution_count": 64,
   "metadata": {},
   "outputs": [
    {
     "name": "stdout",
     "output_type": "stream",
     "text": [
      "pero defines and error :0x3eed082fdc1\n"
     ]
    }
   ],
   "source": [
    "#floating\n",
    "e=4324235345345\n",
    "print(f'pero defines and error :{e:#x}')"
   ]
  },
  {
   "cell_type": "code",
   "execution_count": 68,
   "metadata": {},
   "outputs": [
    {
     "name": "stdout",
     "output_type": "stream",
     "text": [
      "0 1 [2, 3, 4, 5, 6, 7, 8, 9]\n",
      "[0, 1, 2, 3, 4, 5, 6, 7, 8] 9\n"
     ]
    }
   ],
   "source": [
    "a,d,*rs=range(10)\n",
    "print(a,d,rs)\n",
    "*s,x=range(10)\n",
    "print(s,x)"
   ]
  },
  {
   "cell_type": "code",
   "execution_count": null,
   "metadata": {},
   "outputs": [],
   "source": []
  }
 ],
 "metadata": {
  "kernelspec": {
   "display_name": "Python 3",
   "language": "python",
   "name": "python3"
  },
  "language_info": {
   "codemirror_mode": {
    "name": "ipython",
    "version": 3
   },
   "file_extension": ".py",
   "mimetype": "text/x-python",
   "name": "python",
   "nbconvert_exporter": "python",
   "pygments_lexer": "ipython3",
   "version": "3.7.3"
  }
 },
 "nbformat": 4,
 "nbformat_minor": 2
}
