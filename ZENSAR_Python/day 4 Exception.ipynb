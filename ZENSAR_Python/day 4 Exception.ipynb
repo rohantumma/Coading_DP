{
 "cells": [
  {
   "cell_type": "code",
   "execution_count": 40,
   "metadata": {},
   "outputs": [
    {
     "data": {
      "text/plain": [
       "'\\nIndentationError\\nRaised when indentation is not specified properly.\\n'"
      ]
     },
     "execution_count": 40,
     "metadata": {},
     "output_type": "execute_result"
    }
   ],
   "source": [
    "\"\"\"\n",
    "IndentationError\n",
    "Raised when indentation is not specified properly.\n",
    "\"\"\""
   ]
  },
  {
   "cell_type": "code",
   "execution_count": 8,
   "metadata": {},
   "outputs": [
    {
     "name": "stdout",
     "output_type": "stream",
     "text": [
      "value of b can't be zero\n"
     ]
    }
   ],
   "source": [
    "a=10\n",
    "b=0\n",
    "try:\n",
    "    c=a/b\n",
    "except ZeroDivisionError:\n",
    "    print(\"value of b can't be zero\")"
   ]
  },
  {
   "cell_type": "code",
   "execution_count": 27,
   "metadata": {},
   "outputs": [
    {
     "name": "stdout",
     "output_type": "stream",
     "text": [
      "NO Exception\n"
     ]
    }
   ],
   "source": [
    "a=10\n",
    "b=0\n",
    "try:\n",
    "    c=a/a\n",
    "except Exception:\n",
    "    print(\"value of b can't be zero\")\n",
    "else:#executed when no exp occor in try block\n",
    "    print(\"NO Exception\")"
   ]
  },
  {
   "cell_type": "code",
   "execution_count": 36,
   "metadata": {},
   "outputs": [
    {
     "name": "stdout",
     "output_type": "stream",
     "text": [
      " error is occored \n",
      " not writable\n"
     ]
    }
   ],
   "source": [
    "#file not exp\n",
    "try:\n",
    "    file=open(\"E://rohan//CSE 5//ZENSAR//ZENSAR//PYTHON//New folder//loco.txt\",\"r\")\n",
    "    try:\n",
    "        file.write(\"loco\");\n",
    "    finally:\n",
    "        file.close()\n",
    "except Exception as e:\n",
    "    print(\" error is occored \\n\",e)"
   ]
  },
  {
   "cell_type": "code",
   "execution_count": 38,
   "metadata": {},
   "outputs": [
    {
     "name": "stdout",
     "output_type": "stream",
     "text": [
      "enter age44\n",
      "you are well aged\n"
     ]
    }
   ],
   "source": [
    "#raise same like in java throw\n",
    "try:\n",
    "    age=int(input(\"enter age\"))\n",
    "    if (age<18):\n",
    "        raise ValueError\n",
    "    else:\n",
    "        print('you are well aged')\n",
    "except Exception as e:\n",
    "    print(\"you are under aged\",e)\n"
   ]
  },
  {
   "cell_type": "code",
   "execution_count": 30,
   "metadata": {},
   "outputs": [],
   "source": [
    "#modlues in python"
   ]
  },
  {
   "cell_type": "code",
   "execution_count": 42,
   "metadata": {},
   "outputs": [
    {
     "name": "stdout",
     "output_type": "stream",
     "text": [
      "enter a:3\n",
      "enter b:4\n"
     ]
    },
    {
     "data": {
      "text/plain": [
       "7"
      ]
     },
     "execution_count": 42,
     "metadata": {},
     "output_type": "execute_result"
    }
   ],
   "source": [
    "def add(a,b):\n",
    "    return(a+b)\n",
    "def mul(a,b):\n",
    "    return(a*b)\n",
    "def sub(a,b):\n",
    "    return(a-b)\n",
    "def div(a,b):\n",
    "    return(int(a/b))\n",
    "\n"
   ]
  },
  {
   "cell_type": "code",
   "execution_count": 44,
   "metadata": {},
   "outputs": [
    {
     "name": "stdout",
     "output_type": "stream",
     "text": [
      "enter a:e\n"
     ]
    },
    {
     "ename": "ValueError",
     "evalue": "invalid literal for int() with base 10: 'e'",
     "output_type": "error",
     "traceback": [
      "\u001b[1;31m---------------------------------------------------------------------------\u001b[0m",
      "\u001b[1;31mValueError\u001b[0m                                Traceback (most recent call last)",
      "\u001b[1;32m<ipython-input-44-6ca5065fc742>\u001b[0m in \u001b[0;36m<module>\u001b[1;34m\u001b[0m\n\u001b[1;32m----> 1\u001b[1;33m \u001b[0ma\u001b[0m\u001b[1;33m=\u001b[0m\u001b[0mint\u001b[0m\u001b[1;33m(\u001b[0m\u001b[0minput\u001b[0m\u001b[1;33m(\u001b[0m\u001b[1;34m\"enter a:\"\u001b[0m\u001b[1;33m)\u001b[0m\u001b[1;33m)\u001b[0m\u001b[1;33m\u001b[0m\u001b[1;33m\u001b[0m\u001b[0m\n\u001b[0m\u001b[0;32m      2\u001b[0m \u001b[0mb\u001b[0m\u001b[1;33m=\u001b[0m\u001b[0mint\u001b[0m\u001b[1;33m(\u001b[0m\u001b[0minput\u001b[0m\u001b[1;33m(\u001b[0m\u001b[1;34m\"enter b:\"\u001b[0m\u001b[1;33m)\u001b[0m\u001b[1;33m)\u001b[0m\u001b[1;33m\u001b[0m\u001b[1;33m\u001b[0m\u001b[0m\n\u001b[0;32m      3\u001b[0m \u001b[0madd\u001b[0m\u001b[1;33m(\u001b[0m\u001b[0ma\u001b[0m\u001b[1;33m,\u001b[0m\u001b[0mb\u001b[0m\u001b[1;33m)\u001b[0m\u001b[1;33m\u001b[0m\u001b[1;33m\u001b[0m\u001b[0m\n",
      "\u001b[1;31mValueError\u001b[0m: invalid literal for int() with base 10: 'e'"
     ]
    }
   ],
   "source": [
    "a=int(input(\"enter a:\"))\n",
    "b=int(input(\"enter b:\"))\n",
    "add(a,b) "
   ]
  },
  {
   "cell_type": "code",
   "execution_count": 50,
   "metadata": {},
   "outputs": [
    {
     "name": "stdout",
     "output_type": "stream",
     "text": [
      "ModuleNotFoundError\n"
     ]
    }
   ],
   "source": [
    "try:\n",
    "    import cal as c\n",
    "\n",
    "    a=int(input(\"enter a:\"))\n",
    "    b=int(input(\"enter b:\"))\n",
    "\n",
    "    print(\"\\nadd:\",c.add(a,b))\n",
    "    print(\"\\nmul:\",c.mul(a,b))\n",
    "    print(\"\\nsub:\",c.sub(a,b))\n",
    "    if a<b:\n",
    "        raise ValueError\n",
    "    else:\n",
    "        print(\"\\ndiv:\",c.div(a,b))\n",
    "except ValueError:\n",
    "    print(\"a is smaller\")\n",
    "except ModuleNotFoundError:\n",
    "    print(\"ModuleNotFoundError\")"
   ]
  },
  {
   "cell_type": "code",
   "execution_count": 52,
   "metadata": {},
   "outputs": [],
   "source": [
    "file=open(\"E://rohan//CSE 5//ZENSAR//ZENSAR//PYTHON//New folder//loco.txt\",\"r\")\n",
    "try:\n",
    "    pfile.readline()\n",
    "finally:\n",
    "    file.close()"
   ]
  },
  {
   "cell_type": "code",
   "execution_count": 55,
   "metadata": {},
   "outputs": [
    {
     "name": "stdout",
     "output_type": "stream",
     "text": [
      "11\n",
      "\n",
      "22\n"
     ]
    }
   ],
   "source": [
    "fileopen\n",
    "with open(\"E://rohan//CSE 5//ZENSAR//ZENSAR//PYTHON//New folder//loco.txt\",\"r\") as f:\n",
    "    d=f.readlines()\n",
    "    for s in d:\n",
    "        print(s)"
   ]
  },
  {
   "cell_type": "code",
   "execution_count": 105,
   "metadata": {},
   "outputs": [],
   "source": [
    "def cla():\n",
    "    count=0\n",
    "    w=0\n",
    "    with open(\"E://rohan//CSE 5//ZENSAR//ZENSAR//PYTHON//New folder//loco.txt\",\"r\") as f:\n",
    "        d=f.readlines()\n",
    "        for s in d:\n",
    "            if s.isdigit():\n",
    "                count+=1\n",
    "                print(s)\n",
    "                for i in s:\n",
    "                    if i=='w':\n",
    "                        w+=1\n",
    "    return count,w"
   ]
  },
  {
   "cell_type": "code",
   "execution_count": 106,
   "metadata": {},
   "outputs": [
    {
     "name": "stdout",
     "output_type": "stream",
     "text": [
      "no of line: 0 count of w: 0\n"
     ]
    }
   ],
   "source": [
    "print(\"no of line:\",cla()[0],\"count of w:\",cla()[1])"
   ]
  },
  {
   "cell_type": "code",
   "execution_count": 107,
   "metadata": {},
   "outputs": [],
   "source": [
    "def cla():\n",
    "    count=0\n",
    "    w=0\n",
    "    with open(\"E://rohan//CSE 5//ZENSAR//ZENSAR//PYTHON//New folder//loco.txt\",\"r\") as f:\n",
    "        d=f.readlines()\n",
    "        for s in d:\n",
    "            count+=1\n",
    "            print(s)\n",
    "            for i in s:\n",
    "                if i=='w':\n",
    "                    w+=1\n",
    "    return count,w"
   ]
  },
  {
   "cell_type": "code",
   "execution_count": 108,
   "metadata": {},
   "outputs": [
    {
     "name": "stdout",
     "output_type": "stream",
     "text": [
      "no of line: 0 count of w: 0\n"
     ]
    }
   ],
   "source": [
    "print(\"no of line:\",cla()[0],\"count of w:\",cla()[1])"
   ]
  },
  {
   "cell_type": "code",
   "execution_count": 109,
   "metadata": {},
   "outputs": [],
   "source": [
    "def cla():\n",
    "    fi=open(\"E://rohan//CSE 5//ZENSAR//ZENSAR//PYTHON//New folder//tt.txt\",\"a\")\n",
    "    with open(\"E://rohan//CSE 5//ZENSAR//ZENSAR//PYTHON//New folder//loco.txt\",\"r\") as f:\n",
    "        d=f.readlines()\n",
    "        for s in d:\n",
    "            fi.write(s)"
   ]
  },
  {
   "cell_type": "code",
   "execution_count": 111,
   "metadata": {},
   "outputs": [],
   "source": [
    "cla()"
   ]
  },
  {
   "cell_type": "code",
   "execution_count": 116,
   "metadata": {},
   "outputs": [
    {
     "name": "stdout",
     "output_type": "stream",
     "text": [
      "Blank spaces: 9\n"
     ]
    }
   ],
   "source": [
    "j=0\n",
    "with open(\"E://rohan//CSE 5//ZENSAR//ZENSAR//PYTHON//New folder//loco.txt\",\"r\") as f:\n",
    "    d=f.readlines()\n",
    "    for s in d:\n",
    "        w=s.split()\n",
    "        j=j+len(w)-1\n",
    "        #print(w)\n",
    "    print(\"Blank spaces:\",j)"
   ]
  },
  {
   "cell_type": "code",
   "execution_count": 117,
   "metadata": {},
   "outputs": [],
   "source": [
    "#2pm"
   ]
  },
  {
   "cell_type": "code",
   "execution_count": null,
   "metadata": {},
   "outputs": [],
   "source": []
  }
 ],
 "metadata": {
  "kernelspec": {
   "display_name": "Python 3",
   "language": "python",
   "name": "python3"
  },
  "language_info": {
   "codemirror_mode": {
    "name": "ipython",
    "version": 3
   },
   "file_extension": ".py",
   "mimetype": "text/x-python",
   "name": "python",
   "nbconvert_exporter": "python",
   "pygments_lexer": "ipython3",
   "version": "3.7.3"
  }
 },
 "nbformat": 4,
 "nbformat_minor": 2
}
