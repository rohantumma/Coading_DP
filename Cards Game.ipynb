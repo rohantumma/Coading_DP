{
 "cells": [
  {
   "cell_type": "code",
   "execution_count": 2,
   "metadata": {},
   "outputs": [
    {
     "name": "stdout",
     "output_type": "stream",
     "text": [
      "Enter an integer to seed the random number generator:\n",
      "5\n",
      "#######################\n",
      "PP== {'King': 1, 'Queen': 2, 'Jack': 3, '10': 4, '9': 5, '8': 6, '7': 7, '6': 8, '5': 9, '4': 10, '3': 11, '2': 12, 'Ace': 13, None: 14}\n",
      "{'Clubs': 'Clubs', 'Diamonds': 'Diamonds', 'Hearts': 'Hearts', 'Spades': 'Spades'}\n",
      "Deck! 3 of Spades\n",
      "King of Diamonds\n",
      "8 of Clubs\n",
      "3 of Diamonds\n",
      "9 of Hearts\n",
      "King of Hearts\n",
      "10 of Clubs\n",
      "Queen of Diamonds\n",
      "4 of Clubs\n",
      "Queen of Hearts\n",
      "King of Clubs\n",
      "8 of Hearts\n",
      "Queen of Spades\n",
      "5 of Diamonds\n",
      "Ace of Spades\n",
      "Ace of Diamonds\n",
      "10 of Hearts\n",
      "9 of Spades\n",
      "6 of Hearts\n",
      "4 of Spades\n",
      "Jack of Diamonds\n",
      "9 of Clubs\n",
      "Jack of Clubs\n",
      "3 of Hearts\n",
      "7 of Clubs\n",
      "5 of Clubs\n",
      "8 of Diamonds\n",
      "3 of Clubs\n",
      "5 of Spades\n",
      "8 of Spades\n",
      "2 of Clubs\n",
      "6 of Clubs\n",
      "7 of Hearts\n",
      "9 of Diamonds\n",
      "Jack of Spades\n",
      "2 of Diamonds\n",
      "4 of Diamonds\n",
      "Jack of Hearts\n",
      "2 of Spades\n",
      "Ace of Clubs\n",
      "King of Spades\n",
      "4 of Hearts\n",
      "6 of Diamonds\n",
      "7 of Spades\n",
      "10 of Spades\n",
      "2 of Hearts\n",
      "10 of Diamonds\n",
      "7 of Diamonds\n",
      "Queen of Clubs\n",
      "6 of Spades\n",
      "5 of Hearts\n",
      "Ace of Hearts\n"
     ]
    }
   ],
   "source": [
    "import random\n",
    "\n",
    "class Card:\n",
    "    suit_names = [\"Clubs\", \"Diamonds\", \"Hearts\", \"Spades\"]\n",
    "    rank_names = [None, \"Ace\", \"2\", \"3\", \"4\", \"5\", \"6\", \"7\",\n",
    "    \"8\", \"9\", \"10\", \"Jack\", \"Queen\", \"King\"]\n",
    "    def __init__(self, suit=0, rank=2):\n",
    "        self.suit = suit\n",
    "        self.rank = rank\n",
    "    def __str__(self):\n",
    "        return '%s of %s' % (Card.rank_names[self.rank],\n",
    "        Card.suit_names[self.suit])\n",
    "    def __eq__(self, other):\n",
    "        # Check if self and other have the same suit and rank\n",
    "        return self.suit == other.suit and self.rank == other.rank\n",
    "    def __lt__(self, other):\n",
    "        \"\"\"Compare the card self to other, first by suit, then by rank\"\"\"\n",
    "        # Create tuples from our cards, then compare tuples\n",
    "        t1 = self.suit, self.rank\n",
    "        t2 = other.suit, other.rank\n",
    "        return t1 < t2\n",
    "class Deck:\n",
    "    def __init__(self):\n",
    "        self.cards = []\n",
    "        for suit in range(4):\n",
    "            for rank in range(1, 14):\n",
    "                card = Card(suit, rank)\n",
    "                self.cards.append(card)\n",
    "    def __str__(self):\n",
    "        res = []\n",
    "        for card in self.cards:\n",
    "            res.append(str(card))\n",
    "        return \"\\n\".join(res)\n",
    "    def remove_card(self, card):\n",
    "        \"\"\"Removes a specific card from a deck\"\"\"\n",
    "        self.cards.remove(card)\n",
    "    def add_card(self, card):\n",
    "        self.cards.append(card)\n",
    "    def deal_card(self, i=0):\n",
    "        \"\"\"Removes and returns a card from the deck.\n",
    "        i: index of the card to deal. By default, deal the first card\"\"\"\n",
    "        return self.cards.pop(i)\n",
    "    def shuffle(self):\n",
    "        random.shuffle(self.cards)\n",
    "\n",
    "if __name__ == '__main__':\n",
    "    print(\"Enter an integer to seed the random number generator:\")\n",
    "    seed = int(input())\n",
    "    deck = Deck()\n",
    "    deck.shuffle()\n",
    "    priority_dict = {}\n",
    "    print(\"#######################\")\n",
    "    ranks = Card.rank_names\n",
    "    priority = 1\n",
    "    for i in ranks[::-1]:\n",
    "        priority_dict[i] = priority\n",
    "        priority+=1\n",
    "    print(\"PP==\",priority_dict)\n",
    "    suits_dict={}\n",
    "    for i in Card.suit_names:\n",
    "        suits_dict[i]=i\n",
    "    print(suits_dict)\n",
    "    print(\"Deck!\",deck)"
   ]
  },
  {
   "cell_type": "markdown",
   "metadata": {},
   "source": [
    "#  start from here"
   ]
  },
  {
   "cell_type": "code",
   "execution_count": 242,
   "metadata": {},
   "outputs": [],
   "source": [
    "cards=[\"A of Clubs\",\"2 of Clubs\",\"3 of Clubs\",\"4 of Clubs\",\"5 of Clubs\",\"6 of Clubs\",\"7 of Clubs\",\"8 of Clubs\",\"9 of Clubs\",\"10 of Clubs\"\n",
    "      ,\"A of Diamonds\",\"2 of Diamonds\",\"3 of Diamonds\",\"4 of Diamonds\",\"5 of Diamonds\",\"6 of Diamonds\",\"7 of Diamonds\",\"8 of Diamonds\",\"9 of Diamonds\",\"10 of Diamonds\"\n",
    "      ,\"A of Hearts\",\"2 of Hearts\",\"3 of Hearts\",\"4 of Hearts\",\"5 of Hearts\",\"6 of Hearts\",\"7 of Hearts\",\"8 of Hearts\",\"9 of Hearts\",\"10 of Hearts\"\n",
    "      ,\"A of Spades\",\"2 of Spades\",\"3 of Spades\",\"4 of Spades\",\"5 of Spades\",\"6 of Spades\",\"7 of Spades\",\"8 of Spades\",\"9 of Spades\",\"10 of Spades\"\n",
    "      ,\"Jack of Clubs\",\"Jack of Diamonds\",\"Jack of Hearts\",\"Jack of Spades\"\n",
    "      ,\"Queen of Clubs\",\"Queen of Diamonds\",\"Queen of Hearts\",\"Queen of Spades\"\n",
    "      ,\"King of Clubs\",\"King of Diamonds\",\"King of Hearts\",\"King of Spades\"\n",
    "      ]\n",
    "\n",
    "cards_prio={'Clubs': 5, \n",
    "            'Diamonds': 5, \n",
    "            'Hearts': 5, \n",
    "            'Spades': 5 ,\n",
    "            'Jack': 4,\n",
    "            'Queen': 3 ,\n",
    "            'King': 2 ,\n",
    "            'A': 1\n",
    "           }"
   ]
  },
  {
   "cell_type": "code",
   "execution_count": 243,
   "metadata": {},
   "outputs": [],
   "source": [
    "import random"
   ]
  },
  {
   "cell_type": "code",
   "execution_count": 244,
   "metadata": {},
   "outputs": [],
   "source": [
    "random.shuffle(cards)"
   ]
  },
  {
   "cell_type": "code",
   "execution_count": 245,
   "metadata": {},
   "outputs": [
    {
     "name": "stdout",
     "output_type": "stream",
     "text": [
      "['King of Hearts', '6 of Spades', '7 of Clubs', 'Queen of Diamonds', 'Jack of Hearts', '2 of Diamonds', '10 of Diamonds', '4 of Spades', 'Queen of Spades', '8 of Hearts', '2 of Clubs', '9 of Diamonds', '5 of Spades', '7 of Hearts', '3 of Diamonds', '7 of Spades', '8 of Spades', '6 of Diamonds', '5 of Clubs', '3 of Clubs', 'Jack of Spades', 'King of Spades', '10 of Spades', '8 of Diamonds', '8 of Clubs', '5 of Hearts', '6 of Hearts', '3 of Spades', 'A of Diamonds', '4 of Diamonds', 'King of Clubs', '4 of Hearts', '3 of Hearts', '2 of Hearts', '9 of Spades', 'A of Clubs', '7 of Diamonds', 'A of Spades', 'Jack of Clubs', '9 of Clubs', '4 of Clubs', '10 of Clubs', 'Queen of Hearts', '10 of Hearts', 'King of Diamonds', 'Queen of Clubs', 'Jack of Diamonds', '5 of Diamonds', '9 of Hearts', 'A of Hearts', '2 of Spades', '6 of Clubs']\n"
     ]
    }
   ],
   "source": [
    "print(cards)"
   ]
  },
  {
   "cell_type": "code",
   "execution_count": 246,
   "metadata": {},
   "outputs": [],
   "source": [
    "c1=cards[:26]\n",
    "c2=cards[26:]"
   ]
  },
  {
   "cell_type": "code",
   "execution_count": 247,
   "metadata": {},
   "outputs": [
    {
     "name": "stdout",
     "output_type": "stream",
     "text": [
      "['King of Hearts', '6 of Spades', '7 of Clubs', 'Queen of Diamonds', 'Jack of Hearts', '2 of Diamonds', '10 of Diamonds', '4 of Spades', 'Queen of Spades', '8 of Hearts', '2 of Clubs', '9 of Diamonds', '5 of Spades', '7 of Hearts', '3 of Diamonds', '7 of Spades', '8 of Spades', '6 of Diamonds', '5 of Clubs', '3 of Clubs', 'Jack of Spades', 'King of Spades', '10 of Spades', '8 of Diamonds', '8 of Clubs', '5 of Hearts'] 26\n"
     ]
    }
   ],
   "source": [
    "print(c1,len(c1))"
   ]
  },
  {
   "cell_type": "code",
   "execution_count": 248,
   "metadata": {},
   "outputs": [
    {
     "name": "stdout",
     "output_type": "stream",
     "text": [
      "['6 of Hearts', '3 of Spades', 'A of Diamonds', '4 of Diamonds', 'King of Clubs', '4 of Hearts', '3 of Hearts', '2 of Hearts', '9 of Spades', 'A of Clubs', '7 of Diamonds', 'A of Spades', 'Jack of Clubs', '9 of Clubs', '4 of Clubs', '10 of Clubs', 'Queen of Hearts', '10 of Hearts', 'King of Diamonds', 'Queen of Clubs', 'Jack of Diamonds', '5 of Diamonds', '9 of Hearts', 'A of Hearts', '2 of Spades', '6 of Clubs'] 26\n"
     ]
    }
   ],
   "source": [
    "print(c2,len(c2))"
   ]
  },
  {
   "cell_type": "code",
   "execution_count": 236,
   "metadata": {
    "scrolled": true
   },
   "outputs": [
    {
     "name": "stdout",
     "output_type": "stream",
     "text": [
      "26 26\n",
      "25 25\n",
      "['5', 'of', 'Diamonds']\n",
      "['9', 'of', 'Spades']\n",
      "***\n"
     ]
    }
   ],
   "source": [
    "# challenge function\n",
    "# c1 - Donald(cards)  c2- joe(cards)\n",
    "def drow(c1, c2):\n",
    "    print(\"drow1\")\n",
    "    li=[]\n",
    "    if len(c1)>4:\n",
    "        for i in range(0,4,1):\n",
    "            li.append(c1.pop(i))\n",
    "        print(print(\"-**\"),li)\n",
    "    else:\n",
    "        joe[\"Challenges\"]+=1\n",
    "    if len(c2)>4:\n",
    "        for i in range(0,4,1):\n",
    "            li.append(c2(i))\n",
    "        print(print(\"-***\"),li)\n",
    "    else:\n",
    "        Donald[\"Challenges\"]+=1\n",
    "    return li\n",
    "        \n",
    "    \n",
    "# Main function \n",
    "# 1st play by donald by default \n",
    "# t1, t2 - card1 and card2 of c1 and c2\n",
    "def match(c1, c2):\n",
    "    t1 = c1[0].split(\" \") \n",
    "    t2 = c2[0].split(\" \")\n",
    "    print(len(c1),len(c2))\n",
    "    c1.remove(c1[0])\n",
    "    c2.remove(c2[0])\n",
    "    print(len(c1),len(c2))\n",
    "    print(t1)\n",
    "    print(t2)\n",
    "    \n",
    "    # j1- donald card rank  j2-joe card rank\n",
    "    j1 = 0\n",
    "    j2 = 0\n",
    "    \n",
    "    #aa- donald flag(number-0 or spl card-1)  \n",
    "    #bb- joe flag(number-0 or spl card-1)\n",
    "    aa = 0\n",
    "    bb = 0\n",
    "    \n",
    "    #w1- donald flag for winner\n",
    "    #w2- joe flag for wimmer\n",
    "    w1 = 0\n",
    "    w2 = 0\n",
    "    \n",
    "    #draw container for 8 cards appending\n",
    "    li = 0\n",
    "    \n",
    "    if (t1[0].isdigit()):\n",
    "        aa=0\n",
    "        j1=int(t1[0])\n",
    "    else:\n",
    "        aa=1\n",
    "        j1=cards_prio[t1[0]] #2\n",
    "    \n",
    "    if (t2[0].isdigit()):\n",
    "        bb=0\n",
    "        j1=int(t2[0])\n",
    "    else:\n",
    "        bb=1\n",
    "        j1=cards_prio[t2[0]] #'jack'\n",
    "        \n",
    "    if (aa==0) and (bb==0) or (aa==1) and (bb==1):\n",
    "        if j1 < j2:\n",
    "            print(\"**\")\n",
    "            Donald['Tricks']+=1\n",
    "            w1 = 1\n",
    "        elif j1 > j2:\n",
    "            print(\"***\")\n",
    "            w2 = 1 \n",
    "            joe['Tricks']+=1\n",
    "        else:\n",
    "            print(\"****\")\n",
    "            li=drow(c1,c2) \n",
    "            match(li[-2], li[-1])\n",
    "            \n",
    "            \n",
    "    elif (aa==0) and (bb==1):\n",
    "        if j1 == 1 and j2 == 2:\n",
    "            w1 = 1\n",
    "            Donald['Tricks']+=1\n",
    "            Donald['Aces']+=1\n",
    "        elif j1 ==2 and j2 == 1:\n",
    "            w2 = 1\n",
    "            joe['Tricks']+=1\n",
    "            joe['Aces']+=1\n",
    "        else:\n",
    "            w2 = 1\n",
    "            joe['Tricks']+=1\n",
    "            \n",
    "    elif (aa==1) and (bb==0):\n",
    "        print(\"-\")\n",
    "        if j1 == 1 and j2 == 2:\n",
    "            print(\"*-\")\n",
    "            w1 = 1\n",
    "            Donald['Tricks']+=1\n",
    "            Donald['Aces']+=1\n",
    "        elif j1 ==2 and j2 == 1:\n",
    "            print(\"*--\")\n",
    "            w2 = 1\n",
    "            joe['Tricks']+=1\n",
    "            joe['Aces']+=1\n",
    "        else:\n",
    "            print(\"*---\")\n",
    "            w1 = 1\n",
    "            Donald['Tricks']+=1\n",
    "    if w1 == 1:\n",
    "        if li == 0:\n",
    "            c1.append(\" \".join(t1))\n",
    "            c1.append(\" \".join(t2))\n",
    "            \n",
    "        else:\n",
    "            for i in range(0,len(li),1):\n",
    "                c1.append(li[i])\n",
    "    if w2 == 1:\n",
    "        if li == 0:\n",
    "            c2.append(\" \".join(t1))\n",
    "            c2.append(\" \".join(t2))\n",
    "        else:\n",
    "            for i in range(0,len(li),1):\n",
    "                c2.append(li[i])\n",
    "        \n",
    "\n",
    "Donald={\"Tricks\":0, \"Challenges\": 0, \"Aces\": 0}\n",
    "joe={\"Tricks\":0, \"Challenges\": 0, \"Aces\": 0}\n",
    "\n",
    "match(c1, c2) "
   ]
  },
  {
   "cell_type": "markdown",
   "metadata": {},
   "source": [
    "Debug section"
   ]
  },
  {
   "cell_type": "code",
   "execution_count": 249,
   "metadata": {},
   "outputs": [
    {
     "name": "stdout",
     "output_type": "stream",
     "text": [
      "{'Tricks': 1, 'Challenges': 0, 'Aces': 0} {'Tricks': 2, 'Challenges': 0, 'Aces': 0}\n"
     ]
    }
   ],
   "source": [
    "print(Donald, joe)"
   ]
  },
  {
   "cell_type": "code",
   "execution_count": 240,
   "metadata": {},
   "outputs": [
    {
     "name": "stdout",
     "output_type": "stream",
     "text": [
      "26 26\n",
      "25 25\n",
      "['7', 'of', 'Clubs']\n",
      "['6', 'of', 'Hearts']\n",
      "***\n"
     ]
    }
   ],
   "source": [
    "match(c1, c2)"
   ]
  },
  {
   "cell_type": "code",
   "execution_count": 226,
   "metadata": {},
   "outputs": [
    {
     "name": "stdout",
     "output_type": "stream",
     "text": [
      "24 28\n"
     ]
    }
   ],
   "source": [
    "print(len(c1),len(c2))"
   ]
  },
  {
   "cell_type": "code",
   "execution_count": null,
   "metadata": {},
   "outputs": [],
   "source": []
  },
  {
   "cell_type": "code",
   "execution_count": null,
   "metadata": {},
   "outputs": [],
   "source": []
  }
 ],
 "metadata": {
  "kernelspec": {
   "display_name": "Python 3",
   "language": "python",
   "name": "python3"
  },
  "language_info": {
   "codemirror_mode": {
    "name": "ipython",
    "version": 3
   },
   "file_extension": ".py",
   "mimetype": "text/x-python",
   "name": "python",
   "nbconvert_exporter": "python",
   "pygments_lexer": "ipython3",
   "version": "3.7.3"
  }
 },
 "nbformat": 4,
 "nbformat_minor": 2
}
