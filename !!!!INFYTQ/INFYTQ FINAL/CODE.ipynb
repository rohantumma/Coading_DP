{
 "cells": [
  {
   "cell_type": "code",
   "execution_count": 9,
   "metadata": {},
   "outputs": [
    {
     "name": "stdout",
     "output_type": "stream",
     "text": [
      "{'a': 3, 'b': 2, 'c': 1, 'd': 1}\n",
      "a3b2c1d1"
     ]
    }
   ],
   "source": [
    "s=\"aabbcda\"\n",
    "d={}\n",
    "for i in s:\n",
    "    if i not in d:\n",
    "        d[i]=1\n",
    "    else:\n",
    "        d[i]+=1\n",
    "print(d)\n",
    "for k,v in d.items():\n",
    "    print(\"{}{}\".format(k,v),end=\"\")"
   ]
  },
  {
   "cell_type": "code",
   "execution_count": 57,
   "metadata": {},
   "outputs": [
    {
     "name": "stdout",
     "output_type": "stream",
     "text": [
      "{2: 'cat', 1: 'dog'}\n",
      "catcatdog"
     ]
    }
   ],
   "source": [
    "s=\"2cat1dog1plant\"\n",
    "t=0\n",
    "m=''\n",
    "d={}\n",
    "for i in range(0,len(s)):\n",
    "    if s[i].isdigit():\n",
    "        d[t]=m\n",
    "        m=''\n",
    "        t=int(s[i])\n",
    "    else:\n",
    "        m=m+s[i]\n",
    "del d[0]    \n",
    "print(d)\n",
    "for k,v in d.items():\n",
    "    for i in range(0,k):\n",
    "        print(v,end=\"\")"
   ]
  },
  {
   "cell_type": "code",
   "execution_count": null,
   "metadata": {},
   "outputs": [],
   "source": []
  }
 ],
 "metadata": {
  "kernelspec": {
   "display_name": "Python 3",
   "language": "python",
   "name": "python3"
  },
  "language_info": {
   "codemirror_mode": {
    "name": "ipython",
    "version": 3
   },
   "file_extension": ".py",
   "mimetype": "text/x-python",
   "name": "python",
   "nbconvert_exporter": "python",
   "pygments_lexer": "ipython3",
   "version": "3.7.3"
  }
 },
 "nbformat": 4,
 "nbformat_minor": 2
}
