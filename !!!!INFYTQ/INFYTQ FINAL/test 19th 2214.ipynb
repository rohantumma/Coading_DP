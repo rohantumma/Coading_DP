{
 "cells": [
  {
   "cell_type": "markdown",
   "metadata": {},
   "source": [
    "# 3)"
   ]
  },
  {
   "cell_type": "code",
   "execution_count": 9,
   "metadata": {},
   "outputs": [],
   "source": [
    "def display(color,name_list,*s):\n",
    "    pass\n",
    "\n",
    "display(\"brown\",\"Fluffy\",\"Snow\")\n",
    "\n",
    "def display(color,*s):\n",
    "    pass\n",
    "\n",
    "display(\"brown\",\"Fluffy\",\"Snow\")"
   ]
  },
  {
   "cell_type": "code",
   "execution_count": 10,
   "metadata": {},
   "outputs": [],
   "source": [
    "#dequeue"
   ]
  },
  {
   "cell_type": "code",
   "execution_count": 25,
   "metadata": {},
   "outputs": [],
   "source": [
    "#7)"
   ]
  },
  {
   "cell_type": "code",
   "execution_count": 23,
   "metadata": {},
   "outputs": [
    {
     "ename": "SyntaxError",
     "evalue": "invalid syntax (<ipython-input-23-f6a25d38c0c7>, line 8)",
     "output_type": "error",
     "traceback": [
      "\u001b[1;36m  File \u001b[1;32m\"<ipython-input-23-f6a25d38c0c7>\"\u001b[1;36m, line \u001b[1;32m8\u001b[0m\n\u001b[1;33m    output_queue.enqueue(0utput_queue.dequeue()+input_queue.dequeue())\u001b[0m\n\u001b[1;37m                                    ^\u001b[0m\n\u001b[1;31mSyntaxError\u001b[0m\u001b[1;31m:\u001b[0m invalid syntax\n"
     ]
    }
   ],
   "source": [
    "def fun(input_queue):\n",
    "    output_queue=Queue(16)\n",
    "    while(not input_queue.is_enpty()):\n",
    "        var=input_queue.dequeue()\n",
    "        if var<=5:\n",
    "            output_queue.enqueue(input_queue.dequeue()+1)\n",
    "        else:\n",
    "            output_queue.enqueue(0utput_queue.dequeue()+input_queue.dequeue())\n",
    "    return output_queue\n",
    "\n",
    "# ans =8,7,5"
   ]
  },
  {
   "cell_type": "code",
   "execution_count": 27,
   "metadata": {},
   "outputs": [
    {
     "name": "stdout",
     "output_type": "stream",
     "text": [
      "Disperse the product\n",
      "Function executed successfully\n"
     ]
    }
   ],
   "source": [
    "#8)\n",
    "def vend(money,idi):\n",
    "    if idi==101 and money:\n",
    "        print(\"Disperse the product\")\n",
    "    return (\"Function executed successfully\")\n",
    "mon=True\n",
    "idi=101\n",
    "print(vend(mon,idi))\n"
   ]
  },
  {
   "cell_type": "code",
   "execution_count": 53,
   "metadata": {},
   "outputs": [],
   "source": [
    "#(9)"
   ]
  },
  {
   "cell_type": "code",
   "execution_count": 52,
   "metadata": {},
   "outputs": [
    {
     "name": "stdout",
     "output_type": "stream",
     "text": [
      "NO\n"
     ]
    }
   ],
   "source": [
    "def v(num,ele):\n",
    "    low=0\n",
    "    high=len(num)-1\n",
    "    mid=int((low+high)/2)\n",
    "    while(num[mid]!=ele and low<high):\n",
    "        if (ele<num[mid]):#change should be here\n",
    "            low=mid+1\n",
    "        else:\n",
    "            high=mid-1\n",
    "        mid=int((low+high)/2)\n",
    "    if(ele==num[mid]):\n",
    "        print(\"yes\")\n",
    "    else:\n",
    "        print(\"NO\")\n",
    "v([8,7,6,5,4,3,2],0)\n",
    "\n",
    "#as the elements are sotred as decending order\n",
    "#answer will be line no 6 change as ele<num[mid]:\n",
    "    "
   ]
  },
  {
   "cell_type": "code",
   "execution_count": 64,
   "metadata": {},
   "outputs": [
    {
     "name": "stdout",
     "output_type": "stream",
     "text": [
      "invalid length inside class\n",
      "inside class\n",
      "outside class\n"
     ]
    }
   ],
   "source": [
    "#11)\n",
    "class InvalidLengthException(Exception):\n",
    "    pass\n",
    "class mo:\n",
    "    def __init__(self,no):\n",
    "        self.__mob__no=no\n",
    "    def val(self):\n",
    "        try:\n",
    "            if(len(self.__mob__no)!=10):\n",
    "                raise InvalidLengthException\n",
    "            else:\n",
    "                print(yes)\n",
    "        except InvalidLengthException:\n",
    "            print(\"invalid length inside class\")\n",
    "        print(\"inside class\")\n",
    "mob=mo(\"1234\")\n",
    "try:\n",
    "    mob.val()\n",
    "    print(\"outside class\")\n",
    "except InvalidLengthException:\n",
    "    print(\"Invad lengeth exp outside class\")\n",
    "    "
   ]
  },
  {
   "cell_type": "code",
   "execution_count": 85,
   "metadata": {},
   "outputs": [
    {
     "name": "stdout",
     "output_type": "stream",
     "text": [
      "[20, 5, 10, 22, 35, 14]\n",
      "14\n",
      "[20, 5, 10, 22, 35]\n",
      "14\n",
      "rr [20, 5, 10, 22, 35]\n",
      "[20, 5, 10, 22]\n",
      "[70]\n",
      "[20, 5, 10]\n",
      "[20, 5, 10]\n",
      "10\n",
      "yes\n",
      "[20, 5]\n",
      "5\n",
      "yes\n",
      "[20]\n",
      "20\n",
      "yes\n"
     ]
    },
    {
     "data": {
      "text/plain": [
       "[70]"
      ]
     },
     "execution_count": 85,
     "metadata": {},
     "output_type": "execute_result"
    }
   ],
   "source": [
    "#12\n",
    "def sta(stas):\n",
    "    stas2=[]\n",
    "    while len(stas)!=0:\n",
    "        print(stas)\n",
    "        o=stas.pop()\n",
    "        print(o)\n",
    "        if o%5==0:\n",
    "            print(\"yes\")\n",
    "            #break\n",
    "        else:\n",
    "            print(stas)\n",
    "            print(o)\n",
    "            if len(stas)!=0:\n",
    "                print(\"rr\",stas)\n",
    "                stas2.append(stas.pop()*2)\n",
    "                print(stas)\n",
    "                print(stas2)\n",
    "                if len(stas)!=0:\n",
    "                    stas.pop()\n",
    "                else:\n",
    "                    stas2.append(10)\n",
    "            print(stas)\n",
    "    return stas2\n",
    "\n",
    "sta([20,5,10,22,35,14])"
   ]
  },
  {
   "cell_type": "code",
   "execution_count": 88,
   "metadata": {},
   "outputs": [
    {
     "name": "stdout",
     "output_type": "stream",
     "text": [
      "end of fun\n",
      "IndexError\n",
      "end of pro\n"
     ]
    }
   ],
   "source": [
    "#15\n",
    "def fun(lis,index):\n",
    "    try:\n",
    "        out=[0]*len(lis)\n",
    "        out[index]=lis[index]/int(lis[index+1])\n",
    "        return out\n",
    "    except ValueError:\n",
    "        print(\"ValueError\")\n",
    "    except ZeroDivisionError:\n",
    "        print('ZeroDivisionError')\n",
    "    finally:\n",
    "        print(\"end of fun\")\n",
    "try:\n",
    "    li=[2,4,'6',2,8]\n",
    "    li2=fun(li,4)\n",
    "    print(li2)\n",
    "except TypeError:\n",
    "    print(\"TypeError\")\n",
    "except IndexError:\n",
    "    print('IndexError')\n",
    "finally:\n",
    "    print(\"end of pro\")"
   ]
  },
  {
   "cell_type": "code",
   "execution_count": 102,
   "metadata": {},
   "outputs": [
    {
     "name": "stdout",
     "output_type": "stream",
     "text": [
      "[39, 91, 77, 51]\n",
      "[51, 91, 77, 39]\n"
     ]
    }
   ],
   "source": [
    "#16\n",
    "def fun():\n",
    "    li=[39,91,77,51]\n",
    "    mid=len(li)//2\n",
    "    low =0\n",
    "    high=len(li)-1\n",
    "    while li[mid]<li[low]:\n",
    "        print(low)\n",
    "        low=low+1\n",
    "    if(low<high):\n",
    "        li[low],li[high]=li[high],li[low]\n",
    "    return li\n",
    "li=[39,91,77,51,33,84]\n",
    "sub=fun()\n",
    "print(li[:4])\n",
    "print(sub)#output\n",
    "#answer [39, 91, 77, 51]"
   ]
  },
  {
   "cell_type": "code",
   "execution_count": 104,
   "metadata": {},
   "outputs": [
    {
     "name": "stdout",
     "output_type": "stream",
     "text": [
      "3\n"
     ]
    }
   ],
   "source": [
    "#18\n",
    "\n",
    "class emp:\n",
    "    __counter = 100\n",
    "    def __init__(self,name):\n",
    "        self.name=name\n",
    "        emp.__counter+=1\n",
    "        self.id=emp.__counter\n",
    "    def get_counter():\n",
    "        return emp.__counter\n",
    "emp1=emp(\"lana\")\n",
    "emp2=emp(\"lana\")\n",
    "emp3=emp(\"lana\")\n",
    "print(emp.get_counter()-100)\n",
    "#answer =3"
   ]
  },
  {
   "cell_type": "code",
   "execution_count": 121,
   "metadata": {},
   "outputs": [
    {
     "name": "stdout",
     "output_type": "stream",
     "text": [
      "3\n"
     ]
    }
   ],
   "source": [
    "def sun(s):\n",
    "    if s>=75 and s<=85:\n",
    "        print(\"1\")\n",
    "    elif s>85 and s<=95:\n",
    "        print(\"2\")\n",
    "    elif s>95:\n",
    "        print(\"3\")\n",
    "    else:\n",
    "        print(\"4\")\n",
    "sun(100)\n",
    "#answer is 74,77,90,100"
   ]
  },
  {
   "cell_type": "code",
   "execution_count": 122,
   "metadata": {},
   "outputs": [
    {
     "data": {
      "text/plain": [
       "'Anil borrowed a total of 4000 USD from 2 lenders with simple \\ninterest at the rate 5% p.a \\nand 7% p.a respectively.\\nIf the total interest paid for 3 years was 696 USD,\\nhow much did he borrow from the 2nd lender (at 7% p.a)'"
      ]
     },
     "execution_count": 122,
     "metadata": {},
     "output_type": "execute_result"
    }
   ],
   "source": [
    "'''Anil borrowed a total of 4000 USD from 2 lenders with simple \n",
    "interest at the rate 5% p.a \n",
    "and 7% p.a respectively.\n",
    "If the total interest paid for 3 years was 696 USD,\n",
    "how much did he borrow from the 2nd lender (at 7% p.a)'''\n",
    "#answer is 2400"
   ]
  },
  {
   "cell_type": "code",
   "execution_count": 123,
   "metadata": {},
   "outputs": [
    {
     "ename": "SyntaxError",
     "evalue": "invalid syntax (<ipython-input-123-b101882a2b98>, line 1)",
     "output_type": "error",
     "traceback": [
      "\u001b[1;36m  File \u001b[1;32m\"<ipython-input-123-b101882a2b98>\"\u001b[1;36m, line \u001b[1;32m1\u001b[0m\n\u001b[1;33m    Alution maker has to mix three perfume lragrances - Sage, Musk_ White Lily with three moisturizers - Shea lJutter_ Vitamin E and Flower seed Oil - and ﬁll them in\u001b[0m\n\u001b[1;37m                ^\u001b[0m\n\u001b[1;31mSyntaxError\u001b[0m\u001b[1;31m:\u001b[0m invalid syntax\n"
     ]
    }
   ],
   "source": [
    "'''A lotion maker has to mix three perfume fragrances \n",
    "- Sage, Musk, White Lily with\n",
    "three moisturizers - Shea butter, Vitamin E \n",
    "and Flower seed Oil - and fill them in\n",
    "3 boxes - White, Pink and Yellow.\n",
    "Each perfume must be mixed with one of the lotions.\n",
    "The mixture containing Sage must he ﬁlled \n",
    "in the white box.\n",
    "Musk is mixed with Vitamin E,\n",
    "but this mixture cannot be filled in the Yellow box.\n",
    "The mixture containing Shea Butter must be filed\n",
    "in the Yellow box.\n",
    "\n",
    "\n",
    "'''"
   ]
  },
  {
   "cell_type": "code",
   "execution_count": 124,
   "metadata": {},
   "outputs": [
    {
     "ename": "SyntaxError",
     "evalue": "invalid syntax (<ipython-input-124-db4f2364c948>, line 1)",
     "output_type": "error",
     "traceback": [
      "\u001b[1;36m  File \u001b[1;32m\"<ipython-input-124-db4f2364c948>\"\u001b[1;36m, line \u001b[1;32m1\u001b[0m\n\u001b[1;33m    10% of garments produced in a mill are\u001b[0m\n\u001b[1;37m                  ^\u001b[0m\n\u001b[1;31mSyntaxError\u001b[0m\u001b[1;31m:\u001b[0m invalid syntax\n"
     ]
    }
   ],
   "source": [
    "10% of garments produced in a mill are \n",
    "found defective and 20% of\n",
    "the remaining are sold in the mill's factory outlet.\n",
    "If the remaining 5040 garments are shipped to other\n",
    "retail stores, than the number of \n",
    "garments that were defective was\n"
   ]
  },
  {
   "cell_type": "code",
   "execution_count": null,
   "metadata": {},
   "outputs": [],
   "source": [
    "Ruhit Shama's some in a T20 game is 4 times\n",
    " The average of his scores in the previous 5 games\n",
    "what has been the percentage increase in his average \n",
    "after the 6th game?\n"
   ]
  }
 ],
 "metadata": {
  "kernelspec": {
   "display_name": "Python 3",
   "language": "python",
   "name": "python3"
  },
  "language_info": {
   "codemirror_mode": {
    "name": "ipython",
    "version": 3
   },
   "file_extension": ".py",
   "mimetype": "text/x-python",
   "name": "python",
   "nbconvert_exporter": "python",
   "pygments_lexer": "ipython3",
   "version": "3.7.3"
  }
 },
 "nbformat": 4,
 "nbformat_minor": 2
}
