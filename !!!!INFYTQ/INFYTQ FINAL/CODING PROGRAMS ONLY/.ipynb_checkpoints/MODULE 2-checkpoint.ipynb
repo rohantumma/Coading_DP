{
 "cells": [
  {
   "cell_type": "markdown",
   "metadata": {},
   "source": [
    "# DAY 2"
   ]
  },
  {
   "cell_type": "code",
   "execution_count": 28,
   "metadata": {},
   "outputs": [
    {
     "name": "stdout",
     "output_type": "stream",
     "text": [
      "120\n"
     ]
    }
   ],
   "source": [
    "class Customer:\n",
    "    def __init__(self, cust_id, name, age, wallet_balance):\n",
    "        self.cust_id = cust_id\n",
    "        self.name = name\n",
    "        self.age = age\n",
    "        self.__wallet_balance = wallet_balance\n",
    "\n",
    "    def setter(self, amount):\n",
    "        if amount < 1000 and amount > 0:\n",
    "            self.__wallet_balance = amount\n",
    "            \n",
    "    def getter(self):\n",
    "        return self.__wallet_balance\n",
    "\n",
    "c1=Customer(100, \"Gopal\", 24, 1000)\n",
    "c1.setter(120)\n",
    "print(c1.getter())"
   ]
  },
  {
   "cell_type": "code",
   "execution_count": 29,
   "metadata": {},
   "outputs": [
    {
     "name": "stdout",
     "output_type": "stream",
     "text": [
      "120\n"
     ]
    }
   ],
   "source": [
    "class Customer:\n",
    "    def __init__(self, id, name, age, wallet_balance):\n",
    "        self.id = id\n",
    "        self.name = name\n",
    "        self.age = age\n",
    "        self.__wallet_balance = wallet_balance\n",
    "\n",
    "    def set_wallet_balance(self, amount):\n",
    "        if amount < 1000 and amount>  0:\n",
    "            self.__wallet_balance = amount\n",
    "\n",
    "    def get_wallet_balance(self):\n",
    "        return self.__wallet_balance\n",
    "\n",
    "c1=Customer(100, \"Gopal\", 24, 1000)\n",
    "c1.set_wallet_balance(120)\n",
    "print(c1.get_wallet_balance())"
   ]
  },
  {
   "cell_type": "code",
   "execution_count": 35,
   "metadata": {},
   "outputs": [
    {
     "name": "stdout",
     "output_type": "stream",
     "text": [
      "Dam name: ABC dam\n",
      "Dam Length 3.5\n"
     ]
    }
   ],
   "source": [
    "class Dam:\n",
    "    def __init__(self,name, length):\n",
    "        self.name=name\n",
    "        self.__length=length\n",
    "    def get_length(self):\n",
    "        return self.__length\n",
    "\n",
    "dam1=Dam(\"ABC dam\",3.5 )\n",
    "print(\"Dam name:\",dam1.name)\n",
    "print(\"Dam Length\",dam1.get_length())"
   ]
  },
  {
   "cell_type": "code",
   "execution_count": 56,
   "metadata": {},
   "outputs": [
    {
     "name": "stdout",
     "output_type": "stream",
     "text": [
      "150mtr running\n"
     ]
    }
   ],
   "source": [
    "#OOPR-Exer-4\n",
    "\n",
    "class Athlete:\n",
    "    def __init__(self,name,gender):\n",
    "        self.__name=name\n",
    "        self.__gender=gender\n",
    "        \n",
    "    def getter(self):\n",
    "        if(self.__gender==\"girl\"):\n",
    "            k=\"150mtr running\"\n",
    "        else:\n",
    "            k=\"200mtr running\"\n",
    "        return k\n",
    "a1=Athlete(\"Loki\",\"girl\")\n",
    "print(a1.getter())"
   ]
  },
  {
   "cell_type": "code",
   "execution_count": 160,
   "metadata": {},
   "outputs": [
    {
     "name": "stdout",
     "output_type": "stream",
     "text": [
      "Customer-name: loki\n",
      "total-bill: 150\n",
      "Transzaction Done\n",
      "pop   1009   3   50\n"
     ]
    }
   ],
   "source": [
    "\n",
    "class Item():\n",
    "    def __int__(self,description,item_id,count,price_per_unit):\n",
    "        self.description=description\n",
    "        self.item_id=item_id\n",
    "        self.count=count\n",
    "        self.price_per_unit=price_per_unit\n",
    "    def setter(self):\n",
    "        return int(self.count*self.price_per_unit)\n",
    "    \n",
    "    def showi(self):\n",
    "        print(self.description,\n",
    "        \" \",self.item_id,\n",
    "        \" \",self.count,\n",
    "        \" \",self.price_per_unit)\n",
    "\n",
    "class Customer():\n",
    "\n",
    "    def getter(self,customer_name,bill_amount):\n",
    "        self.total_bill=bill_amount\n",
    "        self.name=customer_name\n",
    "    \n",
    "    def pays_bill(self,amount):\n",
    "        if amount-self.total_bill>0:\n",
    "            self.show()\n",
    "            self.purchases()\n",
    "        else:\n",
    "            print(\"NOPE\")\n",
    "    \n",
    "    def purchases(self):\n",
    "        print(\"Transzaction Done\")\n",
    "        \n",
    "    def show(self):\n",
    "        print(\"Customer-name:\",self.name)\n",
    "        print(\"total-bill:\",self.total_bill)\n",
    "        \n",
    "\n",
    "\n",
    "class employee:\n",
    "    def __self__(self,designation,emp_name):\n",
    "        print(\"Emp Name:\")\n",
    "        \n",
    "        \n",
    "t=Item()\n",
    "t.__int__(\"pop\",1009,3,50)\n",
    "c=Customer()\n",
    "c.getter(\"loki\",t.setter())\n",
    "c.pays_bill(200)\n",
    "t.showi()\n",
    "\n",
    "\n",
    "    "
   ]
  },
  {
   "cell_type": "code",
   "execution_count": 63,
   "metadata": {},
   "outputs": [
    {
     "name": "stdout",
     "output_type": "stream",
     "text": [
      "Rahul\n",
      "886012\n"
     ]
    }
   ],
   "source": [
    "# Python code to demonstrate how parent constructors \n",
    "# are called. \n",
    "\n",
    "# parent class \n",
    "class Person( object ):\t \n",
    "\n",
    "\t\t# __init__ is known as the constructor\t\t \n",
    "\t\tdef __init__(self, name, idnumber): \n",
    "\t\t\t\tself.name = name \n",
    "\t\t\t\tself.idnumber = idnumber \n",
    "\t\tdef display(self): \n",
    "\t\t\t\tprint(self.name) \n",
    "\t\t\t\tprint(self.idnumber) \n",
    "\n",
    "# child class \n",
    "class Employee( Person ):\t\t \n",
    "\t\tdef __init__(self, name, idnumber, salary, post): \n",
    "\t\t\t\tself.salary = salary \n",
    "\t\t\t\tself.post = post \n",
    "\n",
    "\t\t\t\t# invoking the __init__ of the parent class \n",
    "\t\t\t\tPerson.__init__(self, name, idnumber) \n",
    "\n",
    "\t\t\t\t\n",
    "# creation of an object variable or an instance \n",
    "a = Person('Rahul', 886012)\t \n",
    "\n",
    "# calling a function of the class Person using its instance \n",
    "a.display() \n"
   ]
  },
  {
   "cell_type": "markdown",
   "metadata": {},
   "source": [
    "# DAY 2"
   ]
  },
  {
   "cell_type": "code",
   "execution_count": 2,
   "metadata": {},
   "outputs": [
    {
     "name": "stdout",
     "output_type": "stream",
     "text": [
      "3000\n"
     ]
    }
   ],
   "source": [
    "class Mobile:\n",
    "    def __init__(self, price, brand):\n",
    "        self.price = price\n",
    "        self.brand = brand\n",
    "\n",
    "def change_price(mobile_obj):\n",
    "    mobile_obj.price = 3000\n",
    "\n",
    "mob1=Mobile(1000, \"Apple\")\n",
    "change_price(mob1)\n",
    "print (mob1.price)"
   ]
  },
  {
   "cell_type": "code",
   "execution_count": 3,
   "metadata": {},
   "outputs": [
    {
     "name": "stdout",
     "output_type": "stream",
     "text": [
      "Id of object in driver code 1384100835056\n",
      "Id of object inside function 1384100835056\n",
      "Price of mob1  3000\n"
     ]
    }
   ],
   "source": [
    "class Mobile:\n",
    "    def __init__(self, price, brand):\n",
    "        self.price = price\n",
    "        self.brand = brand\n",
    "\n",
    "    def change_price(mobile_obj):\n",
    "        print (\"Id of object inside function\", id(mobile_obj))\n",
    "        mobile_obj.price=3000\n",
    "\n",
    "mob1=Mobile(1000, \"Apple\")\n",
    "print (\"Id of object in driver code\", id(mob1))\n",
    "\n",
    "mob1.change_price()\n",
    "print (\"Price of mob1 \", mob1.price)"
   ]
  },
  {
   "cell_type": "code",
   "execution_count": 4,
   "metadata": {},
   "outputs": [
    {
     "name": "stdout",
     "output_type": "stream",
     "text": [
      "List and its id before method call [100, 200, 300] 1384099961032\n",
      "Id of list received in method 1384099961032\n",
      "Id of list after element modification in method 1384099961032\n",
      "List and its id after method call  [100, 500, 300] 1384099961032\n"
     ]
    }
   ],
   "source": [
    "def change_function(data):\n",
    "    print (\"Id of list received in method\", id(data))\n",
    "    data[1] = 500\n",
    "    print (\"Id of list after element modification in method\", id(data))\n",
    "\n",
    "value = [100, 200, 300]\n",
    "print (\"List and its id before method call\", value, id(value))\n",
    "change_function(value)\n",
    "print (\"List and its id after method call \", value, id(value))"
   ]
  },
  {
   "cell_type": "code",
   "execution_count": 5,
   "metadata": {},
   "outputs": [
    {
     "name": "stdout",
     "output_type": "stream",
     "text": [
      "List and its id before method call [100, 200, 300] 1384099960200\n",
      "Id of list received in method 1384099960200\n",
      "Id of list after list assignment in method 1384099961032\n",
      "List and its id after method call  [100, 200, 300] 1384099960200\n"
     ]
    }
   ],
   "source": [
    "def change_function(data):\n",
    "    print (\"Id of list received in method\", id(data))\n",
    "    data = [200, 300, 400]\n",
    "    print (\"Id of list after list assignment in method\", id(data))\n",
    "\n",
    "value = [100, 200, 300]\n",
    "print (\"List and its id before method call\", value, id(value))\n",
    "change_function(value)\n",
    "print (\"List and its id after method call \", value, id(value))"
   ]
  },
  {
   "cell_type": "code",
   "execution_count": 6,
   "metadata": {},
   "outputs": [
    {
     "name": "stdout",
     "output_type": "stream",
     "text": [
      "Object ID before modification  1384100834304\n",
      "Object ID after modification  1384100831616\n",
      "hello\n"
     ]
    }
   ],
   "source": [
    "def change(strng):\n",
    "    print(\"Object ID before modification \",id(strng))\n",
    "    strng=strng.upper()\n",
    "    print(\"Object ID after modification \",id(strng))\n",
    "\n",
    "s1=\"hello\"\n",
    "change(s1)\n",
    "print(s1)"
   ]
  },
  {
   "cell_type": "code",
   "execution_count": 7,
   "metadata": {},
   "outputs": [
    {
     "name": "stdout",
     "output_type": "stream",
     "text": [
      "Id of self in constructor 1384100890608\n",
      "Id of mob1 in driver code 1384100890608\n",
      "Id of self in constructor 1384100835056\n",
      "Id of mob2 in driver code 1384100835056\n"
     ]
    }
   ],
   "source": [
    "class Mobile:\n",
    "    def __init__(self, price, brand):\n",
    "        print(\"Id of self in constructor\", id(self))\n",
    "        self.price = price\n",
    "        self.brand = brand\n",
    "\n",
    "mob1=Mobile(1000, \"Apple\")\n",
    "print(\"Id of mob1 in driver code\", id(mob1))\n",
    "\n",
    "mob2=Mobile(1000, \"Apple\")\n",
    "print(\"Id of mob2 in driver code\", id(mob2))"
   ]
  },
  {
   "cell_type": "code",
   "execution_count": 8,
   "metadata": {},
   "outputs": [
    {
     "name": "stdout",
     "output_type": "stream",
     "text": [
      "Inside the Mobile constructor\n",
      "None\n"
     ]
    }
   ],
   "source": [
    "class Mobile:\n",
    "    def __init__(self):\n",
    "        print (\"Inside the Mobile constructor\")\n",
    "        self.brand = None\n",
    "        brand = \"Apple\" #This is a local variable.\n",
    "        #Variables without self are local and they dont\n",
    "        #affect the attributes.\n",
    "\n",
    "        #Local varaibles cannot be accessed outside the init\n",
    "        #Using self creates attributes which are\n",
    "        #accessible in other methods as well\n",
    "\n",
    "mob1=Mobile()\n",
    "print(mob1.brand)#This does not print Apple\n",
    "#This prints None because brand=Apple creates\n",
    "#a local variable and it does not affect the attribute"
   ]
  },
  {
   "cell_type": "markdown",
   "metadata": {},
   "source": [
    "# list of objects"
   ]
  },
  {
   "cell_type": "code",
   "execution_count": 11,
   "metadata": {},
   "outputs": [
    {
     "name": "stdout",
     "output_type": "stream",
     "text": [
      "Apple 1000\n",
      "Samsung 2000\n",
      "Apple 3000\n",
      "Samsung 4000\n",
      "Apple 5000\n"
     ]
    }
   ],
   "source": [
    "class Mobile:\n",
    "    def __init__(self, brand, price):\n",
    "        self.brand = brand\n",
    "        self.price = price\n",
    "\n",
    "mob1=Mobile(\"Apple\", 1000)\n",
    "mob2=Mobile(\"Samsung\", 2000)\n",
    "mob3=Mobile(\"Apple\", 3000)\n",
    "mob4=Mobile(\"Samsung\", 4000)\n",
    "mob5=Mobile(\"Apple\", 5000)\n",
    "\n",
    "list_of_mobiles=[mob1, mob2, mob3, mob4, mob5]\n",
    "\n",
    "for mobile in list_of_mobiles:\n",
    "    print (mobile.brand,mobile.price)"
   ]
  },
  {
   "cell_type": "markdown",
   "metadata": {},
   "source": [
    "# Stroing object into dictinory"
   ]
  },
  {
   "cell_type": "code",
   "execution_count": 13,
   "metadata": {},
   "outputs": [
    {
     "name": "stdout",
     "output_type": "stream",
     "text": [
      "Apple 1000\n",
      "Samsung 5000\n",
      "Apple 3000\n"
     ]
    }
   ],
   "source": [
    "class Mobile:\n",
    "    def __init__(self,brand,price):\n",
    "        self.brand = brand\n",
    "        self.price = price\n",
    "\n",
    "mob1=Mobile(\"Apple\", 1000)\n",
    "mob2=Mobile(\"Samsung\", 5000)\n",
    "mob3=Mobile(\"Apple\", 3000)\n",
    "\n",
    "mob_dict={\n",
    "          \"m1\":mob1,\n",
    "          \"m2\":mob2,\n",
    "          \"m3\":mob3\n",
    "          }\n",
    "\n",
    "for key,value in mob_dict.items():\n",
    "    if value.price > 300:\n",
    "        print (value.brand,value.price)"
   ]
  },
  {
   "cell_type": "code",
   "execution_count": 18,
   "metadata": {},
   "outputs": [
    {
     "name": "stdout",
     "output_type": "stream",
     "text": [
      "101   Mark   US  \n",
      "102   Jane   Japan  \n",
      "103   Kumar   India  \n"
     ]
    }
   ],
   "source": [
    "class Customer:\n",
    "    def __init__(self, cust_id, cust_name, location):\n",
    "        self.cust_id = cust_id\n",
    "        self.cust_name = cust_name\n",
    "        self.location = location\n",
    "\n",
    "list_of_customers = [Customer(101, 'Mark', 'US'),\n",
    "Customer(102, 'Jane', 'Japan'),\n",
    "Customer(103, 'Kumar', 'India')]\n",
    "dist={}\n",
    "\n",
    "#!st method   \n",
    "'''\n",
    "dict_of_customer={\"US\":Customer(101, 'Mark', 'US'),\n",
    "                 \"Japan\":Customer(102, 'Jane', 'Japan'),\n",
    "                 \"India\":Customer(103, 'Kumar', 'India')\n",
    "                 }\n",
    "for key,value in dict_of_customer.items():\n",
    "    print(value.cust_id,\" \",value.cust_name,\" \",value.location,\" \")\n",
    "'''\n",
    "\n",
    "#2nd Method\n",
    "for i in list_of_customers:\n",
    "    dist[i.location]=i\n",
    "\n",
    "for key,value in dist.items():\n",
    "    print(value.cust_id,\" \",value.cust_name,\" \",key,\" \")\n",
    "    \n",
    "    "
   ]
  },
  {
   "cell_type": "code",
   "execution_count": 19,
   "metadata": {},
   "outputs": [
    {
     "name": "stdout",
     "output_type": "stream",
     "text": [
      "Apple mobile with price 20000 is available after discount at 20000.0\n",
      "Apple mobile with price 30000 is available after discount at 15000.0\n",
      "Samsung mobile with price 5000 is available after discount at 2500.0\n",
      "Samsung mobile with price 6000 is available after discount at 6000.0\n"
     ]
    }
   ],
   "source": [
    "class Mobile:\n",
    "    def __init__(self, price, brand):\n",
    "        self.price = price\n",
    "        self.brand = brand\n",
    "        self.discount = 0\n",
    "\n",
    "    def purchase(self):\n",
    "        total = self.price - self.price * self.discount / 100\n",
    "        print (self.brand, \"mobile with price\", self.price, \"is available after discount at\", total)\n",
    "\n",
    "def enable_discount(list_of_mobiles):\n",
    "    for mobile in list_of_mobiles:\n",
    "        mobile.discount=50\n",
    "\n",
    "def disable_discount(list_of_mobiles):\n",
    "    for mobile in list_of_mobiles:\n",
    "        mobile.discount=0\n",
    "\n",
    "mob1=Mobile(20000, \"Apple\")\n",
    "mob2=Mobile(30000, \"Apple\")\n",
    "mob3=Mobile(5000, \"Samsung\")\n",
    "mob4=Mobile(6000, \"Samsung\")\n",
    "\n",
    "list_of_mobiles=[mob1,mob2,mob3,mob4]\n",
    "\n",
    "mob1.purchase()\n",
    "\n",
    "enable_discount(list_of_mobiles)\n",
    "\n",
    "mob2.purchase()\n",
    "mob3.purchase()\n",
    "\n",
    "disable_discount(list_of_mobiles)\n",
    "\n",
    "mob4.purchase()"
   ]
  },
  {
   "cell_type": "code",
   "execution_count": 23,
   "metadata": {},
   "outputs": [
    {
     "name": "stdout",
     "output_type": "stream",
     "text": [
      "Apple mobile with price 20000 is available after discount at 10000.0\n",
      "Apple mobile with price 30000 is available after discount at 15000.0\n",
      "Samsung mobile with price 5000 is available after discount at 2500.0\n"
     ]
    }
   ],
   "source": [
    "class Mobile:\n",
    "    discount = 50\n",
    "    def __init__(self, price, brand):\n",
    "        self.price = price\n",
    "        self.brand = brand\n",
    "\n",
    "    def purchase(self):\n",
    "        total = self.price - self.price * Mobile.discount / 100\n",
    "        print (self.brand, \"mobile with price\", self.price, \"is available after discount at\", total)\n",
    "    def __str__(self):\n",
    "        return \"OK\"\n",
    "mob1=Mobile(20000, \"Apple\")\n",
    "mob2=Mobile(30000, \"Apple\")\n",
    "mob3=Mobile(5000, \"Samsung\")\n",
    "\n",
    "#print(mob1)\n",
    "mob1.purchase()\n",
    "mob2.purchase()\n",
    "mob3.purchase()# static variable\n"
   ]
  },
  {
   "cell_type": "code",
   "execution_count": 26,
   "metadata": {},
   "outputs": [
    {
     "name": "stdout",
     "output_type": "stream",
     "text": [
      "Discount 50\n",
      "Apple mobile with price 20000 is available after discount at 10000.0\n",
      "Discount 50\n",
      "Apple mobile with price 30000 is available after discount at 15000.0\n",
      "Discount 0\n",
      "Samsung mobile with price 5000 is available after discount at 5000.0\n"
     ]
    }
   ],
   "source": [
    "class Mobile:\n",
    "    discount = 50\n",
    "    def __init__(self, price, brand):\n",
    "        self.price = price\n",
    "        self.brand = brand\n",
    "\n",
    "    def purchase(self):\n",
    "        print(\"Discount\",Mobile.discount)\n",
    "        total = self.price - self.price * Mobile.discount / 100\n",
    "        print (self.brand, \"mobile with price\", self.price, \"is available after discount at\", total)\n",
    "\n",
    "def enable_discount():\n",
    "    Mobile.discount = 50\n",
    "\n",
    "def disable_discount():\n",
    "    Mobile.discount = 0\n",
    "\n",
    "mob1=Mobile(20000, \"Apple\")\n",
    "mob2=Mobile(30000, \"Apple\")\n",
    "mob3=Mobile(5000, \"Samsung\")\n",
    "\n",
    "enable_discount()\n",
    "mob1.purchase()\n",
    "mob2.purchase()\n",
    "\n",
    "disable_discount()\n",
    "mob3.purchase()"
   ]
  },
  {
   "cell_type": "markdown",
   "metadata": {},
   "source": [
    "#private static member"
   ]
  },
  {
   "cell_type": "code",
   "execution_count": 31,
   "metadata": {},
   "outputs": [
    {
     "name": "stdout",
     "output_type": "stream",
     "text": [
      "50\n",
      "30\n"
     ]
    }
   ],
   "source": [
    "class Mobile:\n",
    "    __discount = 50\n",
    "\n",
    "    def get_discount(self):\n",
    "        return Mobile.__discount\n",
    "\n",
    "    def set_discount(self,discount):\n",
    "        Mobile.__discount = discount\n",
    "\n",
    "m1=Mobile()\n",
    "print(m1.get_discount())\n",
    "m1.set_discount(30)\n",
    "print(m1.get_discount())"
   ]
  },
  {
   "cell_type": "code",
   "execution_count": 53,
   "metadata": {},
   "outputs": [
    {
     "name": "stdout",
     "output_type": "stream",
     "text": [
      "Total is  10000.0\n",
      "Total is  15000.0\n",
      "Total is  2500.0\n",
      "50\n",
      "Total is  10000.0\n",
      "Total is  15000.0\n",
      "Total is  2500.0\n"
     ]
    }
   ],
   "source": [
    "class Mobile:\n",
    "    __discount = 50\n",
    "    def __init__(self, price, brand):\n",
    "        self.price = price\n",
    "        self.brand = brand\n",
    "\n",
    "    def purchase(self):\n",
    "        total = self.price - self.price * Mobile.__discount / 100\n",
    "        print (\"Total is \",total)\n",
    "    @staticmethod\n",
    "    def get_discount():\n",
    "        return Mobile.__discount\n",
    "    @staticmethod\n",
    "    def set_discount(discount):\n",
    "        Mobile.__discount = discount\n",
    "\n",
    "mob1=Mobile(20000, \"Apple\")\n",
    "mob2=Mobile(30000, \"Apple\")\n",
    "mob3=Mobile(5000, \"Samsung\")\n",
    "\n",
    "mob1.purchase()\n",
    "mob2.purchase()\n",
    "mob3.purchase()\n",
    "\n",
    "print(Mobile.get_discount())\n",
    "\n",
    "mob1.purchase()\n",
    "\n",
    "mob2.purchase()\n",
    "\n",
    "mob3.purchase()"
   ]
  },
  {
   "cell_type": "code",
   "execution_count": 61,
   "metadata": {},
   "outputs": [
    {
     "name": "stdout",
     "output_type": "stream",
     "text": [
      "0\n",
      "Apple mobile with price 20000 is available after discount at 20000.0\n",
      "50\n",
      "Apple mobile with price 30000 is available after discount at 15000.0\n",
      "0\n",
      "Samsung mobile with price 5000 is available after discount at 5000.0\n"
     ]
    }
   ],
   "source": [
    "class Mobile:\n",
    "    __discount = 50\n",
    "    def __init__(self, price, brand):\n",
    "        self.price = price\n",
    "        self.brand = brand\n",
    "\n",
    "    def purchase(self):\n",
    "        total = self.price - self.price * Mobile.__discount / 100\n",
    "        print (self.brand, \"mobile with price\", self.price, \"is available after discount at\", total)\n",
    "\n",
    "    @staticmethod\n",
    "    def enable_discount():\n",
    "        Mobile.set_discount(50)\n",
    "\n",
    "    @staticmethod\n",
    "    def disable_discount():\n",
    "        Mobile.set_discount(0)\n",
    "\n",
    "    @staticmethod\n",
    "    def get_discount():\n",
    "        return Mobile.__discount\n",
    "\n",
    "    @staticmethod\n",
    "    def set_discount(discount):\n",
    "        Mobile.__discount = discount\n",
    "\n",
    "mob1=Mobile(20000, \"Apple\")\n",
    "mob2=Mobile(30000, \"Apple\")\n",
    "mob3=Mobile(5000, \"Samsung\")\n",
    "\n",
    "Mobile.disable_discount()\n",
    "print(Mobile.get_discount())\n",
    "\n",
    "mob1.purchase()\n",
    "\n",
    "Mobile.enable_discount()\n",
    "print(Mobile.get_discount())\n",
    "\n",
    "mob2.purchase()\n",
    "\n",
    "Mobile.disable_discount()\n",
    "print(Mobile.get_discount())\n",
    "\n",
    "mob3.purchase()"
   ]
  },
  {
   "cell_type": "markdown",
   "metadata": {},
   "source": [
    "#     Static attributes are created at class level.\n",
    "    Static attributes are accessed using ClassName.\n",
    "    Static attributes are object independent. We can access them without creating instance (object) of the class in which they are defined.\n",
    "    The value stored in static attribute is shared between all instances(objects) of the class in which the static attribute is defined.\n",
    "\n"
   ]
  },
  {
   "cell_type": "code",
   "execution_count": 62,
   "metadata": {},
   "outputs": [],
   "source": [
    "import antigravity"
   ]
  },
  {
   "cell_type": "code",
   "execution_count": null,
   "metadata": {},
   "outputs": [],
   "source": []
  },
  {
   "cell_type": "markdown",
   "metadata": {},
   "source": [
    "# DAY 3"
   ]
  },
  {
   "cell_type": "code",
   "execution_count": 64,
   "metadata": {},
   "outputs": [
    {
     "ename": "AttributeError",
     "evalue": "'Cover' object has no attribute 'color'",
     "output_type": "error",
     "traceback": [
      "\u001b[1;31m---------------------------------------------------------------------------\u001b[0m",
      "\u001b[1;31mAttributeError\u001b[0m                            Traceback (most recent call last)",
      "\u001b[1;32m<ipython-input-64-5160c4071c74>\u001b[0m in \u001b[0;36m<module>\u001b[1;34m\u001b[0m\n\u001b[0;32m     11\u001b[0m     \u001b[1;32mdef\u001b[0m \u001b[0m__init__\u001b[0m\u001b[1;33m(\u001b[0m\u001b[0mself\u001b[0m\u001b[1;33m)\u001b[0m\u001b[1;33m:\u001b[0m\u001b[1;33m\u001b[0m\u001b[1;33m\u001b[0m\u001b[0m\n\u001b[0;32m     12\u001b[0m         \u001b[0mself\u001b[0m\u001b[1;33m.\u001b[0m\u001b[0m__color\u001b[0m\u001b[1;33m=\u001b[0m\u001b[1;34m\"red\"\u001b[0m\u001b[1;33m\u001b[0m\u001b[1;33m\u001b[0m\u001b[0m\n\u001b[1;32m---> 13\u001b[1;33m \u001b[0mCustomer\u001b[0m\u001b[1;33m(\u001b[0m\u001b[1;34m\"Cus1\"\u001b[0m\u001b[1;33m,\u001b[0m\u001b[0mMobile\u001b[0m\u001b[1;33m(\u001b[0m\u001b[1;34m\"Apple\"\u001b[0m\u001b[1;33m)\u001b[0m\u001b[1;33m)\u001b[0m\u001b[1;33m.\u001b[0m\u001b[0mmobile\u001b[0m\u001b[1;33m.\u001b[0m\u001b[0munlock\u001b[0m\u001b[1;33m(\u001b[0m\u001b[0mCover\u001b[0m\u001b[1;33m(\u001b[0m\u001b[1;33m)\u001b[0m\u001b[1;33m)\u001b[0m\u001b[1;33m\u001b[0m\u001b[1;33m\u001b[0m\u001b[0m\n\u001b[0m",
      "\u001b[1;32m<ipython-input-64-5160c4071c74>\u001b[0m in \u001b[0;36munlock\u001b[1;34m(self, cover)\u001b[0m\n\u001b[0;32m      7\u001b[0m         \u001b[0mself\u001b[0m\u001b[1;33m.\u001b[0m\u001b[0mbrand\u001b[0m\u001b[1;33m=\u001b[0m\u001b[0mbrand\u001b[0m\u001b[1;33m\u001b[0m\u001b[1;33m\u001b[0m\u001b[0m\n\u001b[0;32m      8\u001b[0m     \u001b[1;32mdef\u001b[0m \u001b[0munlock\u001b[0m\u001b[1;33m(\u001b[0m\u001b[0mself\u001b[0m\u001b[1;33m,\u001b[0m\u001b[0mcover\u001b[0m\u001b[1;33m)\u001b[0m\u001b[1;33m:\u001b[0m\u001b[1;33m\u001b[0m\u001b[1;33m\u001b[0m\u001b[0m\n\u001b[1;32m----> 9\u001b[1;33m         \u001b[0mprint\u001b[0m\u001b[1;33m(\u001b[0m\u001b[0mcover\u001b[0m\u001b[1;33m.\u001b[0m\u001b[0mcolor\u001b[0m\u001b[1;33m)\u001b[0m\u001b[1;33m\u001b[0m\u001b[1;33m\u001b[0m\u001b[0m\n\u001b[0m\u001b[0;32m     10\u001b[0m \u001b[1;32mclass\u001b[0m \u001b[0mCover\u001b[0m\u001b[1;33m:\u001b[0m\u001b[1;33m\u001b[0m\u001b[1;33m\u001b[0m\u001b[0m\n\u001b[0;32m     11\u001b[0m     \u001b[1;32mdef\u001b[0m \u001b[0m__init__\u001b[0m\u001b[1;33m(\u001b[0m\u001b[0mself\u001b[0m\u001b[1;33m)\u001b[0m\u001b[1;33m:\u001b[0m\u001b[1;33m\u001b[0m\u001b[1;33m\u001b[0m\u001b[0m\n",
      "\u001b[1;31mAttributeError\u001b[0m: 'Cover' object has no attribute 'color'"
     ]
    }
   ],
   "source": []
  },
  {
   "cell_type": "code",
   "execution_count": 85,
   "metadata": {},
   "outputs": [
    {
     "name": "stdout",
     "output_type": "stream",
     "text": [
      "10 20\n",
      "20 30\n",
      "30 40\n"
     ]
    }
   ],
   "source": [
    "class Foo:\n",
    "    def __init__(self,num1,num2):\n",
    "        self.__num1=num1\n",
    "        self.num2=num2\n",
    "    def get(self):\n",
    "        return self.__num1\n",
    "    def __str__(self):\n",
    "        return str(self.__dict__)\n",
    "\n",
    "f1=Foo(10,20)\n",
    "f2=Foo(20,30)\n",
    "f3=Foo(30,40)\n",
    "\n",
    "dist={1:f1,2:f2,3:f3}\n",
    "\n",
    "\n",
    "for key,value in dist.items():\n",
    "    print(value.get(),value.num2)\n",
    "\n"
   ]
  },
  {
   "cell_type": "code",
   "execution_count": null,
   "metadata": {},
   "outputs": [],
   "source": []
  },
  {
   "cell_type": "markdown",
   "metadata": {},
   "source": [
    "# ASSI 16"
   ]
  },
  {
   "cell_type": "code",
   "execution_count": 124,
   "metadata": {},
   "outputs": [],
   "source": [
    "#OOPR-Assgn-16\n",
    "\n",
    "class Customer:\n",
    "    def __init__(self,phone_no,name,age):\n",
    "        self.phone_no=phone_no\n",
    "        self.name=name\n",
    "        self.age=age\n",
    "        self.list_of_calls=[]\n",
    "\n",
    "\n",
    "class CallDetail:\n",
    "    def __init__(self,phone_no,called_no,duration):\n",
    "        self.phone_no=phone_no\n",
    "        self.called_no=called_no\n",
    "        self.duration=duration\n",
    "    def __str__(self):\n",
    "        return (str(phone_no),str(called_no),str(duration))\n",
    "class Util:\n",
    "    def __init__(self):\n",
    "        self.list_of_customer_calldetail_objects=None\n",
    "    def parse_customer(self,list_of_customers,list_of_calls):\n",
    "        self.list_of_customer_calldetail_objects=[]\n",
    "        for customer in list_of_customers:\n",
    "            customer.list_of_calls=[]\n",
    "            for call in list_of_calls:\n",
    "                if customer.phone_no == call.phone_no:\n",
    "                    customer.list_of_calls.append(call)\n",
    "            self.list_of_customer_calldetail_objects.append(customer)\n",
    "\n",
    "cust1=Customer(9900009901,'cust1',23)\n",
    "cust2=Customer(9900009902,'cust2',24)\n",
    "cust3=Customer(9900009903,'cust3',25)\n",
    "list_of_customers=[cust1,cust2,cust3]\n",
    "\n",
    "call1=CallDetail(9900009901,8800123401,5)\n",
    "call2=CallDetail(9900009903,8800123402,10)\n",
    "call3=CallDetail(9900009902,8800123403,2)\n",
    "call4=CallDetail(9900009901,8800123404,8)\n",
    "call5=CallDetail(9900009901,8800123405,7)\n",
    "call6=CallDetail(9900009903,8800123406,9)\n",
    "call7=CallDetail(9900009903,8800123407,4)\n",
    "\n",
    "list_of_calls=[call1,call2,call3,call4,call5,call6,call7]\n",
    "\n",
    "\n",
    "Util().parse_customer(list_of_customers, list_of_calls)\n"
   ]
  },
  {
   "cell_type": "markdown",
   "metadata": {},
   "source": [
    "# DAY 4"
   ]
  },
  {
   "cell_type": "code",
   "execution_count": 1,
   "metadata": {},
   "outputs": [
    {
     "name": "stdout",
     "output_type": "stream",
     "text": [
      "Buying a phone\n"
     ]
    }
   ],
   "source": [
    "class Phone:\n",
    "    def __init__(self, price, brand, camera):\n",
    "        self.price = price\n",
    "        self.brand = brand\n",
    "        self.camera = camera\n",
    "\n",
    "    def buy(self):\n",
    "        print (\"Buying a phone\")\n",
    "\n",
    "    def return_phone(self):\n",
    "        print (\"Returning a phone\")\n",
    "\n",
    "class FeaturePhone:\n",
    "    pass\n",
    "\n",
    "class SmartPhone:\n",
    "    pass\n",
    "\n",
    "Phone(10000,\"Apple\",\"13px\").buy()"
   ]
  },
  {
   "cell_type": "code",
   "execution_count": 4,
   "metadata": {},
   "outputs": [
    {
     "name": "stdout",
     "output_type": "stream",
     "text": [
      "Buying a phone\n",
      "Buying a phone\n",
      "Buying a phone\n"
     ]
    }
   ],
   "source": [
    "class Phone:\n",
    "    def __init__(self, price, brand, camera):\n",
    "        self.price = price\n",
    "        self.brand = brand\n",
    "        self.camera = camera\n",
    "\n",
    "    def buy(self):\n",
    "        print (\"Buying a phone\")\n",
    "\n",
    "    def return_phone(self):\n",
    "        print (\"Returning a phone\")\n",
    "\n",
    "class FeaturePhone(Phone):\n",
    "    pass\n",
    "\n",
    "class SmartPhone(Phone):\n",
    "    pass\n",
    "\n",
    "Phone(10000,\"Apple\",\"13px\").buy()\n",
    "FeaturePhone(10000,\"Apple\",\"13px\").buy()\n",
    "SmartPhone(10000,\"Apple\",\"13px\").buy()"
   ]
  },
  {
   "cell_type": "code",
   "execution_count": 26,
   "metadata": {},
   "outputs": [
    {
     "name": "stdout",
     "output_type": "stream",
     "text": [
      "Buying SmartPhone\n",
      "Buying a phone 100000\n",
      "IOS 13 Iphone 11\n",
      "Buying a phone 100000\n"
     ]
    }
   ],
   "source": [
    "class Phone:\n",
    "    def __init__(self, price, brand, camera):\n",
    "        print (\"Inside phone constructor wroking\")\n",
    "        self.price = price\n",
    "        self.brand = brand\n",
    "        self.camera = camera\n",
    "\n",
    "    def buy(self,amount):\n",
    "        self.amount=amount\n",
    "        print (\"Buying a phone\",self.amount)\n",
    "\n",
    "    def return_phone(self):\n",
    "        print (\"Returning a phone\")\n",
    "\n",
    "class FeaturePhone(Phone):\n",
    "    pass\n",
    "\n",
    "class SmartPhone(Phone):\n",
    "    def __init__(self,OS,MODEL):\n",
    "        self.os=OS\n",
    "        self.model=MODEL\n",
    "    def show(self):\n",
    "        print(self.os,self.model)\n",
    "        super().buy(100000)\n",
    "    def buy(self):\n",
    "        print(\"Buying SmartPhone\")\n",
    "        # super to access parnt class members which are polimorfs \n",
    "        super().buy(100000)\n",
    "    def check(self):\n",
    "        print(self.price)\n",
    "\n",
    "SmartPhone(\"IOS 13\",\"Iphone 11\").buy()\n",
    "\n",
    "SmartPhone(\"IOS 13\",\"Iphone 11\").show()"
   ]
  },
  {
   "cell_type": "code",
   "execution_count": 27,
   "metadata": {},
   "outputs": [
    {
     "name": "stdout",
     "output_type": "stream",
     "text": [
      "Inside phone constructor\n",
      "Product buy method\n"
     ]
    }
   ],
   "source": [
    "class Phone:\n",
    "    def __init__(self, price, brand, camera):\n",
    "        print (\"Inside phone constructor\")\n",
    "        self.__price = price\n",
    "        self.brand = brand\n",
    "        self.camera = camera\n",
    "\n",
    "    def buy(self):\n",
    "        print (\"Buying a phone\")\n",
    "\n",
    "    def return_phone(self):\n",
    "        print (\"Returning a phone\")\n",
    "\n",
    "class Product:\n",
    "    def buy(self):\n",
    "        print (\"Product buy method\")\n",
    "\n",
    "class SmartPhone(Product, Phone):\n",
    "    pass\n",
    "\n",
    "s=SmartPhone(20000, \"Apple\", 12)\n",
    "\n",
    "s.buy()"
   ]
  },
  {
   "cell_type": "markdown",
   "metadata": {},
   "source": [
    "# saying hello in python"
   ]
  },
  {
   "cell_type": "code",
   "execution_count": 43,
   "metadata": {},
   "outputs": [
    {
     "data": {
      "text/plain": [
       "<module '__hello__' (frozen)>"
      ]
     },
     "execution_count": 43,
     "metadata": {},
     "output_type": "execute_result"
    }
   ],
   "source": [
    "import __hello__\n",
    "__hello__"
   ]
  },
  {
   "cell_type": "code",
   "execution_count": 44,
   "metadata": {},
   "outputs": [
    {
     "data": {
      "text/plain": [
       "'Represent customers and display all details of the customer, if he is able to book the ticket and play the game. Else, display appropriate error message '"
      ]
     },
     "execution_count": 44,
     "metadata": {},
     "output_type": "execute_result"
    }
   ],
   "source": [
    "#OOPR-Assgn-27\n",
    "#This class represents ThemePark\n",
    "class ThemePark:\n",
    "    #dict_of_games contains the game name as key, price/ride and points that can be earned by customer in a list as value\n",
    "    dict_of_games={\"Game1\":[35.5,5], \"Game2\":[40.0,6],\"Game3\":[120.0,10], \"Game4\":[60.0,7],\"Game5\":[25.0,4]}\n",
    "    @staticmethod\n",
    "    def validate_game(game_input):\n",
    "        if game_input.title() in ThemePark.dict_of_games.keys():\n",
    "            return True\n",
    "        else:\n",
    "            return False\n",
    "        #If game_input is present in ThemePark, return true. Else, return false.\n",
    "    @staticmethod\n",
    "    def get_points(game_input):\n",
    "        for game,point in ThemePark.dict_of_games.items():\n",
    "            if game_input.title()==game:\n",
    "                return point[1]\n",
    "        #Return the points that can be earned for the given game_input.\n",
    "    @staticmethod\n",
    "    def get_amount(game_input):\n",
    "        for game,point in ThemePark.dict_of_games.items():\n",
    "            if game_input.title()==game:\n",
    "                return point[0]\n",
    "        #Return the price/ride for the given game_input\n",
    "#This class represents ticket\n",
    "class Ticket:\n",
    "    __ticket_count=200\n",
    "    def __init__(self):\n",
    "        self.__ticket_id=None\n",
    "        self.__ticket_amount=0\n",
    "    def generate_ticket_id(self):\n",
    "        self.__ticket_id=Ticket.__ticket_count+1\n",
    "        Ticket.__ticket_count+=1\n",
    "        #Auto-generate ticket_id starting from 201\n",
    "    def calculate_amount(self, list_of_games):\n",
    "        for game in list_of_games:\n",
    "            if ThemePark.validate_game(game):\n",
    "                self.__ticket_amount+=ThemePark.get_amount(game)\n",
    "            else:\n",
    "                self.__ticket_amount=0\n",
    "                return False\n",
    "        return True\n",
    "        '''Validate the games in the list_of_games.\n",
    "        If all games are valid, calculate total ticket amount and assign it to attribute, ticket_amount and return true. Else, return false'''\n",
    "    def get_ticket_id(self):\n",
    "        return self.__ticket_id\n",
    "    def get_ticket_amount(self):\n",
    "        return self.__ticket_amount\n",
    "\n",
    "class Customer:\n",
    "    def __init__(self, name, list_of_games):\n",
    "        self.__name=name\n",
    "        self.__list_of_games=list_of_games\n",
    "        self.__ticket=Ticket()\n",
    "        self.__points_earned=0\n",
    "        self.__food_coupon=\"No\"\n",
    "    def play_game(self):\n",
    "        for game in self.__list_of_games:\n",
    "            self.__points_earned+=ThemePark.get_points(game)\n",
    "            if game==\"Game3\":\n",
    "                self.__list_of_games.append(\"Game2\")\n",
    "    def update_food_coupon(self):\n",
    "        if \"Game4\" in self.__list_of_games and self.__points_earned>15:\n",
    "            self.__food_coupon=\"Yes\"\n",
    "    def book_ticket(self):\n",
    "        if Ticket.calculate_amount(self.__ticket, self.__list_of_games):\n",
    "            Ticket.generate_ticket_id(self.__ticket)\n",
    "            self.play_game()\n",
    "            self.update_food_coupon()\n",
    "            return True\n",
    "        else:\n",
    "            return False\n",
    "    def get_name(self):\n",
    "        return self.__name\n",
    "    def get_list_of_games(self):\n",
    "        return self.__list_of_games\n",
    "    def get_ticket(self):\n",
    "        return self.__ticket\n",
    "    def get_points_earned(self):\n",
    "        return self.__points_earned\n",
    "    def get_food_coupon(self):\n",
    "        return self.__food_coupon\n",
    "\n",
    "'''Represent customers and display all details of the customer, if he is able to book the ticket and play the game. Else, display appropriate error message '''\n"
   ]
  }
 ],
 "metadata": {
  "kernelspec": {
   "display_name": "Python 3",
   "language": "python",
   "name": "python3"
  },
  "language_info": {
   "codemirror_mode": {
    "name": "ipython",
    "version": 3
   },
   "file_extension": ".py",
   "mimetype": "text/x-python",
   "name": "python",
   "nbconvert_exporter": "python",
   "pygments_lexer": "ipython3",
   "version": "3.7.3"
  }
 },
 "nbformat": 4,
 "nbformat_minor": 2
}
