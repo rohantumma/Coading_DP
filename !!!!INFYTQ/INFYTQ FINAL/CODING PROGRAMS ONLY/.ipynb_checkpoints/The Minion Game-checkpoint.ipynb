{
 "cells": [
  {
   "cell_type": "markdown",
   "metadata": {},
   "source": [
    "# The Minion Game"
   ]
  },
  {
   "cell_type": "code",
   "execution_count": null,
   "metadata": {},
   "outputs": [],
   "source": [
    "'''\n",
    "\n",
    "Kevin and Stuart want to play the 'The Minion Game'.\n",
    "\n",
    "Game Rules\n",
    "\n",
    "Both players are given the same string, .\n",
    "Both players have to make substrings using the letters of the string .\n",
    "Stuart has to make words starting with consonants.\n",
    "Kevin has to make words starting with vowels.\n",
    "The game ends when both players have made all possible substrings.\n",
    "\n",
    "Scoring\n",
    "A player gets +1 point for each occurrence of the substring in the string .\n",
    "\n",
    "For Example:\n",
    "String  = BANANA\n",
    "Kevin's vowel beginning word = ANA\n",
    "Here, ANA occurs twice in BANANA. Hence, Kevin will get 2 Points.\n",
    "\n",
    "'''"
   ]
  },
  {
   "cell_type": "code",
   "execution_count": null,
   "metadata": {},
   "outputs": [],
   "source": [
    "'''\n",
    "\n",
    "Sample Input\n",
    "\n",
    "BANANA\n",
    "Sample Output\n",
    "\n",
    "Stuart 12\n",
    "\n",
    "'''"
   ]
  },
  {
   "cell_type": "code",
   "execution_count": 7,
   "metadata": {},
   "outputs": [
    {
     "name": "stdout",
     "output_type": "stream",
     "text": [
      "Stuart 12\n"
     ]
    }
   ],
   "source": [
    "def game(S):\n",
    "    # consonents\n",
    "    stuart = 0\n",
    "    # vowels\n",
    "    kevin = 0\n",
    "    n=len(S)\n",
    "    for i in range(n):\n",
    "        if S[i] in ('A', 'E', 'I', 'O', 'U'):\n",
    "            #print(\"k\",S[i],n-i)\n",
    "            kevin += n - i\n",
    "        else:\n",
    "            #print(\"s\",S[i],n-i)\n",
    "            stuart += n - i\n",
    "\n",
    "    if kevin > stuart:\n",
    "        print ('Kevin', kevin)\n",
    "    elif stuart > kevin:\n",
    "        print ('Stuart', stuart)\n",
    "    else:\n",
    "        print ('Draw')\n",
    "game(\"BANANA\")"
   ]
  },
  {
   "cell_type": "code",
   "execution_count": null,
   "metadata": {},
   "outputs": [],
   "source": []
  },
  {
   "cell_type": "code",
   "execution_count": null,
   "metadata": {},
   "outputs": [],
   "source": []
  },
  {
   "cell_type": "code",
   "execution_count": null,
   "metadata": {},
   "outputs": [],
   "source": []
  },
  {
   "cell_type": "code",
   "execution_count": 10,
   "metadata": {},
   "outputs": [
    {
     "data": {
      "text/plain": [
       "'print all possible positive numbers less than n\\nall adjecent digit has diff 1\\ninput=105 so\\noutput= 0,1,2,3,4,5,6,7,8,9,10,12,21,23,32,43,45,54,56,76,78,87,89,98,101'"
      ]
     },
     "execution_count": 10,
     "metadata": {},
     "output_type": "execute_result"
    }
   ],
   "source": [
    "'''print all possible positive numbers less than n\n",
    "all adjecent digit has diff 1\n",
    "input=105 so\n",
    "output= 0,1,2,3,4,5,6,7,8,9,10,12,21,23,32,43,45,54,56,76,78,87,89,98,101'''"
   ]
  },
  {
   "cell_type": "code",
   "execution_count": null,
   "metadata": {},
   "outputs": [],
   "source": []
  },
  {
   "cell_type": "code",
   "execution_count": 25,
   "metadata": {},
   "outputs": [
    {
     "name": "stdout",
     "output_type": "stream",
     "text": [
      "0\n",
      "1\n",
      "2\n",
      "3\n",
      "4\n",
      "5\n",
      "6\n",
      "7\n",
      "8\n",
      "9\n",
      "10\n",
      "12\n",
      "21\n",
      "23\n",
      "32\n",
      "34\n",
      "43\n",
      "45\n",
      "54\n",
      "56\n",
      "65\n",
      "67\n",
      "76\n",
      "78\n",
      "87\n",
      "89\n",
      "98\n"
     ]
    }
   ],
   "source": [
    "def poss(n):\n",
    "    for i in range (0,n+1):\n",
    "        if len(str(i))==1:\n",
    "            print(i)\n",
    "        elif len(str(i))==2:\n",
    "            j=str(i)\n",
    "            if int(j[0])-int(j[1])==1 or int(j[0])-int(j[1])==-1:\n",
    "                print(i)\n",
    "        elif len(str(i))==3:\n",
    "            j=str(i)\n",
    "            if int(j[1])-int(j[2])==1 or int(j[1])-int(j[2])==-1:\n",
    "                print(i)\n",
    "poss(99)"
   ]
  },
  {
   "cell_type": "code",
   "execution_count": 43,
   "metadata": {},
   "outputs": [
    {
     "name": "stdout",
     "output_type": "stream",
     "text": [
      "('a', 'b', 'c') 3\n"
     ]
    }
   ],
   "source": [
    "s=\"abc\"\n",
    "for _ in range(10):\n",
    "    s=tuple(s)\n",
    "print(s,len(s))"
   ]
  },
  {
   "cell_type": "markdown",
   "metadata": {},
   "source": [
    "# Matrix Script"
   ]
  },
  {
   "cell_type": "code",
   "execution_count": 3,
   "metadata": {},
   "outputs": [
    {
     "name": "stdout",
     "output_type": "stream",
     "text": [
      "7 3\n",
      "T s i\n",
      "h % x\n",
      "i   #\n",
      "s M  \n",
      "$ a  \n",
      "# t %\n",
      "i r !\n"
     ]
    }
   ],
   "source": [
    "import math\n",
    "import os\n",
    "import random\n",
    "import re\n",
    "import sys\n",
    "\n",
    "first_multiple_input = input().rstrip().split()\n",
    "\n",
    "n = int(first_multiple_input[0])\n",
    "m = int(first_multiple_input[1])\n",
    "matrix = []\n",
    "\n",
    "for _ in range(n):\n",
    "    matrix_item = input()\n",
    "    matrix.append(matrix_item)"
   ]
  },
  {
   "cell_type": "code",
   "execution_count": 40,
   "metadata": {},
   "outputs": [
    {
     "data": {
      "text/plain": [
       "'Tsi\\nh%x\\ni #\\nsM \\n$a \\n#t%\\nir!\\n\\nThis$#is% Matrix#  %!\\nThis is Matrix#  %!'"
      ]
     },
     "execution_count": 40,
     "metadata": {},
     "output_type": "execute_result"
    }
   ],
   "source": [
    "'''Tsi\n",
    "h%x\n",
    "i #\n",
    "sM \n",
    "$a \n",
    "#t%\n",
    "ir!\n",
    "\n",
    "This$#is% Matrix#  %!\n",
    "This is Matrix#  %!'''"
   ]
  },
  {
   "cell_type": "code",
   "execution_count": 36,
   "metadata": {},
   "outputs": [],
   "source": [
    "hj=\"\"\n",
    "for j in range(m):\n",
    "    for i in matrix:\n",
    "        hj+=i[j]"
   ]
  },
  {
   "cell_type": "code",
   "execution_count": 37,
   "metadata": {},
   "outputs": [
    {
     "name": "stdout",
     "output_type": "stream",
     "text": [
      "T s i\n",
      "h % x\n",
      "i   #\n",
      "s M  \n",
      "$ a  \n",
      "# t %\n",
      "i r !\n",
      "This$#i       s% Matr\n"
     ]
    }
   ],
   "source": [
    "for i in matrix:\n",
    "    print(i)\n",
    "print(hj)\n",
    "hj+=\"ix#  %!\"\n",
    "jk=0\n",
    "jt=\"\"\n",
    "for j in range(0,len(hj)):\n",
    "    if hj[j].isalpha():\n",
    "        jt+=hj[j]\n",
    "        jk=1\n",
    "    else:\n",
    "        if jk==1:\n",
    "            jt+=\" \"\n",
    "            jk=0\n",
    "tt=\"\"\n",
    "for i in range(len(hj)-1,0,-1):\n",
    "    if not hj[i].isalpha():\n",
    "        tt+=hj[i]\n",
    "    else:\n",
    "        break"
   ]
  },
  {
   "cell_type": "code",
   "execution_count": 39,
   "metadata": {},
   "outputs": [
    {
     "name": "stdout",
     "output_type": "stream",
     "text": [
      "This i s Matrix #  %!\n"
     ]
    }
   ],
   "source": [
    "print(jt+tt[::-1])"
   ]
  },
  {
   "cell_type": "code",
   "execution_count": 42,
   "metadata": {},
   "outputs": [
    {
     "name": "stdout",
     "output_type": "stream",
     "text": [
      "This$#i       s% Matr       ix#  %!\n",
      "This i s Matr ix#  %!\n"
     ]
    }
   ],
   "source": [
    "s = ''.join(''.join(e) for e in zip(*matrix))\n",
    "print(s)\n",
    "result = re.sub(r'([a-zA-Z0-9])([^a-zA-Z0-9]+)(?=[a-zA-Z0-9])', r'\\1 ', s)\n",
    "print(result)"
   ]
  }
 ],
 "metadata": {
  "kernelspec": {
   "display_name": "Python 3",
   "language": "python",
   "name": "python3"
  },
  "language_info": {
   "codemirror_mode": {
    "name": "ipython",
    "version": 3
   },
   "file_extension": ".py",
   "mimetype": "text/x-python",
   "name": "python",
   "nbconvert_exporter": "python",
   "pygments_lexer": "ipython3",
   "version": "3.7.3"
  }
 },
 "nbformat": 4,
 "nbformat_minor": 2
}
