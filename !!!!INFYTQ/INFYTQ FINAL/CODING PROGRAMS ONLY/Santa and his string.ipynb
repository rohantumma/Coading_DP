{
 "cells": [
  {
   "cell_type": "markdown",
   "metadata": {},
   "source": [
    "# '''Santa and his string\n",
    "'''"
   ]
  },
  {
   "cell_type": "code",
   "execution_count": 2,
   "metadata": {},
   "outputs": [
    {
     "data": {
      "text/plain": [
       "'\\nIn order to celebrate Christmas, Santa started playing with string S. He needs to know the maximum number of characters between any 2 same characters in the string.\\nAs he is busy in playing, help her for the same.\\nIf there are no 2 same characters in the string, print -1.\\n'"
      ]
     },
     "execution_count": 2,
     "metadata": {},
     "output_type": "execute_result"
    }
   ],
   "source": [
    "'''\n",
    "In order to celebrate Christmas, Santa started playing with string S. He needs to know the maximum number of characters between any 2 same characters in the string.\n",
    "As he is busy in playing, help her for the same.\n",
    "If there are no 2 same characters in the string, print -1.\n",
    "'''"
   ]
  },
  {
   "cell_type": "code",
   "execution_count": 86,
   "metadata": {},
   "outputs": [
    {
     "data": {
      "text/plain": [
       "'\\nSample Input 1:\\n2\\naba\\nbabcddc\\n\\nSample Output 1:\\n1\\n2\\n\\n'"
      ]
     },
     "execution_count": 86,
     "metadata": {},
     "output_type": "execute_result"
    }
   ],
   "source": [
    "'''\n",
    "Sample Input 1:\\\n",
    "\n",
    "2\n",
    "aba\n",
    "babcddc\n",
    "\n",
    "Sample Output 1:\n",
    "1\n",
    "2\n",
    "\n",
    "'''"
   ]
  },
  {
   "cell_type": "code",
   "execution_count": null,
   "metadata": {},
   "outputs": [],
   "source": []
  },
  {
   "cell_type": "code",
   "execution_count": null,
   "metadata": {},
   "outputs": [],
   "source": []
  },
  {
   "cell_type": "code",
   "execution_count": null,
   "metadata": {},
   "outputs": [],
   "source": []
  },
  {
   "cell_type": "code",
   "execution_count": 128,
   "metadata": {},
   "outputs": [
    {
     "name": "stdout",
     "output_type": "stream",
     "text": [
      "max = 3\n",
      "{'a': 0, 't': 0, 'b': 2, 'c': 0}\n",
      "False\n"
     ]
    }
   ],
   "source": [
    "st=\"batbcbbbc\"\n",
    "di={}\n",
    "for i in range(0,len(st)):\n",
    "    for j in range(i+1,len(st)):\n",
    "        count=0\n",
    "        if st[i]==st[j]:\n",
    "            #print(st[i],i,st[j],j)\n",
    "            for nj in range(i+1,j):\n",
    "                if st[nj]==st[nj+1]:\n",
    "                    count+=1\n",
    "                else:\n",
    "                    di[st[nj]]=count\n",
    "                    #print(count)\n",
    "if not bool(di) or sum(di.values())==0:\n",
    "    print(-1)\n",
    "else:\n",
    "    print(\"max =\",max(di.values())+1)\n",
    "print(di)\n",
    "print(sum(di.values())==0)"
   ]
  },
  {
   "cell_type": "code",
   "execution_count": 124,
   "metadata": {},
   "outputs": [
    {
     "name": "stdout",
     "output_type": "stream",
     "text": [
      "-1\n",
      "{'a': 0, 'c': 0, 'b': 0}\n",
      "True\n"
     ]
    }
   ],
   "source": [
    "st=\"babcbbbc\"\n",
    "di={}\n",
    "for i in range(0,len(st)):\n",
    "    for j in range(i+1,len(st)):\n",
    "        count=0\n",
    "        if st[i]==st[j]:\n",
    "            #print(st[i],i,st[j],j)\n",
    "            for nj in range(i+1,j):\n",
    "                #print(st[nj])\n",
    "                if st[nj]==st[nj+1]:\n",
    "                    count+=1\n",
    "                else:\n",
    "                    break \n",
    "            di[st[nj]]=count\n",
    "            #print(count)\n",
    "if not bool(di) or sum(di.values())==0:\n",
    "    print(-1)\n",
    "else:\n",
    "    print(\"max =\",max(di.values())+1)\n",
    "print(di)\n",
    "print(sum(di.values())==0)"
   ]
  }
 ],
 "metadata": {
  "kernelspec": {
   "display_name": "Python 3",
   "language": "python",
   "name": "python3"
  },
  "language_info": {
   "codemirror_mode": {
    "name": "ipython",
    "version": 3
   },
   "file_extension": ".py",
   "mimetype": "text/x-python",
   "name": "python",
   "nbconvert_exporter": "python",
   "pygments_lexer": "ipython3",
   "version": "3.7.3"
  }
 },
 "nbformat": 4,
 "nbformat_minor": 2
}
