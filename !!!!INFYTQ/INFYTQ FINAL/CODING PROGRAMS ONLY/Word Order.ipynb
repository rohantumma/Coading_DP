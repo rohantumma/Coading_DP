{
 "cells": [
  {
   "cell_type": "markdown",
   "metadata": {},
   "source": [
    "# Word Order\n",
    "\n"
   ]
  },
  {
   "cell_type": "code",
   "execution_count": 22,
   "metadata": {},
   "outputs": [
    {
     "name": "stdout",
     "output_type": "stream",
     "text": [
      "4\n",
      "ads\n",
      "sad\n",
      "fdg\n",
      "asd\n",
      "4\n",
      "1 1 1 1 "
     ]
    }
   ],
   "source": [
    "n = int(input())\n",
    "d ={}\n",
    "for i in range(n):\n",
    "    word = input()\n",
    "    if word in d:\n",
    "        d[word] += 1\n",
    "    else:\n",
    "        d[word] = 1\n",
    "\n",
    "print (len(d))\n",
    "for key, value in d.items():\n",
    "    print (value,end=\" \")"
   ]
  },
  {
   "cell_type": "code",
   "execution_count": 23,
   "metadata": {},
   "outputs": [
    {
     "name": "stdout",
     "output_type": "stream",
     "text": [
      "{'ads': 1, 'sad': 1, 'fdg': 1, 'asd': 1}\n"
     ]
    }
   ],
   "source": [
    "print(d)"
   ]
  },
  {
   "cell_type": "code",
   "execution_count": 29,
   "metadata": {},
   "outputs": [
    {
     "name": "stdout",
     "output_type": "stream",
     "text": [
      "1123456\n",
      "False\n"
     ]
    }
   ],
   "source": [
    "import re\n",
    "\n",
    "P = input()\n",
    "\n",
    "regex_integer_in_range = r'^[1-9][\\d]{5}$'  # Do not delete 'r'.\n",
    "\n",
    "regex_alternating_repetitive_digit_pair = r'(\\d)(?=\\d\\1)'  # Do not delete 'r'.\n",
    "\n",
    "print (bool(re.match(regex_integer_in_range, P)) and len(re.findall(regex_alternating_repetitive_digit_pair, P)) < 2)"
   ]
  },
  {
   "cell_type": "code",
   "execution_count": null,
   "metadata": {},
   "outputs": [],
   "source": []
  },
  {
   "cell_type": "code",
   "execution_count": null,
   "metadata": {},
   "outputs": [],
   "source": []
  }
 ],
 "metadata": {
  "kernelspec": {
   "display_name": "Python 3",
   "language": "python",
   "name": "python3"
  },
  "language_info": {
   "codemirror_mode": {
    "name": "ipython",
    "version": 3
   },
   "file_extension": ".py",
   "mimetype": "text/x-python",
   "name": "python",
   "nbconvert_exporter": "python",
   "pygments_lexer": "ipython3",
   "version": "3.7.3"
  }
 },
 "nbformat": 4,
 "nbformat_minor": 2
}
