{
 "cells": [
  {
   "cell_type": "code",
   "execution_count": 12,
   "metadata": {},
   "outputs": [
    {
     "name": "stdout",
     "output_type": "stream",
     "text": [
      "10\n"
     ]
    }
   ],
   "source": [
    "# import sys\n",
    "# s=\"aabbcda\"\n",
    "# d={}\n",
    "# for i in s:\n",
    "#     if i not in d:\n",
    "#         d[i]=1\n",
    "#     else:\n",
    "#         d[i]+=1\n",
    "# print(d)\n",
    "# for k,v in d.items():\n",
    "#     print(k,\"=\",v,end=\",\")\n",
    "\n",
    "\n",
    "i=int(input())"
   ]
  },
  {
   "cell_type": "code",
   "execution_count": 57,
   "metadata": {},
   "outputs": [
    {
     "name": "stdout",
     "output_type": "stream",
     "text": [
      "{2: 'cat', 1: 'dog'}\n",
      "catcatdog"
     ]
    }
   ],
   "source": [
    "s=\"2cat1dog1plant\"\n",
    "t=0\n",
    "m=''\n",
    "d={}\n",
    "for i in range(0,len(s)):\n",
    "    if s[i].isdigit():\n",
    "        d[t]=m\n",
    "        m=''\n",
    "        t=int(s[i])\n",
    "    else:\n",
    "        m=m+s[i]\n",
    "del d[0]    \n",
    "print(d)\n",
    "for k,v in d.items():\n",
    "    for i in range(0,k):S\n",
    "        print(v,end=\"\")"
   ]
  },
  {
   "cell_type": "code",
   "execution_count": null,
   "metadata": {},
   "outputs": [],
   "source": [
    "s=input()\n",
    "temp=0\n",
    "for i in range(len(s)):\n",
    "    if s[i].isdigit():\n",
    "        temp=int(s[i])\n",
    "        j=i+1\n",
    "        while(s[j].isdigit()==False and j!=(len(s)-1)):\n",
    "            j+=1\n",
    "        if(j==len(s)-1):\n",
    "            print((s[i + 1:j]+s[j]) * temp,end='')\n",
    "        else:\n",
    "            print(s[i+1:j]*temp,end='')"
   ]
  },
  {
   "cell_type": "code",
   "execution_count": null,
   "metadata": {},
   "outputs": [],
   "source": []
  },
  {
   "cell_type": "code",
   "execution_count": null,
   "metadata": {},
   "outputs": [],
   "source": []
  },
  {
   "cell_type": "code",
   "execution_count": 24,
   "metadata": {},
   "outputs": [
    {
     "name": "stdout",
     "output_type": "stream",
     "text": [
      "sad\n",
      "sentence doesn’t include any keyword\n"
     ]
    }
   ],
   "source": [
    "li=['include', 'break', 'case', 'continue', 'default', 'defer', 'else', 'for', 'func', 'goto', 'if', 'return', 'struct', 'type']\n",
    "s=list(map(str,input().split(\" \")))\n",
    "\n",
    "d={}\n",
    "for i in s:\n",
    "    if i.lower() in li:\n",
    "        if i not in d:\n",
    "            d[i]=s.count(i)\n",
    "if d=={}:\n",
    "    print(\"sentence doesn’t include any keyword\")\n",
    "else:\n",
    "    for k,v in d.items():\n",
    "        print(k,v)"
   ]
  },
  {
   "cell_type": "code",
   "execution_count": 27,
   "metadata": {},
   "outputs": [
    {
     "name": "stdout",
     "output_type": "stream",
     "text": [
      "how\n",
      "are\n",
      "you\n",
      "h*wa@eYOU\n"
     ]
    }
   ],
   "source": [
    "a=input()\n",
    "b=input()\n",
    "c=input()\n",
    "\n",
    "v=['a','e','i','o','u']\n",
    "\n",
    "for i in a:\n",
    "    if i in v:\n",
    "        u=(a.replace(i,'*'))\n",
    "a=u\n",
    "for i in b:\n",
    "    if i not in v:\n",
    "        v=(b.replace(i,'@'))\n",
    "b=u\n",
    "for i in c:\n",
    "    w=c.replace(i,chr(ord(i)-32))\n",
    "    c=w\n",
    "FINAL=u+v+w\n",
    "print(FINAL)"
   ]
  },
  {
   "cell_type": "code",
   "execution_count": 29,
   "metadata": {},
   "outputs": [
    {
     "name": "stdout",
     "output_type": "stream",
     "text": [
      "2\n",
      "73\n",
      "67\n",
      "75\n",
      "67\n"
     ]
    }
   ],
   "source": [
    "n = int(input().strip())\n",
    "t=[]\n",
    "for _ in range(n):\n",
    "    t.append(int(input()))\n",
    "for grade in t:\n",
    "    if grade >= 38:\n",
    "        mod5 = grade % 5\n",
    "        if mod5 >= 3:\n",
    "            grade = grade + (5 - mod5)\n",
    "    print(grade)"
   ]
  },
  {
   "cell_type": "code",
   "execution_count": null,
   "metadata": {},
   "outputs": [],
   "source": []
  }
 ],
 "metadata": {
  "kernelspec": {
   "display_name": "Python 3",
   "language": "python",
   "name": "python3"
  },
  "language_info": {
   "codemirror_mode": {
    "name": "ipython",
    "version": 3
   },
   "file_extension": ".py",
   "mimetype": "text/x-python",
   "name": "python",
   "nbconvert_exporter": "python",
   "pygments_lexer": "ipython3",
   "version": "3.7.3"
  }
 },
 "nbformat": 4,
 "nbformat_minor": 2
}
