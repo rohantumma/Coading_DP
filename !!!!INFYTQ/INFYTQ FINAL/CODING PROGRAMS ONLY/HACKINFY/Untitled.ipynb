{
 "cells": [
  {
   "cell_type": "code",
   "execution_count": 80,
   "metadata": {},
   "outputs": [
    {
     "name": "stdout",
     "output_type": "stream",
     "text": [
      "['D', 'E', 'H', 'L', 'O', 'R', 'W']\n",
      "d H\n",
      "e e\n",
      "H l\n",
      "l L\n",
      "L L\n",
      "l L\n",
      "o o\n",
      "O o\n",
      "r W\n",
      "W O\n",
      "['d', 'e', 'H', 'lLl', 'oO', 'r', 'W']\n",
      "dWerHoOlLl\n"
     ]
    }
   ],
   "source": [
    "s=\"HelLoWOrld\"\n",
    "ss=sorted(set(s.upper()))\n",
    "print(ss)\n",
    "li=[]\n",
    "\n",
    "for i in range(len(ss)):\n",
    "    t=\"\"\n",
    "    for j in s:\n",
    "        if ss[i]==j.upper():\n",
    "            print(j,s[i])\n",
    "            t+=j\n",
    "    li.append(t)\n",
    "print(li)\n",
    "\n",
    "kk=int(len(li)/2)\n",
    "for i in range(1,len(li),2):\n",
    "    li.insert(i,li.pop())\n",
    "print(\"\".join(li))"
   ]
  },
  {
   "cell_type": "code",
   "execution_count": 78,
   "metadata": {},
   "outputs": [
    {
     "name": "stdout",
     "output_type": "stream",
     "text": [
      "['D', 'E', 'H', 'L', 'O', 'R', 'W']\n"
     ]
    }
   ],
   "source": [
    "s=\"HelLoWOrld\"\n",
    "ss=sorted(set(s.upper()))\n",
    "print(ss)\n"
   ]
  },
  {
   "cell_type": "code",
   "execution_count": null,
   "metadata": {},
   "outputs": [],
   "source": []
  },
  {
   "cell_type": "code",
   "execution_count": null,
   "metadata": {},
   "outputs": [],
   "source": []
  }
 ],
 "metadata": {
  "kernelspec": {
   "display_name": "Python 3",
   "language": "python",
   "name": "python3"
  },
  "language_info": {
   "codemirror_mode": {
    "name": "ipython",
    "version": 3
   },
   "file_extension": ".py",
   "mimetype": "text/x-python",
   "name": "python",
   "nbconvert_exporter": "python",
   "pygments_lexer": "ipython3",
   "version": "3.7.3"
  }
 },
 "nbformat": 4,
 "nbformat_minor": 2
}
