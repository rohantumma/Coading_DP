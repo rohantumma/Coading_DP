{
 "cells": [
  {
   "cell_type": "markdown",
   "metadata": {},
   "source": [
    "# Longest prefix which is also suffix"
   ]
  },
  {
   "cell_type": "code",
   "execution_count": 1,
   "metadata": {},
   "outputs": [
    {
     "data": {
      "text/plain": [
       "'Longest prefix which is also suffix\\nGiven a string s, find length of the longest prefix which is also suffix. The prefix and suffix should not overlap.\\n\\nExamples:\\n\\nInput : aabcdaabc\\nOutput : 4\\nThe string \"aabc\" is the longest\\nprefix which is also suffix.\\n\\nInput : abcab\\nOutput : 2\\n\\nInput : aaaa\\nOutput : 2'"
      ]
     },
     "execution_count": 1,
     "metadata": {},
     "output_type": "execute_result"
    }
   ],
   "source": [
    "'''Longest prefix which is also suffix\n",
    "Given a string s, find length of the longest prefix which is also suffix. The prefix and suffix should not overlap.\n",
    "\n",
    "Examples:\n",
    "\n",
    "Input : aabcdaabc\n",
    "Output : 4\n",
    "The string \"aabc\" is the longest\n",
    "prefix which is also suffix.\n",
    "\n",
    "Input : abcab\n",
    "Output : 2\n",
    "\n",
    "Input : aaaa\n",
    "Output : 2'''"
   ]
  },
  {
   "cell_type": "code",
   "execution_count": 20,
   "metadata": {},
   "outputs": [
    {
     "name": "stdout",
     "output_type": "stream",
     "text": [
      "aabcdaabc\n",
      "d\n",
      "a a\n",
      "a a\n",
      "b b\n",
      "c c\n",
      "4\n"
     ]
    }
   ],
   "source": [
    "from goto import with_goto\n",
    "@with_goto\n",
    "def rangei():\n",
    "    s=input()\n",
    "    t=len(s)//2\n",
    "    co=0\n",
    "    print(s[t])\n",
    "    for i in range(0,len(s)//2):\n",
    "        label .begin\n",
    "        if s[i]==s[t]:\n",
    "            print(s[i],s[t])\n",
    "            co+=1\n",
    "            t+=1\n",
    "        else:\n",
    "            t+=1\n",
    "            goto .begin\n",
    "    return co  \n",
    "print(rangei())"
   ]
  },
  {
   "cell_type": "markdown",
   "metadata": {},
   "source": [
    "# Given a string of brackets (, ), {, }, [, ], "
   ]
  },
  {
   "cell_type": "code",
   "execution_count": 22,
   "metadata": {},
   "outputs": [
    {
     "data": {
      "text/plain": [
       "'Ques 2: Given a string of brackets (, ), {, }, [, ], find the position in the string where the orders of brackets breaks.\\n\\nI/p: ())\\n\\nO/p: 3\\n\\n \\n\\nI/p: (){[]}(\\n\\nO/p: 8'"
      ]
     },
     "execution_count": 22,
     "metadata": {},
     "output_type": "execute_result"
    }
   ],
   "source": [
    "'''Ques 2: Given a string of brackets (, ), {, }, [, ], find the position in the string where the orders of brackets breaks.\n",
    "\n",
    "I/p: ())\n",
    "\n",
    "O/p: 3\n",
    "\n",
    " \n",
    "\n",
    "I/p: (){[]}(\n",
    "\n",
    "O/p: 8'''"
   ]
  },
  {
   "cell_type": "code",
   "execution_count": 32,
   "metadata": {},
   "outputs": [
    {
     "name": "stdout",
     "output_type": "stream",
     "text": [
      "1\n"
     ]
    }
   ],
   "source": [
    "s='((())))'\n",
    "op=['(','[','{']\n",
    "cl=[')',']','}']\n",
    "s+=\"0\"\n",
    "for i in range(0,len(s),2):\n",
    "    if s[i] in op:\n",
    "        if s[i+1] in cl:\n",
    "            print(s[i])\n",
    "        else:\n",
    "            print(i+1)\n",
    "            break\n",
    "    else:\n",
    "        print(i+1)\n",
    "        break\n",
    "        \n"
   ]
  },
  {
   "cell_type": "code",
   "execution_count": 52,
   "metadata": {},
   "outputs": [
    {
     "name": "stdout",
     "output_type": "stream",
     "text": [
      "[\n",
      "['[']\n",
      "(\n",
      "['[', '(']\n",
      "(\n",
      "['[', '(', '(']\n",
      "(\n",
      "['[', '(', '(', '(']\n",
      "[\n",
      "['[', '(', '(', '(', '[']\n",
      ")\n",
      "6\n",
      "None\n"
     ]
    }
   ],
   "source": [
    "s='[((([))'\n",
    "op=['(','[','{']\n",
    "cl=[')',']','}']\n",
    "\n",
    "oo=[]\n",
    "def st(i,s):\n",
    "    if(i==len(s)):\n",
    "        return 0\n",
    "    else:\n",
    "        print(s[i])\n",
    "        if s[i] in op:\n",
    "            oo.append(s[i])\n",
    "            print(oo)\n",
    "            st(i+1,s)\n",
    "        else:\n",
    "            if len(oo)!=0:\n",
    "                if op.index(oo.pop())==cl.index(s[i]):\n",
    "                    print(oo)\n",
    "                    st(i+1,s)\n",
    "                    pass\n",
    "                else:\n",
    "                    print(i+1)\n",
    "            else:print(i+1)\n",
    "print(st(0,s))"
   ]
  },
  {
   "cell_type": "code",
   "execution_count": 72,
   "metadata": {},
   "outputs": [
    {
     "name": "stdout",
     "output_type": "stream",
     "text": [
      "5 10 4\n",
      "3 2 4 1 5\n",
      "[3, 2, 4, 1]\n",
      "[6, 8, 4, 2]\n",
      "[12, 16, 8, 4]\n",
      "[24, 32, 16, 8]\n",
      "150\n"
     ]
    }
   ],
   "source": [
    "def maxRent (arr,x,y):\n",
    "    li=[]\n",
    "    sum=0\n",
    "    for i in arr:\n",
    "        sum+=i\n",
    "        if sum <=x :\n",
    "            li.append(i)\n",
    "        else:\n",
    "            sum-=i\n",
    "    sum=0\n",
    "    for i in range(0,len(li)):\n",
    "        print(li)\n",
    "        for j in li:\n",
    "            li[li.index(j)]=j*2\n",
    "    for i in li:\n",
    "        sum+=i\n",
    "    return sum -x  \n",
    "\n",
    "N,X,Y = map(int, input().split())\n",
    "arr = map(int, input().split())\n",
    "\n",
    "out_ = maxRent(arr,X,Y)\n",
    "print (out_)"
   ]
  },
  {
   "cell_type": "code",
   "execution_count": null,
   "metadata": {},
   "outputs": [],
   "source": [
    "5 10 4\n",
    "3 2 4 1 5\n",
    "\n",
    "\n",
    "48 32 64 16\n",
    "64 16 80\n"
   ]
  }
 ],
 "metadata": {
  "kernelspec": {
   "display_name": "Python 3",
   "language": "python",
   "name": "python3"
  },
  "language_info": {
   "codemirror_mode": {
    "name": "ipython",
    "version": 3
   },
   "file_extension": ".py",
   "mimetype": "text/x-python",
   "name": "python",
   "nbconvert_exporter": "python",
   "pygments_lexer": "ipython3",
   "version": "3.7.3"
  }
 },
 "nbformat": 4,
 "nbformat_minor": 2
}
