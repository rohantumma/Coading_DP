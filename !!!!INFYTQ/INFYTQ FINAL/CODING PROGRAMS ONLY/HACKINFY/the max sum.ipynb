{
 "cells": [
  {
   "cell_type": "code",
   "execution_count": 1,
   "metadata": {},
   "outputs": [
    {
     "name": "stdout",
     "output_type": "stream",
     "text": [
      "[123, 234, 34124, 35345]\n"
     ]
    }
   ],
   "source": [
    "a=[123,34124,234,35345]\n",
    "a.sort()\n",
    "print(a)"
   ]
  },
  {
   "cell_type": "code",
   "execution_count": 10,
   "metadata": {},
   "outputs": [
    {
     "name": "stdout",
     "output_type": "stream",
     "text": [
      "1\n",
      "1 2 3 4 5\n"
     ]
    }
   ],
   "source": [
    "n= int(input())\n",
    "s=[]\n",
    "sum=0\n",
    "array = list(map(int,input().split()))\n",
    "array.sort()\n",
    "\n",
    "\n"
   ]
  },
  {
   "cell_type": "code",
   "execution_count": 11,
   "metadata": {},
   "outputs": [
    {
     "name": "stdout",
     "output_type": "stream",
     "text": [
      "[1, 2, 3, 4, 5]\n",
      "10\n"
     ]
    }
   ],
   "source": [
    "sum=0\n",
    "print(array)\n",
    "for i in range(0,len(array)-1):\n",
    "    sum+=array[i]\n",
    "print(sum)"
   ]
  },
  {
   "cell_type": "code",
   "execution_count": 12,
   "metadata": {},
   "outputs": [
    {
     "name": "stdout",
     "output_type": "stream",
     "text": [
      "6\n",
      "5\n",
      "3\n",
      "5\n",
      "2\n",
      "3\n",
      "4\n",
      "6\n",
      "1\n",
      "6\n",
      "5\n",
      "6\n",
      "{6: 5, 3: 5, 2: 3, 4: 6, 1: 6, 5: 6}\n"
     ]
    }
   ],
   "source": [
    "s={}\n",
    "for i in range(0,6):\n",
    "    j=int(input())\n",
    "    k=int(input())\n",
    "    s[j]=k\n",
    "print(s)"
   ]
  },
  {
   "cell_type": "code",
   "execution_count": 13,
   "metadata": {},
   "outputs": [
    {
     "name": "stdout",
     "output_type": "stream",
     "text": [
      "[(2, 3), (3, 5), (6, 5), (1, 6), (4, 6), (5, 6)]\n"
     ]
    }
   ],
   "source": [
    "print(sorted(s.items(), key = lambda kv:(kv[1], kv[0])))"
   ]
  },
  {
   "cell_type": "code",
   "execution_count": 32,
   "metadata": {},
   "outputs": [
    {
     "name": "stdout",
     "output_type": "stream",
     "text": [
      "6 5\n",
      "3 5\n",
      "2 3\n",
      "4 6\n",
      "1 6\n",
      "5 6\n",
      "[6, 3, 2, 4, 1, 5]\n"
     ]
    }
   ],
   "source": [
    "kk=[]\n",
    "for k,v in s.items():\n",
    "    kk.append(k)\n",
    "    print(k,v)\n",
    "print(kk)\n",
    "\n",
    "for i in range(len(kk)):\n",
    "    pass"
   ]
  },
  {
   "cell_type": "code",
   "execution_count": 35,
   "metadata": {},
   "outputs": [
    {
     "name": "stdout",
     "output_type": "stream",
     "text": [
      "(1, 6)\n",
      "(2, 3)\n",
      "(3, 5)\n",
      "(4, 6)\n",
      "(5, 6)\n",
      "(6, 5)\n"
     ]
    }
   ],
   "source": [
    " for i in sorted (s) : \n",
    "    print ((i, s[i])) "
   ]
  },
  {
   "cell_type": "code",
   "execution_count": 52,
   "metadata": {},
   "outputs": [
    {
     "name": "stdout",
     "output_type": "stream",
     "text": [
      "1: 6\n",
      "2: 3\n",
      "3: 5\n",
      "4: 6\n",
      "5: 6\n",
      "6: 5\n"
     ]
    }
   ],
   "source": [
    "\n",
    "for key in sorted(s.keys()):\n",
    "    print(\"%s: %s\" % (key, s[key]))"
   ]
  },
  {
   "cell_type": "code",
   "execution_count": 66,
   "metadata": {},
   "outputs": [
    {
     "name": "stdout",
     "output_type": "stream",
     "text": [
      "[1, 2, 3, 4, 5]\n"
     ]
    }
   ],
   "source": [
    "arr = [1, 2, 3, 4, 5] \n",
    "k = 6\n",
    "m = 3 \n",
    "print(cost)\n",
    "\n",
    "curr_"
   ]
  },
  {
   "cell_type": "code",
   "execution_count": 23,
   "metadata": {},
   "outputs": [
    {
     "name": "stdout",
     "output_type": "stream",
     "text": [
      "1\n",
      "5 3\n",
      "1 2 3 4 5\n",
      "6\n"
     ]
    }
   ],
   "source": [
    "def ispos(A,size,B,currmin):\n",
    "    student=1\n",
    "    sum=0\n",
    "    for i in range(0,size):\n",
    "        if A[i] >currmin:\n",
    "            return False\n",
    "        if (sum+A[i])>currmin:\n",
    "            student+=1\n",
    "            sum=A[i]\n",
    "            if student>B:\n",
    "                return False\n",
    "        else:\n",
    "            sum+=A[i]\n",
    "    return True\n",
    "def toffees(A,size,B):\n",
    "    sum=0\n",
    "    if size<B:\n",
    "        return -1\n",
    "    for i in range(size):\n",
    "        sum+=A[i]\n",
    "    start=0\n",
    "    mid=0\n",
    "    end=sum\n",
    "    result=1000000\n",
    "    while(start<=end):\n",
    "        mid=int((start+end)/2)\n",
    "        if ispos(A,size,B,mid):\n",
    "            result=min(result,mid)\n",
    "            end=mid-1\n",
    "        else:\n",
    "            start=mid+1\n",
    "    return result\n",
    "\n",
    "T=int(input())\n",
    "ans=[]\n",
    "for _ in range(T):\n",
    "    inp=list(map(int,input().split()))\n",
    "    A=list(map(int,input().split()))\n",
    "    print(toffees(A,inp[0],inp[1]))"
   ]
  },
  {
   "cell_type": "code",
   "execution_count": 92,
   "metadata": {},
   "outputs": [],
   "source": []
  },
  {
   "cell_type": "code",
   "execution_count": 2,
   "metadata": {},
   "outputs": [
    {
     "ename": "KeyboardInterrupt",
     "evalue": "",
     "output_type": "error",
     "traceback": [
      "\u001b[1;31m---------------------------------------------------------------------------\u001b[0m",
      "\u001b[1;31mKeyboardInterrupt\u001b[0m                         Traceback (most recent call last)",
      "\u001b[1;32m<ipython-input-2-f494f37a0a2c>\u001b[0m in \u001b[0;36m<module>\u001b[1;34m\u001b[0m\n\u001b[0;32m      6\u001b[0m \u001b[0mans\u001b[0m\u001b[1;33m=\u001b[0m\u001b[1;33m[\u001b[0m\u001b[1;33m]\u001b[0m\u001b[1;33m\u001b[0m\u001b[1;33m\u001b[0m\u001b[0m\n\u001b[0;32m      7\u001b[0m \u001b[1;32mwhile\u001b[0m\u001b[1;33m(\u001b[0m\u001b[0ml\u001b[0m\u001b[1;33m<=\u001b[0m\u001b[0mr\u001b[0m\u001b[1;33m)\u001b[0m\u001b[1;33m:\u001b[0m\u001b[1;33m\u001b[0m\u001b[1;33m\u001b[0m\u001b[0m\n\u001b[1;32m----> 8\u001b[1;33m     \u001b[1;32mif\u001b[0m \u001b[0mposs\u001b[0m\u001b[1;33m(\u001b[0m\u001b[0marr\u001b[0m\u001b[1;33m,\u001b[0m\u001b[0mm\u001b[0m\u001b[1;33m,\u001b[0m\u001b[0mmid\u001b[0m\u001b[1;33m)\u001b[0m\u001b[1;33m:\u001b[0m\u001b[1;33m\u001b[0m\u001b[1;33m\u001b[0m\u001b[0m\n\u001b[0m\u001b[0;32m      9\u001b[0m         \u001b[0mans\u001b[0m\u001b[1;33m.\u001b[0m\u001b[0mappend\u001b[0m\u001b[1;33m(\u001b[0m\u001b[0mmid\u001b[0m\u001b[1;33m)\u001b[0m\u001b[1;33m\u001b[0m\u001b[1;33m\u001b[0m\u001b[0m\n\u001b[0;32m     10\u001b[0m         \u001b[0mr\u001b[0m\u001b[1;33m=\u001b[0m\u001b[0mmid\u001b[0m\u001b[1;33m-\u001b[0m\u001b[1;36m1\u001b[0m\u001b[1;33m\u001b[0m\u001b[1;33m\u001b[0m\u001b[0m\n",
      "\u001b[1;31mKeyboardInterrupt\u001b[0m: "
     ]
    }
   ],
   "source": [
    "\n",
    "l=max(arr)\n",
    "r=sum(arr)\n",
    "mid=(l+r)//2\n",
    "ans=[]\n",
    "while(l<=r):\n",
    "    if poss(arr,m,mid):\n",
    "        ans.append(mid)\n",
    "        r=mid-1\n",
    "    else:\n",
    "        l=mid-1\n",
    "    mid=(l+r)//2\n",
    "print(min(ans))"
   ]
  },
  {
   "cell_type": "code",
   "execution_count": 82,
   "metadata": {},
   "outputs": [
    {
     "name": "stdout",
     "output_type": "stream",
     "text": [
      "True\n"
     ]
    }
   ],
   "source": [
    "arr=[1, 2, 3, 4, 5]\n",
    "k=6\n",
    "m=3\n",
    "fl=True\n",
    "curr_sub=arr[0]\n",
    "subs=1\n",
    "for i in range(1,len(arr)):\n",
    "    if arr[i]+curr_sub>k:\n",
    "        curr_sub=arr[i]\n",
    "        subs=subs+1\n",
    "    else:\n",
    "        curr_sub=arr[i]+curr_sub\n",
    "    if subs>m:\n",
    "        fl=False\n",
    "        break\n",
    "print(fl)"
   ]
  },
  {
   "cell_type": "code",
   "execution_count": 87,
   "metadata": {},
   "outputs": [
    {
     "name": "stdout",
     "output_type": "stream",
     "text": [
      "0 False\n",
      "1 False\n",
      "2 False\n",
      "3 False\n",
      "4 False\n",
      "5 False\n",
      "6 True\n",
      "7 True\n",
      "8 True\n",
      "9 True\n"
     ]
    }
   ],
   "source": [
    "arr=[1, 2, 3, 4, 5]\n",
    "m=3\n",
    "\n",
    "for k in range(0,10):\n",
    "    fl=True\n",
    "    curr_sub=arr[0]\n",
    "    subs=1\n",
    "    for i in range(1,len(arr)):\n",
    "        if arr[i]+curr_sub>k:\n",
    "            curr_sub=arr[i]\n",
    "            subs=subs+1\n",
    "        else:\n",
    "            curr_sub=arr[i]+curr_sub\n",
    "        if subs>m:\n",
    "            fl=False\n",
    "            break\n",
    "    print(k,fl)"
   ]
  },
  {
   "cell_type": "code",
   "execution_count": 5,
   "metadata": {},
   "outputs": [
    {
     "name": "stdout",
     "output_type": "stream",
     "text": [
      "1\n",
      "5 3\n",
      "1 2 3 4 5\n",
      "k= 6\n"
     ]
    }
   ],
   "source": [
    "def poss(arr,m,k):\n",
    "    curr_sub=arr[0]\n",
    "    subs=1\n",
    "    flag=True\n",
    "    for i in range(1,len(arr)):\n",
    "        if arr[i]+curr_sub>k:\n",
    "            curr_sub=arr[i]\n",
    "            subs=subs+1\n",
    "        else:\n",
    "            curr_sub=arr[i]+curr_sub\n",
    "        if subs>m:\n",
    "            flag=False\n",
    "            break\n",
    "    return flag\n",
    "\n",
    "T=int(input())\n",
    "ans=[]\n",
    "for _ in range(T):\n",
    "    inp=list(map(int,input().split()))\n",
    "    m=inp[1]\n",
    "    arr=list(map(int,input().split()))\n",
    "    l=max(arr)\n",
    "    r=sum(arr)\n",
    "    mid=(l+r)//2\n",
    "    ans=[]\n",
    "    while(l<=r):\n",
    "        if poss(arr,m,mid):\n",
    "        #print(mid)\n",
    "            ans.append(mid)\n",
    "            r=mid-1\n",
    "        else:\n",
    "            l=mid+1\n",
    "        mid=(l+r)//2\n",
    "    print(min(ans))"
   ]
  },
  {
   "cell_type": "code",
   "execution_count": 19,
   "metadata": {},
   "outputs": [
    {
     "ename": "IndexError",
     "evalue": "list index out of range",
     "output_type": "error",
     "traceback": [
      "\u001b[1;31m---------------------------------------------------------------------------\u001b[0m",
      "\u001b[1;31mIndexError\u001b[0m                                Traceback (most recent call last)",
      "\u001b[1;32m<ipython-input-19-07b0f3762dfc>\u001b[0m in \u001b[0;36m<module>\u001b[1;34m\u001b[0m\n\u001b[0;32m     37\u001b[0m \u001b[0mAdd_Edge\u001b[0m\u001b[1;33m(\u001b[0m\u001b[1;36m2\u001b[0m\u001b[1;33m,\u001b[0m\u001b[1;36m5\u001b[0m\u001b[1;33m)\u001b[0m\u001b[1;33m\u001b[0m\u001b[1;33m\u001b[0m\u001b[0m\n\u001b[0;32m     38\u001b[0m \u001b[1;33m\u001b[0m\u001b[0m\n\u001b[1;32m---> 39\u001b[1;33m \u001b[0mdfs\u001b[0m\u001b[1;33m(\u001b[0m\u001b[1;36m1\u001b[0m\u001b[1;33m,\u001b[0m \u001b[1;36m0\u001b[0m\u001b[1;33m,\u001b[0m \u001b[0mcolor\u001b[0m\u001b[1;33m)\u001b[0m\u001b[1;33m\u001b[0m\u001b[1;33m\u001b[0m\u001b[0m\n\u001b[0m\u001b[0;32m     40\u001b[0m \u001b[1;33m\u001b[0m\u001b[0m\n\u001b[0;32m     41\u001b[0m \u001b[0mprint\u001b[0m\u001b[1;33m(\u001b[0m\u001b[0mans\u001b[0m\u001b[1;33m)\u001b[0m\u001b[1;33m\u001b[0m\u001b[1;33m\u001b[0m\u001b[0m\n",
      "\u001b[1;32m<ipython-input-19-07b0f3762dfc>\u001b[0m in \u001b[0;36mdfs\u001b[1;34m(child, par, color)\u001b[0m\n\u001b[0;32m     24\u001b[0m                 \u001b[1;32mif\u001b[0m \u001b[1;33m(\u001b[0m\u001b[0mit\u001b[0m \u001b[1;33m==\u001b[0m \u001b[0mpar\u001b[0m\u001b[1;33m)\u001b[0m\u001b[1;33m:\u001b[0m\u001b[1;33m\u001b[0m\u001b[1;33m\u001b[0m\u001b[0m\n\u001b[0;32m     25\u001b[0m                         \u001b[1;32mcontinue\u001b[0m\u001b[1;33m\u001b[0m\u001b[1;33m\u001b[0m\u001b[0m\n\u001b[1;32m---> 26\u001b[1;33m                 \u001b[0mdfs\u001b[0m\u001b[1;33m(\u001b[0m\u001b[0mit\u001b[0m\u001b[1;33m,\u001b[0m \u001b[0mchild\u001b[0m\u001b[1;33m,\u001b[0m \u001b[0mcolor\u001b[0m\u001b[1;33m)\u001b[0m\u001b[1;33m\u001b[0m\u001b[1;33m\u001b[0m\u001b[0m\n\u001b[0m\u001b[0;32m     27\u001b[0m \u001b[1;33m\u001b[0m\u001b[0m\n\u001b[0;32m     28\u001b[0m \u001b[1;31m# Driver code\u001b[0m\u001b[1;33m\u001b[0m\u001b[1;33m\u001b[0m\u001b[1;33m\u001b[0m\u001b[0m\n",
      "\u001b[1;32m<ipython-input-19-07b0f3762dfc>\u001b[0m in \u001b[0;36mdfs\u001b[1;34m(child, par, color)\u001b[0m\n\u001b[0;32m     24\u001b[0m                 \u001b[1;32mif\u001b[0m \u001b[1;33m(\u001b[0m\u001b[0mit\u001b[0m \u001b[1;33m==\u001b[0m \u001b[0mpar\u001b[0m\u001b[1;33m)\u001b[0m\u001b[1;33m:\u001b[0m\u001b[1;33m\u001b[0m\u001b[1;33m\u001b[0m\u001b[0m\n\u001b[0;32m     25\u001b[0m                         \u001b[1;32mcontinue\u001b[0m\u001b[1;33m\u001b[0m\u001b[1;33m\u001b[0m\u001b[0m\n\u001b[1;32m---> 26\u001b[1;33m                 \u001b[0mdfs\u001b[0m\u001b[1;33m(\u001b[0m\u001b[0mit\u001b[0m\u001b[1;33m,\u001b[0m \u001b[0mchild\u001b[0m\u001b[1;33m,\u001b[0m \u001b[0mcolor\u001b[0m\u001b[1;33m)\u001b[0m\u001b[1;33m\u001b[0m\u001b[1;33m\u001b[0m\u001b[0m\n\u001b[0m\u001b[0;32m     27\u001b[0m \u001b[1;33m\u001b[0m\u001b[0m\n\u001b[0;32m     28\u001b[0m \u001b[1;31m# Driver code\u001b[0m\u001b[1;33m\u001b[0m\u001b[1;33m\u001b[0m\u001b[1;33m\u001b[0m\u001b[0m\n",
      "\u001b[1;32m<ipython-input-19-07b0f3762dfc>\u001b[0m in \u001b[0;36mdfs\u001b[1;34m(child, par, color)\u001b[0m\n\u001b[0;32m     24\u001b[0m                 \u001b[1;32mif\u001b[0m \u001b[1;33m(\u001b[0m\u001b[0mit\u001b[0m \u001b[1;33m==\u001b[0m \u001b[0mpar\u001b[0m\u001b[1;33m)\u001b[0m\u001b[1;33m:\u001b[0m\u001b[1;33m\u001b[0m\u001b[1;33m\u001b[0m\u001b[0m\n\u001b[0;32m     25\u001b[0m                         \u001b[1;32mcontinue\u001b[0m\u001b[1;33m\u001b[0m\u001b[1;33m\u001b[0m\u001b[0m\n\u001b[1;32m---> 26\u001b[1;33m                 \u001b[0mdfs\u001b[0m\u001b[1;33m(\u001b[0m\u001b[0mit\u001b[0m\u001b[1;33m,\u001b[0m \u001b[0mchild\u001b[0m\u001b[1;33m,\u001b[0m \u001b[0mcolor\u001b[0m\u001b[1;33m)\u001b[0m\u001b[1;33m\u001b[0m\u001b[1;33m\u001b[0m\u001b[0m\n\u001b[0m\u001b[0;32m     27\u001b[0m \u001b[1;33m\u001b[0m\u001b[0m\n\u001b[0;32m     28\u001b[0m \u001b[1;31m# Driver code\u001b[0m\u001b[1;33m\u001b[0m\u001b[1;33m\u001b[0m\u001b[1;33m\u001b[0m\u001b[0m\n",
      "\u001b[1;32m<ipython-input-19-07b0f3762dfc>\u001b[0m in \u001b[0;36mdfs\u001b[1;34m(child, par, color)\u001b[0m\n\u001b[0;32m     17\u001b[0m \u001b[1;33m\u001b[0m\u001b[0m\n\u001b[0;32m     18\u001b[0m         \u001b[1;31m# When there is difference in colors\u001b[0m\u001b[1;33m\u001b[0m\u001b[1;33m\u001b[0m\u001b[1;33m\u001b[0m\u001b[0m\n\u001b[1;32m---> 19\u001b[1;33m         \u001b[1;32mif\u001b[0m \u001b[1;33m(\u001b[0m\u001b[0mcolor\u001b[0m\u001b[1;33m[\u001b[0m\u001b[0mchild\u001b[0m\u001b[1;33m]\u001b[0m \u001b[1;33m!=\u001b[0m \u001b[0mcolor\u001b[0m\u001b[1;33m[\u001b[0m\u001b[0mpar\u001b[0m\u001b[1;33m]\u001b[0m\u001b[1;33m)\u001b[0m\u001b[1;33m:\u001b[0m\u001b[1;33m\u001b[0m\u001b[1;33m\u001b[0m\u001b[0m\n\u001b[0m\u001b[0;32m     20\u001b[0m                 \u001b[0mans\u001b[0m \u001b[1;33m+=\u001b[0m \u001b[1;36m1\u001b[0m\u001b[1;33m\u001b[0m\u001b[1;33m\u001b[0m\u001b[0m\n\u001b[0;32m     21\u001b[0m \u001b[1;33m\u001b[0m\u001b[0m\n",
      "\u001b[1;31mIndexError\u001b[0m: list index out of range"
     ]
    }
   ],
   "source": [
    "# Python3 implementation of the approach \n",
    "\n",
    "# To store the required answer \n",
    "ans = 0\n",
    "\n",
    "# To store the graph \n",
    "gr = [[] for i in range(100005)] \n",
    "\n",
    "# Function to add edges \n",
    "def Add_Edge(u, v): \n",
    "\tgr[u].append(v) \n",
    "\tgr[v].append(u) \n",
    "\n",
    "# Dfs function \n",
    "def dfs(child, par, color): \n",
    "\tglobal ans \n",
    "\n",
    "\t# When there is difference in colors \n",
    "\tif (color[child] != color[par]): \n",
    "\t\tans += 1\n",
    "\n",
    "\t# For all it's child nodes \n",
    "\tfor it in gr[child]: \n",
    "\t\tif (it == par): \n",
    "\t\t\tcontinue\n",
    "\t\tdfs(it, child, color) \n",
    "\t\n",
    "# Driver code \n",
    "\n",
    "# Here zero is for parent of node 1 \n",
    "color = [1,1,2,2,1] \n",
    "\n",
    "# Adding edges in the graph  \n",
    "Add_Edge(3,1)\n",
    "Add_Edge(3,2)\n",
    "Add_Edge(2, 4) \n",
    "Add_Edge(2,5)\n",
    "\n",
    "dfs(1, 0, color) \n",
    "\n",
    "print(ans) \n",
    "\n"
   ]
  },
  {
   "cell_type": "code",
   "execution_count": null,
   "metadata": {},
   "outputs": [],
   "source": []
  }
 ],
 "metadata": {
  "kernelspec": {
   "display_name": "Python 3",
   "language": "python",
   "name": "python3"
  },
  "language_info": {
   "codemirror_mode": {
    "name": "ipython",
    "version": 3
   },
   "file_extension": ".py",
   "mimetype": "text/x-python",
   "name": "python",
   "nbconvert_exporter": "python",
   "pygments_lexer": "ipython3",
   "version": "3.7.3"
  }
 },
 "nbformat": 4,
 "nbformat_minor": 2
}
