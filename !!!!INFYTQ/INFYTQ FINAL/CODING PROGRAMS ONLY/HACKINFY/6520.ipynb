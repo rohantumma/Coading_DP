{
 "cells": [
  {
   "cell_type": "markdown",
   "metadata": {},
   "source": [
    "# Paint The Tiles"
   ]
  },
  {
   "cell_type": "code",
   "execution_count": 1,
   "metadata": {},
   "outputs": [
    {
     "data": {
      "text/plain": [
       "'\\nPrint the minimum number of strokes required to paint all  tiles in the desired color configuration.\\n\\nSample Input 0\\n\\n5  \\nRRRRR\\nSample Output 0\\n\\n1\\nSample Input 1\\n\\n5  \\nRRBRR\\nSample Output 1\\n\\n3\\nSample Input 2\\n\\n5  \\nBRBRB\\nSample Output 2\\n\\n5\\nExplanation\\n\\nSample Case 0:\\n\\nNikita will paint all  consecutive tiles red in a single stroke:\\n\\nColorTheTilesExp0.png Sample Case 1:\\n\\nNikita will need  strokes to paint all  tiles:\\n\\nColorTheTilesExp1.png\\n\\n\\n'"
      ]
     },
     "execution_count": 1,
     "metadata": {},
     "output_type": "execute_result"
    }
   ],
   "source": [
    "'''\n",
    "Print the minimum number of strokes required to paint all  tiles in the desired color configuration.\n",
    "\n",
    "Sample Input 0\n",
    "\n",
    "5  \n",
    "RRRRR\n",
    "Sample Output 0\n",
    "\n",
    "1\n",
    "Sample Input 1\n",
    "\n",
    "5  \n",
    "RRBRR\n",
    "Sample Output 1\n",
    "\n",
    "3\n",
    "Sample Input 2\n",
    "\n",
    "5  \n",
    "BRBRB\n",
    "Sample Output 2\n",
    "\n",
    "5\n",
    "Explanation\n",
    "\n",
    "Sample Case 0:\n",
    "\n",
    "Nikita will paint all  consecutive tiles red in a single stroke:\n",
    "\n",
    "ColorTheTilesExp0.png Sample Case 1:\n",
    "\n",
    "Nikita will need  strokes to paint all  tiles:\n",
    "\n",
    "ColorTheTilesExp1.png\n",
    "\n",
    "\n",
    "'''"
   ]
  },
  {
   "cell_type": "code",
   "execution_count": 8,
   "metadata": {},
   "outputs": [
    {
     "name": "stdout",
     "output_type": "stream",
     "text": [
      "5\n",
      "RRRBRR\n",
      "3\n"
     ]
    }
   ],
   "source": [
    "import sys\n",
    "\n",
    "N = int(input().strip())\n",
    "C = input().strip()\n",
    "if len(C)>=N:\n",
    "    c=C[0:N]\n",
    "co=0\n",
    "c+=\"0\"\n",
    "for i in range(0,len(c)-1):\n",
    "    if c[i]!=c[i+1]:\n",
    "        co+=1\n",
    "    \n",
    "print(co)"
   ]
  },
  {
   "cell_type": "code",
   "execution_count": 12,
   "metadata": {},
   "outputs": [
    {
     "name": "stdout",
     "output_type": "stream",
     "text": [
      "5 4 1\n",
      "0.8\n"
     ]
    }
   ],
   "source": [
    "a, b, cake_size = map(int, input().split())\n",
    "print ((b * cake_size) / a)\n"
   ]
  },
  {
   "cell_type": "markdown",
   "metadata": {},
   "source": [
    "# Halloween party"
   ]
  },
  {
   "cell_type": "code",
   "execution_count": null,
   "metadata": {},
   "outputs": [],
   "source": [
    "'''\n",
    "\n",
    "4\n",
    "5\n",
    "6\n",
    "7\n",
    "8\n",
    "Sample Output #00\n",
    "\n",
    "6\n",
    "9\n",
    "12\n",
    "16\n",
    "Explanation\n",
    "The explanation below is for the first two test cases. The rest of them follow a similar logic.\n",
    "\n",
    "For the first test-case where , you need  horizontal and  vertical cuts.\n",
    "\n",
    "'''"
   ]
  },
  {
   "cell_type": "code",
   "execution_count": 29,
   "metadata": {},
   "outputs": [
    {
     "name": "stdout",
     "output_type": "stream",
     "text": [
      "2\n",
      "158  267\n",
      "[158, 267]\n",
      "6241\n",
      "17822\n"
     ]
    }
   ],
   "source": [
    "N = int(input().strip())\n",
    "C = list(map(int,input().split()))\n",
    "print(C)\n",
    "for k in C:\n",
    "    mid=int(k/2)\n",
    "    mid*=(k-int(k/2))\n",
    "    print(mid)"
   ]
  },
  {
   "cell_type": "code",
   "execution_count": 32,
   "metadata": {},
   "outputs": [
    {
     "name": "stdout",
     "output_type": "stream",
     "text": [
      "25\n"
     ]
    }
   ],
   "source": [
    "x=10\n",
    "y=15\n",
    "x=x+y\n",
    "print(x)\n"
   ]
  }
 ],
 "metadata": {
  "kernelspec": {
   "display_name": "Python 3",
   "language": "python",
   "name": "python3"
  },
  "language_info": {
   "codemirror_mode": {
    "name": "ipython",
    "version": 3
   },
   "file_extension": ".py",
   "mimetype": "text/x-python",
   "name": "python",
   "nbconvert_exporter": "python",
   "pygments_lexer": "ipython3",
   "version": "3.7.3"
  }
 },
 "nbformat": 4,
 "nbformat_minor": 2
}
