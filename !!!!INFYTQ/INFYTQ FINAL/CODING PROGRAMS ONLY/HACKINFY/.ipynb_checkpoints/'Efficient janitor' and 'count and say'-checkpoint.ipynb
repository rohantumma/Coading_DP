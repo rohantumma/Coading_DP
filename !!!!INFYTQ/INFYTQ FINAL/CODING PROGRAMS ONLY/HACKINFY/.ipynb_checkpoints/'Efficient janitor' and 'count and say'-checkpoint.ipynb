{
 "cells": [
  {
   "cell_type": "code",
   "execution_count": 3,
   "metadata": {},
   "outputs": [
    {
     "data": {
      "text/plain": [
       "False"
      ]
     },
     "execution_count": 3,
     "metadata": {},
     "output_type": "execute_result"
    }
   ],
   "source": [
    "'''1.01 to 3.0\n",
    "\n",
    "the max weigt can take in 3.0kg not more than it\n",
    "'''\n",
    "\n",
    "'''ex\n",
    "[1.01,1.99,2.5,1.5,1.01]\n",
    "[1.01+1.99,2.5,1.5+1.01]=3 rounds\n",
    "'''\n",
    "max is 2 and min is 1"
   ]
  },
  {
   "cell_type": "code",
   "execution_count": null,
   "metadata": {},
   "outputs": [],
   "source": []
  },
  {
   "cell_type": "code",
   "execution_count": 17,
   "metadata": {},
   "outputs": [
    {
     "name": "stdout",
     "output_type": "stream",
     "text": [
      "4\n"
     ]
    }
   ],
   "source": [
    "n=6\n",
    "li=[1.01,\n",
    "1.30,\n",
    "1.20,\n",
    "1.98,\n",
    "1.30,\n",
    "2.11]\n",
    "#for i in range(n):\n",
    " #   li.append(float(input()))\n",
    "cou=0\n",
    "li.sort()\n",
    "\n",
    "li.append(0.0)\n",
    "i=0\n",
    "while(li[i]!=0.0):\n",
    "    if li[i]>=1.99:\n",
    "        cou+=1\n",
    "        i+=1\n",
    "    else:\n",
    "        if li[i+1] ==0.0:\n",
    "            i+=1\n",
    "            cou+=1\n",
    "        else:\n",
    "            if li[i]+li[i+1]<=3.0:\n",
    "                cou+=1\n",
    "                i+=2  \n",
    "            else:\n",
    "                cou+=1\n",
    "                i+=1\n",
    "print(cou)"
   ]
  },
  {
   "cell_type": "code",
   "execution_count": 16,
   "metadata": {},
   "outputs": [
    {
     "name": "stdout",
     "output_type": "stream",
     "text": [
      "[1.01, 1.2, 1.3, 1.3, 1.98, 2.11]\n",
      "total trips= 4\n"
     ]
    }
   ],
   "source": [
    "n=6\n",
    "li=[1.01,\n",
    "1.30,\n",
    "1.20,\n",
    "1.98,\n",
    "1.30,\n",
    "2.11]\n",
    "#for i in range(n):\n",
    " #   li.append(float(input()))\n",
    "cou=0\n",
    "li.sort()\n",
    "print(li)\n",
    "lf=0\n",
    "for i in range(n-1,-1,-1):\n",
    "    if(li[i]>1.99):\n",
    "        cou+=1\n",
    "    elif(li[i<=1.99]):\n",
    "        if(li[i]+li[lf]<=3.00):\n",
    "            lf+=1\n",
    "        cou+=1\n",
    "    if(lf>=i):\n",
    "        break\n",
    "print(\"total trips=\",cou)"
   ]
  },
  {
   "cell_type": "code",
   "execution_count": 30,
   "metadata": {},
   "outputs": [
    {
     "data": {
      "text/plain": [
       "'\\n\\n1\\n11\\n21\\n1211\\n111221\\n312211\\n\\nR1: 1 ->  11\\n    11 -> 21\\n    21 -> 1211\\n'"
      ]
     },
     "execution_count": 30,
     "metadata": {},
     "output_type": "execute_result"
    }
   ],
   "source": [
    "'''\n",
    "\n",
    "1\n",
    "11\n",
    "21\n",
    "1211\n",
    "111221\n",
    "312211\n",
    "\n",
    "R1: 1 ->  11\n",
    "    11 -> 21\n",
    "    21 -> 1211\n",
    "'''\n"
   ]
  },
  {
   "cell_type": "code",
   "execution_count": 31,
   "metadata": {},
   "outputs": [
    {
     "name": "stdout",
     "output_type": "stream",
     "text": [
      "312211\n"
     ]
    }
   ],
   "source": [
    "s='1'\n",
    "n=6\n",
    "while(n>1):\n",
    "    c=\"\"\n",
    "    i=0\n",
    "    while(i<len(s)):\n",
    "        co=1\n",
    "        while((i+1)<len(s) and s[i]==s[i+1]):\n",
    "            co+=1\n",
    "            i+=1\n",
    "        c+=(str(co)+s[i])\n",
    "        i+=1\n",
    "    s=c\n",
    "    n-=1\n",
    "print(s) "
   ]
  },
  {
   "cell_type": "code",
   "execution_count": null,
   "metadata": {},
   "outputs": [],
   "source": []
  },
  {
   "cell_type": "code",
   "execution_count": null,
   "metadata": {},
   "outputs": [],
   "source": []
  },
  {
   "cell_type": "code",
   "execution_count": null,
   "metadata": {},
   "outputs": [],
   "source": []
  }
 ],
 "metadata": {
  "kernelspec": {
   "display_name": "Python 3",
   "language": "python",
   "name": "python3"
  },
  "language_info": {
   "codemirror_mode": {
    "name": "ipython",
    "version": 3
   },
   "file_extension": ".py",
   "mimetype": "text/x-python",
   "name": "python",
   "nbconvert_exporter": "python",
   "pygments_lexer": "ipython3",
   "version": "3.7.3"
  }
 },
 "nbformat": 4,
 "nbformat_minor": 2
}
