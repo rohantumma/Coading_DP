{
 "cells": [
  {
   "cell_type": "code",
   "execution_count": 42,
   "metadata": {},
   "outputs": [
    {
     "name": "stdout",
     "output_type": "stream",
     "text": [
      "trhd\n",
      "ftdgh\n"
     ]
    }
   ],
   "source": [
    "s=\"rhdt:246,ghftd:1246\"\n",
    "li=list(s.split(','))\n",
    "for i in range(0,len(li)):\n",
    "    j=str(li[i])\n",
    "    m=list(j.split(':'))\n",
    "    t=0\n",
    "    for n in m[1]:\n",
    "        t+=(int(n)*int(n))\n",
    "    if t % 2==0:\n",
    "        print(m[0][-1::]+m[0][:3])\n",
    "    else:\n",
    "        print(m[0][2:]+m[0][:2])"
   ]
  },
  {
   "cell_type": "markdown",
   "metadata": {},
   "source": [
    "# longest subarray that has\n",
    "x[i-1]+x[i-2] in array"
   ]
  },
  {
   "cell_type": "code",
   "execution_count": 50,
   "metadata": {},
   "outputs": [
    {
     "name": "stdout",
     "output_type": "stream",
     "text": [
      "[2, 3, 5, 8]\n"
     ]
    }
   ],
   "source": [
    "array=[3,5,8,2,19,12,7,11]\n",
    "array=sorted(array)\n",
    "j=[]\n",
    "j.append(array[0])\n",
    "j.append(array[1])\n",
    "#print(j)\n",
    "for i in range(2,len(array)):\n",
    "# print(j[i-1],j[i-2],j[i-1]+j[i-2])\n",
    "    if j[i-1]+j[i-2] in array:\n",
    "        j.append(j[i-1]+j[i-2])\n",
    "    else:\n",
    "        break\n",
    "print(j)"
   ]
  },
  {
   "cell_type": "code",
   "execution_count": 59,
   "metadata": {},
   "outputs": [
    {
     "name": "stdout",
     "output_type": "stream",
     "text": [
      "how#\n",
      "are\n",
      "yu*\n"
     ]
    }
   ],
   "source": [
    "loko=''\n",
    "m=['a','e','i','u','o']\n",
    "for j in range(0,3):\n",
    "    i=str(input())\n",
    "    if i.isalpha():\n",
    "        if j==0:\n",
    "            for t in i:\n",
    "                if t in m  :\n",
    "                    loko+='%'\n",
    "                else:\n",
    "                    loko+=t\n",
    "        elif j==1:\n",
    "            for t in i:\n",
    "                if t not in m :\n",
    "                    loko+='#'\n",
    "                else:\n",
    "                    loko+=t\n",
    "        else:\n",
    "            loko+=i.upper()\n",
    "    else:\n",
    "        pass"
   ]
  },
  {
   "cell_type": "code",
   "execution_count": 60,
   "metadata": {},
   "outputs": [
    {
     "name": "stdout",
     "output_type": "stream",
     "text": [
      "a#e\n"
     ]
    }
   ],
   "source": [
    "print(loko)"
   ]
  },
  {
   "cell_type": "code",
   "execution_count": 80,
   "metadata": {},
   "outputs": [
    {
     "name": "stdout",
     "output_type": "stream",
     "text": [
      "brd\n",
      "d@rb\n"
     ]
    }
   ],
   "source": [
    "s=\"b@rd\"\n",
    "d=dict()\n",
    "rev=\"\"\n",
    "\n",
    "for i in range(len(s)):\n",
    "    if s[i].isalnum()==False:\n",
    "        d.update({i:s[i]})\n",
    "    else:\n",
    "        rev+=s[i]\n",
    "print(rev)\n",
    "rev=list(rev[::-1])\n",
    "for k,v in d.items():\n",
    "    rev.insert(k,v)\n",
    "print(''.join(rev))"
   ]
  },
  {
   "cell_type": "code",
   "execution_count": null,
   "metadata": {},
   "outputs": [],
   "source": []
  },
  {
   "cell_type": "code",
   "execution_count": null,
   "metadata": {},
   "outputs": [],
   "source": []
  },
  {
   "cell_type": "code",
   "execution_count": null,
   "metadata": {},
   "outputs": [],
   "source": []
  }
 ],
 "metadata": {
  "kernelspec": {
   "display_name": "Python 3",
   "language": "python",
   "name": "python3"
  },
  "language_info": {
   "codemirror_mode": {
    "name": "ipython",
    "version": 3
   },
   "file_extension": ".py",
   "mimetype": "text/x-python",
   "name": "python",
   "nbconvert_exporter": "python",
   "pygments_lexer": "ipython3",
   "version": "3.7.3"
  }
 },
 "nbformat": 4,
 "nbformat_minor": 2
}
