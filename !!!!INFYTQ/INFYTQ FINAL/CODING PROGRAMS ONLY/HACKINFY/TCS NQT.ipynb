{
 "cells": [
  {
   "cell_type": "markdown",
   "metadata": {},
   "source": [
    "# TCS Coding question - 1"
   ]
  },
  {
   "cell_type": "code",
   "execution_count": 1,
   "metadata": {},
   "outputs": [
    {
     "data": {
      "text/plain": [
       "'\\n\\nTCS Coding question - 1\\n\\n\\nConsider the following series: 1,1,2,3,4,9,8,27,16,81,32,243,64,729,128,2187\\n\\nThis series is a mixture of 2 series - all the odd terms in this series form a geometric series and all the even terms form yet another geometric series. Write a program to find the Nth term in the series.\\n\\n\\n\\nThe value N is a positive integer that should be read from STDIN. The Nth term that is calculated by the program should be written to STDOUT. Other than the value of the nth term, no other character/string or message should be written to STDOUT. For example, if N=16, the 16th term in the series is 2187, so only value 2187 should be printed to STDOUT. You can assume that N will not exceed 30.\\n\\n\\n\\n'"
      ]
     },
     "execution_count": 1,
     "metadata": {},
     "output_type": "execute_result"
    }
   ],
   "source": [
    "'''\n",
    "\n",
    "TCS Coding question - 1\n",
    "\n",
    "\n",
    "Consider the following series: 1,1,2,3,4,9,8,27,16,81,32,243,64,729,128,2187\n",
    "\n",
    "This series is a mixture of 2 series - all the odd terms in this series form a \n",
    "geometric series and all the even terms form yet another geometric series. \n",
    "Write a program to find the Nth term in the series.\n",
    "\n",
    "\n",
    "\n",
    "The value N is a positive integer that should be read from STDIN. \n",
    "The Nth term that is calculated by the program should be written to STDOUT. \n",
    "Other than the value of the nth term, no other character/string or message should be written to STDOUT.\n",
    "For example, if N=16, the 16th term in the series is 2187, so only value 2187 should be printed to STDOUT. \n",
    "You can assume that N will not exceed 30.\n",
    "\n",
    "\n",
    "\n",
    "'''"
   ]
  },
  {
   "cell_type": "code",
   "execution_count": 35,
   "metadata": {},
   "outputs": [
    {
     "name": "stdout",
     "output_type": "stream",
     "text": [
      "2187\n"
     ]
    }
   ],
   "source": [
    "s=[1,1,2,3,4,9,8,27,16,81,32,243,64,729,128,2187]\n",
    "n=16\n",
    "n+=1\n",
    "if n%2==0:\n",
    "    t=int((n+1)//2)\n",
    "    print(2**(t-1))\n",
    "else:\n",
    "    t=n//2\n",
    "    print(round(3**(t-1))) "
   ]
  },
  {
   "cell_type": "markdown",
   "metadata": {},
   "source": [
    "# TCS Coding Questions - 2"
   ]
  },
  {
   "cell_type": "code",
   "execution_count": 36,
   "metadata": {},
   "outputs": [
    {
     "data": {
      "text/plain": [
       "\"\\nTCS Coding Questions - 2\\n\\n\\nConsider the following series: 0,0,2,1,4,2,6,3,8,4,10,5,12,6,14,7,16,8\\nThis series is a mixture of 2 series all the odd terms in this series form even numbers\\nin ascending order and every even term is derived from the previous term using the formula (x/2).\\nWrite a program to find the nth term in this series.\\nThe value n is a positive integer that should be read from STDIN the nth term \\nthat is calculated by the program should be written to STDOUT. Other than the value of the nth term \\nno other characters /strings or message should be written to STDOUT.\\nFor example, if n=10, the 10th term in the series is to be derived from the 9th term in the series. \\nThe 9th term is 8 so the 10th term is (8/2)=4. Only the value 4 should be printed to STDOUT.\\nYou can assume that the 'n' will not exceed 20,000.\\n\\n\""
      ]
     },
     "execution_count": 36,
     "metadata": {},
     "output_type": "execute_result"
    }
   ],
   "source": [
    "'''\n",
    "TCS Coding Questions - 2\n",
    "\n",
    "\n",
    "Consider the following series: 0,0,2,1,4,2,6,3,8,4,10,5,12,6,14,7,16,8\n",
    "This series is a mixture of 2 series all the odd terms in this series form even numbers\n",
    "in ascending order and every even term is derived from the previous term using the formula (x/2).\n",
    "Write a program to find the nth term in this series.\n",
    "The value n is a positive integer that should be read from STDIN the nth term \n",
    "that is calculated by the program should be written to STDOUT. Other than the value of the nth term \n",
    "no other characters /strings or message should be written to STDOUT.\n",
    "For example, if n=10, the 10th term in the series is to be derived from the 9th term in the series. \n",
    "The 9th term is 8 so the 10th term is (8/2)=4. Only the value 4 should be printed to STDOUT.\n",
    "You can assume that the 'n' will not exceed 20,000.\n",
    "\n",
    "'''"
   ]
  },
  {
   "cell_type": "code",
   "execution_count": 51,
   "metadata": {},
   "outputs": [
    {
     "name": "stdout",
     "output_type": "stream",
     "text": [
      "0\n",
      "2\n",
      "4\n",
      "6\n",
      "8\n",
      "10\n",
      "12\n",
      "14\n",
      "16\n",
      "\n",
      "0\n",
      "1\n",
      "2\n",
      "3\n",
      "4\n",
      "5\n",
      "6\n",
      "7\n",
      "8\n",
      "even\n",
      "10\n"
     ]
    }
   ],
   "source": [
    "r=[0,0,2,1,4,2,6,3,8,4,10,5,12,6,14,7,16,8]\n",
    "s=[0,1,2,3,4,5,6,7,8,9,0 ,1,2 ,3,4 ,5,6 ,7]\n",
    "for i in range(0,len(r),2):\n",
    "    print(r[i])\n",
    "print()\n",
    "for i in range(1,len(r),2):\n",
    "    print(r[i])\n",
    "    \n",
    "n=11\n",
    "n-=1\n",
    "if n%2==0:\n",
    "    print('even')\n",
    "    t=2*int((n+1)/2)\n",
    "    print(t)\n",
    "else:\n",
    "    print('odd')\n",
    "    t=n/2\n",
    "    print(int(t))"
   ]
  },
  {
   "cell_type": "code",
   "execution_count": null,
   "metadata": {},
   "outputs": [],
   "source": []
  }
 ],
 "metadata": {
  "kernelspec": {
   "display_name": "Python 3",
   "language": "python",
   "name": "python3"
  },
  "language_info": {
   "codemirror_mode": {
    "name": "ipython",
    "version": 3
   },
   "file_extension": ".py",
   "mimetype": "text/x-python",
   "name": "python",
   "nbconvert_exporter": "python",
   "pygments_lexer": "ipython3",
   "version": "3.7.3"
  }
 },
 "nbformat": 4,
 "nbformat_minor": 2
}
