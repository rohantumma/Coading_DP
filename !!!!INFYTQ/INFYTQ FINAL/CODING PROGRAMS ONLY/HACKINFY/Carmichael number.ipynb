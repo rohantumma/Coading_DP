{
 "cells": [
  {
   "cell_type": "code",
   "execution_count": 2,
   "metadata": {},
   "outputs": [
    {
     "name": "stdout",
     "output_type": "stream",
     "text": [
      "0\n",
      "1\n",
      "1\n"
     ]
    }
   ],
   "source": [
    "import math as m\n",
    "\n",
    "def power(x, y, mod) : \n",
    "    if (y == 0) : \n",
    "        return 1\n",
    "    temp = power(x, int(y / 2), mod) % mod \n",
    "    temp = (temp * temp) % mod \n",
    "    if (y % 2 == 1) : \n",
    "        temp = (temp * x) % mod \n",
    "    return temp \n",
    "\n",
    "def isCarmichaelNumber( n) : \n",
    "    b = 2\n",
    "    while b<n : \n",
    "        if (m.gcd(b, n) == 1) : \n",
    "            if (power(b, n - 1, n) != 1): \n",
    "                return 0\n",
    "        b = b + 1\n",
    "    return 1\n",
    "\n",
    "print (isCarmichaelNumber(500) )\n",
    "print (isCarmichaelNumber(561) )\n",
    "print( isCarmichaelNumber(1105))"
   ]
  },
  {
   "cell_type": "code",
   "execution_count": null,
   "metadata": {},
   "outputs": [],
   "source": []
  },
  {
   "cell_type": "code",
   "execution_count": 25,
   "metadata": {},
   "outputs": [
    {
     "ename": "IndentationError",
     "evalue": "expected an indented block (<ipython-input-25-fceef6d6e1f5>, line 14)",
     "output_type": "error",
     "traceback": [
      "\u001b[1;36m  File \u001b[1;32m\"<ipython-input-25-fceef6d6e1f5>\"\u001b[1;36m, line \u001b[1;32m14\u001b[0m\n\u001b[1;33m    print(go)\u001b[0m\n\u001b[1;37m             ^\u001b[0m\n\u001b[1;31mIndentationError\u001b[0m\u001b[1;31m:\u001b[0m expected an indented block\n"
     ]
    }
   ],
   "source": [
    "s=[1,2,3,4,5]\n",
    "n=5\n",
    "g=3\n",
    "s.sort()\n",
    "print(s)\n",
    "sum=0\n",
    "go=[]\n",
    "for i in range(0,len(s)):\n",
    "    sum=sum+s[i]\n",
    "    T+=1\n",
    "    if sum not in s:\n",
    "        for j in range(i,len(s)):\n",
    "            if abs(sum-s[i])==1\n",
    "        \n",
    "print(go)"
   ]
  },
  {
   "cell_type": "code",
   "execution_count": 121,
   "metadata": {},
   "outputs": [
    {
     "name": "stdout",
     "output_type": "stream",
     "text": [
      "[[1, 2, 3, 4, 5]]\n"
     ]
    }
   ],
   "source": [
    "def groupSequence(lst): \n",
    "    res = [[lst[0]]] \n",
    "  \n",
    "    for i in range(1, len(lst)): \n",
    "        if lst[i-1]+1 == lst[i]: \n",
    "            res[-1].append(lst[i]) \n",
    "  \n",
    "        else: \n",
    "            res.append([lst[i]]) \n",
    "    return res \n",
    "      \n",
    "# Driver program  \n",
    "l = [1, 2, 3,4,5] \n",
    "print(groupSequence(l)) "
   ]
  },
  {
   "cell_type": "code",
   "execution_count": 24,
   "metadata": {},
   "outputs": [
    {
     "name": "stdout",
     "output_type": "stream",
     "text": [
      "(1, 2, 3)\n",
      "(1, 2, 4)\n",
      "(1, 2, 5)\n",
      "(1, 3, 4)\n",
      "(1, 3, 5)\n",
      "(1, 4, 5)\n",
      "(2, 3, 4)\n",
      "(2, 3, 5)\n",
      "(2, 4, 5)\n",
      "(3, 4, 5)\n"
     ]
    }
   ],
   "source": [
    "from itertools import permutations ,combinations\n",
    "  \n",
    "# Get all permutations of [1, 2, 3] \n",
    "perm = combinations([1, 2, 3, 4, 5],3) \n",
    "\n",
    "  \n",
    "# Print the obtained permutations \n",
    "for i in list(perm): \n",
    "    print (i)"
   ]
  },
  {
   "cell_type": "code",
   "execution_count": 101,
   "metadata": {},
   "outputs": [
    {
     "name": "stdout",
     "output_type": "stream",
     "text": [
      "no\n",
      "no\n",
      "yes\n"
     ]
    }
   ],
   "source": [
    "def isPrime(n): \n",
    "    if n <= 1: \n",
    "        return False\n",
    "    for i in range(2, n): \n",
    "        if n % i == 0: \n",
    "            return False; \n",
    "    return True\n",
    "s=[4,5,28]\n",
    "ss=[]\n",
    "sum=0\n",
    "for i in s:\n",
    "    sum=0\n",
    "    if fg.isprime(i)==True:\n",
    "        print(\"no\")\n",
    "    else:\n",
    "        for j in range(1,i):\n",
    "            if i%j==0 :\n",
    "                if i!=j:\n",
    "                    t=sum\n",
    "                    sum+=j\n",
    "                    if sum==i:\n",
    "                        print(\"yes\")\n",
    "                        break\n",
    "                else:\n",
    "                    print(i,j)\n",
    "                    print(\"no\")\n",
    "                    break     \n",
    "        else:\n",
    "            print(\"no\")\n"
   ]
  },
  {
   "cell_type": "code",
   "execution_count": 105,
   "metadata": {},
   "outputs": [
    {
     "name": "stdout",
     "output_type": "stream",
     "text": [
      "2 \n",
      "5\n",
      "NO\n",
      "6\n",
      "YES\n"
     ]
    }
   ],
   "source": [
    "def Solve (N):\n",
    "    n=N\n",
    "    sum1=0\n",
    "    for i in range(1, n):\n",
    "        if(n % i == 0):\n",
    "            sum1 = sum1 + i\n",
    "    if (sum1 == n):\n",
    "        return(\"YES\")\n",
    "    else:\n",
    "        return(\"NO\")\n",
    "\n",
    "T = int(input())\n",
    "for _ in range(T):\n",
    "    N = int(input())\n",
    "    out_ = Solve(N)\n",
    "    print (out_)"
   ]
  },
  {
   "cell_type": "markdown",
   "metadata": {},
   "source": [
    "# Python: Binary Search Tree - BST"
   ]
  },
  {
   "cell_type": "code",
   "execution_count": 116,
   "metadata": {},
   "outputs": [
    {
     "name": "stdout",
     "output_type": "stream",
     "text": [
      "True\n",
      "InOrder\n",
      "inorder\n",
      "inorder\n"
     ]
    }
   ],
   "source": [
    "class Node:\n",
    "    def __init__(self,val):\n",
    "        self.value=val\n",
    "        self.leftchild=None\n",
    "        self.rightchild=None\n",
    "        \n",
    "    def insert(self,data):\n",
    "        if self.value == data:\n",
    "            return False\n",
    "        elif self.value>data:\n",
    "            return self.rightchild.insert(data)\n",
    "        else:\n",
    "            self.rightchild=Node(data)\n",
    "            return True\n",
    "    def find(self,data):\n",
    "        if self.value== data:\n",
    "            return True\n",
    "        elif self.value>data:\n",
    "            if self.leftchild:\n",
    "                return self.leftchild.find(data)\n",
    "            else:\n",
    "                return False\n",
    "        else:\n",
    "            if self.rightchild:\n",
    "                return self.rightchild.find(data)\n",
    "            else:\n",
    "                return False\n",
    "    \n",
    "    #order tree\n",
    "    def preorder(self):\n",
    "        print(\"preOrder\")\n",
    "        if self.leftchild:\n",
    "            self.leftchild.preorder()\n",
    "        if self.rightchild:\n",
    "            self.rightchild.preorder()\n",
    "    \n",
    "    def postorder(self):\n",
    "        print(\"PostOrder\")\n",
    "        if self.leftchild:\n",
    "            self.leftchild.postorder()\n",
    "        if self.rightchild:\n",
    "            self.rightchild.postorder()  \n",
    "    def inorder(self):\n",
    "        print(\"inorder\")\n",
    "        if self.leftchild:\n",
    "            self.leftchild.inorder()\n",
    "        if self.rightchild:\n",
    "            self.rightchild.inorder()  \n",
    "        \n",
    "    \n",
    "class Tree:     \n",
    "    def __init__(self):\n",
    "        self.root=None\n",
    "    \n",
    "    def insert(self,data):\n",
    "        if self.root:\n",
    "            return self.root.insert(data)\n",
    "        else:\n",
    "            self.root=Node(data)\n",
    "    def preorder(self):\n",
    "        print(\"preOrder\")\n",
    "        self.root.preorder()\n",
    "    def postorder(self):\n",
    "        print(\"postOrder\")\n",
    "        self.root.postorder()\n",
    "    def inorder(self):\n",
    "        print(\"InOrder\")\n",
    "        self.root.inorder()\n",
    "bst= Tree()\n",
    "bst.insert(10)\n",
    "print(bst.insert(15))\n",
    "bst.inorder()"
   ]
  },
  {
   "cell_type": "code",
   "execution_count": 154,
   "metadata": {},
   "outputs": [],
   "source": [
    "from itertools import combinations\n",
    "\n",
    "x = 'abcd'\n",
    "\n",
    "\n",
    "perms = []\n",
    "g=3\n",
    "for i in range(1, len(x)+1):\n",
    "    for c in combinations(x, i):\n",
    "            perms.append(\"\".join(c))\n",
    "            \n",
    "\n",
    "#print(perms) "
   ]
  },
  {
   "cell_type": "code",
   "execution_count": 160,
   "metadata": {},
   "outputs": [],
   "source": [
    "3\n",
    "4\n",
    "5\n",
    "6\n",
    "7\n",
    "8\n",
    "9\n",
    "10\n",
    "11\n",
    "12\n",
    "13\n",
    "14\n",
    "15\n",
    "16\n",
    "17\n",
    "18\n",
    "19\n",
    "20\n",
    "21\n",
    "22\n",
    "23\n",
    "24\n",
    "25\n",
    "26\n",
    "27\n",
    "28\n",
    "29\n",
    "30\n",
    "31\n",
    "32\n",
    "33\n",
    "34\n",
    "35\n",
    "36\n",
    "37\n",
    "38\n",
    "39\n",
    "40\n",
    "41\n",
    "42\n",
    "43\n",
    "44\n",
    "def blocksNo(A, maxBlock):\n",
    "    # Initially set the A[0] being an individual block\n",
    "    blocksNumber = 1    # The number of blocks, that A could\n",
    "                        # be divided to with the restriction\n",
    "                        # that, the sum of each block is less\n",
    "                        # than or equal to maxBlock\n",
    "    preBlockSum = A[0]\n",
    "    for element in A[1:]:\n",
    "        # Try to extend the previous block\n",
    "        if preBlockSum + element > maxBlock:\n",
    "            # Fail to extend the previous block, because\n",
    "            # of the sum limitation maxBlock\n",
    "            preBlockSum = element\n",
    "            blocksNumber += 1\n",
    "        else:\n",
    "            preBlockSum += element\n",
    "    return blocksNumber\n",
    "def solution(K, A):\n",
    "    blocksNeeded = 0    # Given the restriction on the sum of\n",
    "                        # each block, how many blocks could\n",
    "                        # the original A be divided to?\n",
    "    \n",
    "    resultLowerBound = max(A)\n",
    "    sumi=0\n",
    "    for i in A:\n",
    "        sumi+=i\n",
    "    resultUpperBound = sumi\n",
    "    result = 0          # Minimal large sum\n",
    "    # Handle two special cases\n",
    "    if K == 1:      return resultUpperBound\n",
    "    if K >= len(A): return resultLowerBound\n",
    "    # Binary search the result\n",
    "    while resultLowerBound <= resultUpperBound:\n",
    "        resultMaxMid = (resultLowerBound + resultUpperBound) / 2\n",
    "        blocksNeeded = blocksNo(A, resultMaxMid)\n",
    "        if blocksNeeded <= K:\n",
    "            # With large sum being resultMaxMid or resultMaxMid-,\n",
    "            # we need blocksNeeded/blocksNeeded- blocks. While we\n",
    "            # have some unused blocks (K - blocksNeeded), We could\n",
    "            # try to use them to decrease the large sum.\n",
    "            resultUpperBound = resultMaxMid - 1\n",
    "            result = resultMaxMid\n",
    "        else:\n",
    "            # With large sum being resultMaxMid or resultMaxMid-,\n",
    "            # we need to use more than K blocks. So resultMaxMid\n",
    "            # is impossible to be our answer.\n",
    "            resultLowerBound = resultMaxMid + 1\n",
    "    return result"
   ]
  },
  {
   "cell_type": "code",
   "execution_count": 164,
   "metadata": {},
   "outputs": [
    {
     "name": "stdout",
     "output_type": "stream",
     "text": [
      "7.0\n"
     ]
    }
   ],
   "source": [
    "print(solution(3,[1,2,3,4,5]))"
   ]
  },
  {
   "cell_type": "code",
   "execution_count": 1,
   "metadata": {},
   "outputs": [
    {
     "name": "stdout",
     "output_type": "stream",
     "text": [
      "pandas\n"
     ]
    }
   ],
   "source": [
    "print(\"pandas\")"
   ]
  },
  {
   "cell_type": "code",
   "execution_count": null,
   "metadata": {},
   "outputs": [],
   "source": []
  }
 ],
 "metadata": {
  "kernelspec": {
   "display_name": "Python 3",
   "language": "python",
   "name": "python3"
  },
  "language_info": {
   "codemirror_mode": {
    "name": "ipython",
    "version": 3
   },
   "file_extension": ".py",
   "mimetype": "text/x-python",
   "name": "python",
   "nbconvert_exporter": "python",
   "pygments_lexer": "ipython3",
   "version": "3.7.3"
  }
 },
 "nbformat": 4,
 "nbformat_minor": 2
}
