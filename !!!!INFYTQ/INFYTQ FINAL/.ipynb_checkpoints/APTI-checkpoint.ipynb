{
 "cells": [
  {
   "cell_type": "markdown",
   "metadata": {},
   "source": [
    "# Ex 1)"
   ]
  },
  {
   "cell_type": "code",
   "execution_count": 92,
   "metadata": {},
   "outputs": [
    {
     "data": {
      "text/plain": [
       "'Ex 1) Input : a string of comma separated numbers. \\nThe numbers 5 and 8 are present in the list Assume that 8 always comes after 5. \\nCase 1: num1 = add all numbers which do not lie between 5 and 8 in the input.\\nCase 2 : num2= numbers formed by concatenating all numbers from 5 to 8 . \\nOutput: sum of num1 and num2 \\nExample: 1)3,2,6,5,1,4,8,9 Num1:3+2+6+9 =20 Num2:5148 O/p=5248+20 = 5168'"
      ]
     },
     "execution_count": 92,
     "metadata": {},
     "output_type": "execute_result"
    }
   ],
   "source": [
    "'''Ex 1) Input : a string of comma separated numbers. \n",
    "The numbers 5 and 8 are present in the list Assume that 8 always comes after 5. \n",
    "Case 1: num1 = add all numbers which do not lie between 5 and 8 in the input.\n",
    "Case 2 : num2= numbers formed by concatenating all numbers from 5 to 8 . \n",
    "Output: sum of num1 and num2 \n",
    "Example: 1)3,2,6,5,1,4,8,9 Num1:3+2+6+9 =20 Num2:5148 O/p=5248+20 = 5168'''"
   ]
  },
  {
   "cell_type": "code",
   "execution_count": 93,
   "metadata": {},
   "outputs": [
    {
     "name": "stdout",
     "output_type": "stream",
     "text": [
      "5168\n"
     ]
    }
   ],
   "source": [
    "st=\"3,2,6,5,1,4,8,9\"\n",
    "ara = list(map(int,st.split(','))) \n",
    "sum=0\n",
    "for i in range(ara.index(5)):\n",
    "    sum+=ara[i]\n",
    "for i in range(ara.index(8)+1,len(ara)):\n",
    "    sum+=ara[i]\n",
    "sum2=''\n",
    "for i in range(ara.index(5),ara.index(8)+1):\n",
    "    sum2=sum2+str(ara[i])\n",
    "print(int(sum2)+sum)"
   ]
  },
  {
   "cell_type": "code",
   "execution_count": null,
   "metadata": {},
   "outputs": [],
   "source": []
  },
  {
   "cell_type": "code",
   "execution_count": 94,
   "metadata": {},
   "outputs": [
    {
     "name": "stdout",
     "output_type": "stream",
     "text": [
      "5168\n"
     ]
    }
   ],
   "source": [
    "st=\"3,2,6,5,1,4,8,9\"\n",
    "ara = list(map(int,st.split(','))) \n",
    "sum=0\n",
    "def li(start,index):\n",
    "    global sum\n",
    "    for i in range(start,index):\n",
    "        sum+=ara[i]\n",
    "    return sum\n",
    "li(0,ara.index(5))\n",
    "sum=li((ara.index(8)+1),len(ara))\n",
    "sum2=''\n",
    "for i in range(ara.index(5),ara.index(8)+1):\n",
    "    sum2+=str(ara[i])\n",
    "print(int(sum2)+sum)"
   ]
  },
  {
   "cell_type": "markdown",
   "metadata": {},
   "source": [
    "# Ex 2)"
   ]
  },
  {
   "cell_type": "code",
   "execution_count": 95,
   "metadata": {},
   "outputs": [
    {
     "data": {
      "text/plain": [
       "'Ex 2) \\nA string which is a mixture of letter and integer and \\nspecial char from which find the largest even number \\nfrom the available digit after removing the duplicates. \\n\\nIf an even number is not formed then return -1.\\nEx : \\nI/P : infosys@337 \\nO/p : -1\\n    \\n    \\nI/P : Hello#81@21349 \\nO/p : 983412'"
      ]
     },
     "execution_count": 95,
     "metadata": {},
     "output_type": "execute_result"
    }
   ],
   "source": [
    "'''Ex 2) \n",
    "A string which is a mixture of letter and integer and \n",
    "special char from which find the largest even number \n",
    "from the available digit after removing the duplicates. \n",
    "\n",
    "If an even number is not formed then return -1.\n",
    "Ex : \n",
    "I/P : infosys@337 \n",
    "O/p : -1\n",
    "    \n",
    "    \n",
    "I/P : Hello#81@21349\n",
    "O/p : 983412'''"
   ]
  },
  {
   "cell_type": "code",
   "execution_count": 157,
   "metadata": {},
   "outputs": [
    {
     "name": "stdout",
     "output_type": "stream",
     "text": [
      "9432118\n"
     ]
    }
   ],
   "source": [
    "s1=\"Hello@8121349\"\n",
    "li=[]\n",
    "for i in s: \n",
    "    if i.isdigit():\n",
    "        li.append(int(i))\n",
    "li=list(li)\n",
    "even=''\n",
    "for i in li:\n",
    "    if i%2 ==0:\n",
    "        even+=str(li.pop(li.index(i)))\n",
    "        break\n",
    "if even!='':\n",
    "    li.sort(reverse=True)\n",
    "    j=''\n",
    "    for i in li:\n",
    "        j+=str(i)\n",
    "    print(str(j+even))\n",
    "else:\n",
    "    print(-1)"
   ]
  },
  {
   "cell_type": "code",
   "execution_count": 163,
   "metadata": {},
   "outputs": [
    {
     "name": "stdout",
     "output_type": "stream",
     "text": [
      "False\n",
      "True\n",
      "Pandas\n",
      "True\n"
     ]
    }
   ],
   "source": [
    "str1=\"Pandas\"\n",
    "print(str1.isdigit())\n",
    "print(str1.isalpha())\n",
    "\n",
    "print(str1.capitalize())\n",
    "print(str1.istitle())\n"
   ]
  },
  {
   "cell_type": "code",
   "execution_count": 147,
   "metadata": {},
   "outputs": [
    {
     "name": "stdout",
     "output_type": "stream",
     "text": [
      "[8, 1, 2, 1, 3, 4, 9]\n"
     ]
    }
   ],
   "source": [
    "s=\"Hello@8121349\"\n"
   ]
  },
  {
   "cell_type": "code",
   "execution_count": 154,
   "metadata": {},
   "outputs": [
    {
     "name": "stdout",
     "output_type": "stream",
     "text": [
      "Letters are: {'k', 'g', 's', 'e'}\n",
      "Letters are: {'k', 'g', 's', 'e'}\n"
     ]
    }
   ],
   "source": [
    "GEEK = {'g', 'e', 'k'} \n",
    "  \n",
    "# adding 's' \n",
    "GEEK.add('s') \n",
    "print('Letters are:', GEEK) \n",
    "  \n",
    "# adding 's' again \n",
    "GEEK.add('s') \n",
    "print('Letters are:', GEEK) "
   ]
  }
 ],
 "metadata": {
  "kernelspec": {
   "display_name": "Python 3",
   "language": "python",
   "name": "python3"
  },
  "language_info": {
   "codemirror_mode": {
    "name": "ipython",
    "version": 3
   },
   "file_extension": ".py",
   "mimetype": "text/x-python",
   "name": "python",
   "nbconvert_exporter": "python",
   "pygments_lexer": "ipython3",
   "version": "3.7.3"
  }
 },
 "nbformat": 4,
 "nbformat_minor": 2
}
