{
 "cells": [
  {
   "cell_type": "code",
   "execution_count": 2,
   "metadata": {},
   "outputs": [
    {
     "data": {
      "text/plain": [
       "'from sys import *\\n\\ndef open_file(filename):\\n    data=open(filename,\"r\").read()\\n    print(data)\\n\\ndef run():\\n    open_file(\"L:\\x07fter efftect\\\\ppk.py\")\\nrun()\\nprint(\"sd\")'"
      ]
     },
     "execution_count": 2,
     "metadata": {},
     "output_type": "execute_result"
    }
   ],
   "source": [
    "'''from sys import *\n",
    "\n",
    "def open_file(filename):\n",
    "    data=open(filename,\"r\").read()\n",
    "    print(data)\n",
    "\n",
    "def run():\n",
    "    open_file(\"L:\\after efftect\\ppk.py\")\n",
    "run()\n",
    "print(\"sd\")'''"
   ]
  },
  {
   "cell_type": "code",
   "execution_count": 7,
   "metadata": {},
   "outputs": [
    {
     "name": "stdout",
     "output_type": "stream",
     "text": [
      "True\n"
     ]
    }
   ],
   "source": [
    "def isNPrime(n):\n",
    "    for i in range(2,int(n**0.5)+1):\n",
    "        if n%i==0:return False\n",
    "    return True\n",
    "print(isNPrime(11))"
   ]
  },
  {
   "cell_type": "code",
   "execution_count": 17,
   "metadata": {},
   "outputs": [
    {
     "name": "stdout",
     "output_type": "stream",
     "text": [
      "0\n"
     ]
    }
   ],
   "source": [
    "def p(n):\n",
    "    k = 2\n",
    "    while (k * k <= n):\n",
    "        if ((n % k) == 0):return 0\n",
    "        else:k=k+1\n",
    "    return 1\n",
    "print(p(10))"
   ]
  }
 ],
 "metadata": {
  "kernelspec": {
   "display_name": "Python 3",
   "language": "python",
   "name": "python3"
  },
  "language_info": {
   "codemirror_mode": {
    "name": "ipython",
    "version": 3
   },
   "file_extension": ".py",
   "mimetype": "text/x-python",
   "name": "python",
   "nbconvert_exporter": "python",
   "pygments_lexer": "ipython3",
   "version": "3.7.3"
  }
 },
 "nbformat": 4,
 "nbformat_minor": 2
}
