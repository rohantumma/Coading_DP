{
 "cells": [
  {
   "cell_type": "code",
   "execution_count": 5,
   "metadata": {},
   "outputs": [
    {
     "name": "stdout",
     "output_type": "stream",
     "text": [
      "LOKI"
     ]
    }
   ],
   "source": [
    "import sys\n",
    "sys.stdout.write(\"LOKI\")"
   ]
  },
  {
   "cell_type": "code",
   "execution_count": 6,
   "metadata": {},
   "outputs": [
    {
     "ename": "SyntaxError",
     "evalue": "invalid syntax (<ipython-input-6-844afe9d5d86>, line 4)",
     "output_type": "error",
     "traceback": [
      "\u001b[1;36m  File \u001b[1;32m\"<ipython-input-6-844afe9d5d86>\"\u001b[1;36m, line \u001b[1;32m4\u001b[0m\n\u001b[1;33m    // entry point function\u001b[0m\n\u001b[1;37m     ^\u001b[0m\n\u001b[1;31mSyntaxError\u001b[0m\u001b[1;31m:\u001b[0m invalid syntax\n"
     ]
    }
   ],
   "source": [
    "#include<stdio.h> \n",
    "#include<stdlib.h> \n",
    "  \n",
    "// entry point function \n",
    "int nomain();  \n",
    "  \n",
    "void _start(){ \n",
    "  \n",
    "    // calling entry point \n",
    "    nomain();  \n",
    "    exit(0); \n",
    "} \n",
    "  \n",
    "int nomain() \n",
    "{ \n",
    "    puts(\"Geeksforgeeks\"); \n",
    "    return 0; \n",
    "} "
   ]
  }
 ],
 "metadata": {
  "kernelspec": {
   "display_name": "Python 3",
   "language": "python",
   "name": "python3"
  },
  "language_info": {
   "codemirror_mode": {
    "name": "ipython",
    "version": 3
   },
   "file_extension": ".py",
   "mimetype": "text/x-python",
   "name": "python",
   "nbconvert_exporter": "python",
   "pygments_lexer": "ipython3",
   "version": "3.7.3"
  }
 },
 "nbformat": 4,
 "nbformat_minor": 2
}
