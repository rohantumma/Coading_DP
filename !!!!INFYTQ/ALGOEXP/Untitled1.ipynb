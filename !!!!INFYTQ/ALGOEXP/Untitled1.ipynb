{
 "cells": [
  {
   "cell_type": "markdown",
   "metadata": {},
   "source": [
    "bit count"
   ]
  },
  {
   "cell_type": "code",
   "execution_count": 2,
   "metadata": {},
   "outputs": [
    {
     "name": "stdout",
     "output_type": "stream",
     "text": [
      "4\n",
      "37\n"
     ]
    }
   ],
   "source": [
    "import itertools\n",
    "def nc(N):\n",
    "    c=list(itertools.product(['B','G'],repeat=N))\n",
    "    tt=0\n",
    "    if N==2:\n",
    "        return(len(c)) \n",
    "    else:\n",
    "        for i in c:\n",
    "            t=i[0]\n",
    "            count=1\n",
    "            for j in i[1:]:\n",
    "                if(j==\"B\"):\n",
    "                    if t==j:\n",
    "                        count+=1\n",
    "                        if count==3:\n",
    "                            count=1\n",
    "                            tt+=1\n",
    "                            break\n",
    "\n",
    "                    else:\n",
    "                        t=j\n",
    "        return (len(c)-tt)\n",
    "print(nc(2))\n",
    "print(nc(43))"
   ]
  },
  {
   "cell_type": "code",
   "execution_count": 1,
   "metadata": {},
   "outputs": [
    {
     "name": "stdout",
     "output_type": "stream",
     "text": [
      "20 10\n"
     ]
    }
   ],
   "source": []
  }
 ],
 "metadata": {
  "kernelspec": {
   "display_name": "Python 3",
   "language": "python",
   "name": "python3"
  },
  "language_info": {
   "codemirror_mode": {
    "name": "ipython",
    "version": 3
   },
   "file_extension": ".py",
   "mimetype": "text/x-python",
   "name": "python",
   "nbconvert_exporter": "python",
   "pygments_lexer": "ipython3",
   "version": "3.7.3"
  }
 },
 "nbformat": 4,
 "nbformat_minor": 2
}
