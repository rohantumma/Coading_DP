{
 "cells": [
  {
   "cell_type": "code",
   "execution_count": 53,
   "metadata": {},
   "outputs": [
    {
     "name": "stdout",
     "output_type": "stream",
     "text": [
      "[1, 4, 2, 6, 9, 3, 11, 77, 43, 59]\n",
      "[5, 3]\n",
      "{1: True, 4: False, 2: False, 6: True, 9: True, 3: False, 11: True, 77: True, 43: True, 59: False}\n"
     ]
    }
   ],
   "source": [
    "s=[1,4,2,6,9,3,11,77,43,59]\n",
    "\n",
    "bst=[]\n",
    "print(s)\n",
    "c=0\n",
    "lo=0\n",
    "nums={}\n",
    "for num in s:\n",
    "    nums[num]=True\n",
    "for i in s:\n",
    "    if not nums[num]:\n",
    "            continue\n",
    "    nums[num] =False\n",
    "    while i-1 in nums:\n",
    "        nums[i-1]=False\n",
    "        c+=1\n",
    "        i=i-1\n",
    "    while i+1 in nums:\n",
    "        nums[i+1]=False\n",
    "        c+=1\n",
    "        i=i+1\n",
    "    if c> lo:\n",
    "        lo=c\n",
    "        bst=[i+1,i-1]\n",
    "    print(bst)\n",
    "        \n",
    "print(nums)"
   ]
  },
  {
   "cell_type": "markdown",
   "metadata": {},
   "source": [
    "# #o(n) time o(n) space"
   ]
  },
  {
   "cell_type": "code",
   "execution_count": 44,
   "metadata": {},
   "outputs": [],
   "source": [
    "def lar(array): #o(n) time o(n) space\n",
    "    bestRange=[]\n",
    "    lolen=0\n",
    "    nums={}\n",
    "    for num in array:\n",
    "        nums[num]=True\n",
    "    #print(nums)\n",
    "    for num in array:\n",
    "        #print(nums)\n",
    "        if not nums[num]:\n",
    "            continue\n",
    "        nums[num] =False\n",
    "        curlen=1\n",
    "        left=num-1\n",
    "        right=num+1\n",
    "        while left in nums:\n",
    "            nums[left]=False\n",
    "            curlen+=1\n",
    "            left-=1\n",
    "            #[0,7]\n",
    "        while right in nums:\n",
    "            nums[right]=False\n",
    "            curlen+=1\n",
    "            right+=1\n",
    "        if curlen > lolen:\n",
    "            lolen=curlen\n",
    "            bestRange=[left+1,right-1]\n",
    "    return bestRange"
   ]
  },
  {
   "cell_type": "code",
   "execution_count": 45,
   "metadata": {},
   "outputs": [
    {
     "name": "stdout",
     "output_type": "stream",
     "text": [
      "[1, 4]\n"
     ]
    }
   ],
   "source": [
    "s=[1,2,3,4,5.5,7]\n",
    "print(lar(s))"
   ]
  },
  {
   "cell_type": "code",
   "execution_count": 2,
   "metadata": {},
   "outputs": [
    {
     "name": "stdout",
     "output_type": "stream",
     "text": [
      "1st number210\n",
      "2nd number45\n",
      "GCD = 15\n"
     ]
    }
   ],
   "source": [
    "def gcd(x,y):\n",
    "    while(y):\n",
    "        x,y=y,x%y\n",
    "    return x\n",
    "print(\"GCD =\",gcd(int(input(\"1st number\")),int(input(\"2nd number\"))))"
   ]
  },
  {
   "cell_type": "code",
   "execution_count": 6,
   "metadata": {},
   "outputs": [
    {
     "ename": "TypeError",
     "evalue": "primesum() got an unexpected keyword argument 'sum'",
     "output_type": "error",
     "traceback": [
      "\u001b[1;31m---------------------------------------------------------------------------\u001b[0m",
      "\u001b[1;31mTypeError\u001b[0m                                 Traceback (most recent call last)",
      "\u001b[1;32m<ipython-input-6-91515fed75a6>\u001b[0m in \u001b[0;36m<module>\u001b[1;34m\u001b[0m\n\u001b[0;32m      6\u001b[0m         \u001b[1;32melse\u001b[0m\u001b[1;33m:\u001b[0m\u001b[0msum\u001b[0m\u001b[1;33m+=\u001b[0m\u001b[0mi\u001b[0m\u001b[1;33m\u001b[0m\u001b[1;33m\u001b[0m\u001b[0m\n\u001b[0;32m      7\u001b[0m     \u001b[1;32mreturn\u001b[0m \u001b[0msum\u001b[0m\u001b[1;33m\u001b[0m\u001b[1;33m\u001b[0m\u001b[0m\n\u001b[1;32m----> 8\u001b[1;33m \u001b[0mprint\u001b[0m\u001b[1;33m(\u001b[0m\u001b[1;34m\"sum=\"\u001b[0m\u001b[1;33m,\u001b[0m\u001b[0mprimesum\u001b[0m\u001b[1;33m(\u001b[0m\u001b[0msum\u001b[0m\u001b[1;33m=\u001b[0m\u001b[1;36m0\u001b[0m\u001b[1;33m)\u001b[0m\u001b[1;33m)\u001b[0m\u001b[1;33m\u001b[0m\u001b[1;33m\u001b[0m\u001b[0m\n\u001b[0m",
      "\u001b[1;31mTypeError\u001b[0m: primesum() got an unexpected keyword argument 'sum'"
     ]
    }
   ],
   "source": [
    "def primesum(sum):\n",
    "    for i in range(15,250):\n",
    "        for j in range(2,int(i/2)):\n",
    "            if int(i%j)==0:\n",
    "                break\n",
    "        else:sum+=i\n",
    "    return sum\n",
    "print(\"sum=\",primesum(sum=0))"
   ]
  },
  {
   "cell_type": "code",
   "execution_count": null,
   "metadata": {},
   "outputs": [],
   "source": []
  }
 ],
 "metadata": {
  "kernelspec": {
   "display_name": "Python 3",
   "language": "python",
   "name": "python3"
  },
  "language_info": {
   "codemirror_mode": {
    "name": "ipython",
    "version": 3
   },
   "file_extension": ".py",
   "mimetype": "text/x-python",
   "name": "python",
   "nbconvert_exporter": "python",
   "pygments_lexer": "ipython3",
   "version": "3.7.3"
  }
 },
 "nbformat": 4,
 "nbformat_minor": 2
}
