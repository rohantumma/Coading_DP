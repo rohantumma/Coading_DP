{
 "cells": [
  {
   "cell_type": "code",
   "execution_count": 1,
   "metadata": {},
   "outputs": [
    {
     "name": "stdout",
     "output_type": "stream",
     "text": [
      "[1]\n",
      "[1, 2]\n",
      "[1, 2, 3]\n",
      "[2]\n",
      "[2, 3]\n",
      "[3]\n"
     ]
    }
   ],
   "source": [
    "a=[1,2,3]\n",
    "for i in range(len(a)):\n",
    "    for j in range(i,len(a)):\n",
    "        print(a[i:j+1])"
   ]
  },
  {
   "cell_type": "code",
   "execution_count": 5,
   "metadata": {},
   "outputs": [
    {
     "name": "stdout",
     "output_type": "stream",
     "text": [
      "[(1,), (2,), (3,)]\n",
      "[(1, 2), (1, 3), (2, 3)]\n",
      "[(1, 2, 3)]\n"
     ]
    }
   ],
   "source": [
    "from itertools import combinations \n",
    "  \n",
    "def rSubset(arr, r): \n",
    "  \n",
    "    # return list of all subsets of length r \n",
    "    # to deal with duplicate subsets use  \n",
    "    # set(list(combinations(arr, r))) \n",
    "    return list(combinations(arr, r)) \n",
    "  \n",
    "# Driver Function \n",
    "if __name__ == \"__main__\": \n",
    "    arr = [1, 2, 3] \n",
    "    for i in range(1,len(a)+1):\n",
    "        print( rSubset(arr, i) )"
   ]
  },
  {
   "cell_type": "code",
   "execution_count": 55,
   "metadata": {},
   "outputs": [
    {
     "name": "stdout",
     "output_type": "stream",
     "text": [
      "12\n"
     ]
    }
   ],
   "source": [
    "def combs(a):\n",
    "    if len(a) == 0:\n",
    "        return [[]]\n",
    "    cs = []\n",
    "    for c in combs(a[1:]):\n",
    "        cs += [c, c+[a[0]]]\n",
    "        #print([c, c+[a[0]]])\n",
    "    return cs\n",
    "test_list=combs([1,2,3])\n",
    "del test_list[0]\n",
    "\n",
    "def ref(a):\n",
    "    ef=''\n",
    "    for i in range(len(a)):\n",
    "        if ef=='':\n",
    "            ef=a[i]\n",
    "        else:\n",
    "            ef=ef^a[i]\n",
    "    return ef\n",
    "#print(test_list)\n",
    "sumi=0\n",
    "for j in test_list:\n",
    "    sumi+=ref(j)\n",
    "print(sumi)"
   ]
  },
  {
   "cell_type": "code",
   "execution_count": null,
   "metadata": {},
   "outputs": [],
   "source": []
  },
  {
   "cell_type": "code",
   "execution_count": 17,
   "metadata": {},
   "outputs": [
    {
     "name": "stdout",
     "output_type": "stream",
     "text": [
      "[<function <lambda> at 0x000001ED97798D90>, [[], [1], [2], [2, 1], [3], [3, 1], [3, 2], [3, 2, 1]]]\n"
     ]
    }
   ],
   "source": []
  },
  {
   "cell_type": "code",
   "execution_count": 56,
   "metadata": {},
   "outputs": [
    {
     "name": "stdout",
     "output_type": "stream",
     "text": [
      "2520\n"
     ]
    }
   ],
   "source": [
    "from functools import reduce    # need this line if you're using Python3.x\n",
    "\n",
    "def lcm(a, b):\n",
    "    if a > b:\n",
    "        greater = a\n",
    "    else:\n",
    "        greater = b\n",
    "\n",
    "    while True:\n",
    "        if greater % a == 0 and greater % b == 0:\n",
    "            lcm = greater\n",
    "            break\n",
    "        greater += 1\n",
    "\n",
    "    return lcm\n",
    "\n",
    "def get_lcm_for(your_list):\n",
    "    return reduce(lambda x, y: lcm(x, y), your_list)\n",
    "\n",
    "ans = get_lcm_for([1, 2, 3, 4, 5, 6, 7, 8, 9])\n",
    "print(ans)"
   ]
  },
  {
   "cell_type": "code",
   "execution_count": 68,
   "metadata": {},
   "outputs": [
    {
     "name": "stdout",
     "output_type": "stream",
     "text": [
      "2520\n"
     ]
    }
   ],
   "source": [
    "#lcm\n",
    "def gcdi(x,y):\n",
    "    while y:\n",
    "        x,y=y,x%y\n",
    "    return x\n",
    "a = [1, 2, 3, 4, 5, 6, 7, 8, 9]  \n",
    "lcm = a[0]\n",
    "for i in a[1:]:\n",
    "    lcm = int(lcm*i/gcdi(lcm, i))\n",
    "print (lcm)"
   ]
  },
  {
   "cell_type": "code",
   "execution_count": 69,
   "metadata": {},
   "outputs": [
    {
     "name": "stdout",
     "output_type": "stream",
     "text": [
      "[2, 3, 4, 5, 6, 7, 8, 9]\n"
     ]
    }
   ],
   "source": [
    "print(a[1:])"
   ]
  },
  {
   "cell_type": "code",
   "execution_count": 74,
   "metadata": {},
   "outputs": [
    {
     "name": "stdout",
     "output_type": "stream",
     "text": [
      "1\n"
     ]
    }
   ],
   "source": [
    "def gcd (a,b):\n",
    "    if (b == 0):\n",
    "        return a\n",
    "    else:\n",
    "         return gcd (b, a % b)\n",
    "A = [2, 3, 4, 5, 6, 7, 8, 9]\n",
    "res = A[0]\n",
    "for c in A[1:]:\n",
    "    res = gcd(res , c)\n",
    "print (res)"
   ]
  },
  {
   "cell_type": "code",
   "execution_count": null,
   "metadata": {},
   "outputs": [],
   "source": []
  },
  {
   "cell_type": "code",
   "execution_count": null,
   "metadata": {},
   "outputs": [],
   "source": []
  },
  {
   "cell_type": "code",
   "execution_count": null,
   "metadata": {},
   "outputs": [],
   "source": []
  },
  {
   "cell_type": "code",
   "execution_count": null,
   "metadata": {},
   "outputs": [],
   "source": []
  },
  {
   "cell_type": "code",
   "execution_count": 77,
   "metadata": {},
   "outputs": [
    {
     "name": "stdout",
     "output_type": "stream",
     "text": [
      "2520\n"
     ]
    }
   ],
   "source": [
    "def gcd(x,y):\n",
    "    while y:\n",
    "        x,y=y,x%y\n",
    "    return x\n",
    "def lcm(a):\n",
    "    lcm=a[0]\n",
    "    for i in a[1:]:\n",
    "        lcm=int(lcm*i/gcd(lcm,i))\n",
    "    return lcm\n",
    "print(lcm([1, 2, 3, 4, 5, 6, 7, 8, 9]))"
   ]
  },
  {
   "cell_type": "code",
   "execution_count": 11,
   "metadata": {},
   "outputs": [
    {
     "name": "stdout",
     "output_type": "stream",
     "text": [
      "1\n",
      "2\n",
      "0 0\n",
      "0 0\n"
     ]
    }
   ],
   "source": [
    "T=int(input())\n",
    "for _ in range(T):\n",
    "    n = int(input())\n",
    "    x = list(map(int, input().split(\" \")))\n",
    "    left = 0\n",
    "    right=0\n",
    "    for i in range(1, n):\n",
    "        right+=x[i]\n",
    "    if n>2:\n",
    "        for i in range(1, n):\n",
    "            #print(i, left, right)\n",
    "            left = left + x[i-1]\n",
    "            right = right - x[i]\n",
    "            if left==right:\n",
    "                print(i+1, left)\n",
    "                break\n",
    "    else:\n",
    "        print(0, 0)"
   ]
  },
  {
   "cell_type": "code",
   "execution_count": null,
   "metadata": {},
   "outputs": [],
   "source": [
    "Input : {1, 5, 4, 3, 2}\n",
    "Output : 2"
   ]
  },
  {
   "cell_type": "code",
   "execution_count": 101,
   "metadata": {},
   "outputs": [
    {
     "name": "stdout",
     "output_type": "stream",
     "text": [
      "[(0, 3), (1, 7), (2, 6), (3, 9), (4, 1), (5, 8), (6, 10), (7, 4), (8, 2), (9, 5)]\n",
      "[(4, 1), (8, 2), (0, 3), (7, 4), (9, 5), (2, 6), (1, 7), (5, 8), (3, 9), (6, 10)]\n",
      "{0: False, 1: False, 2: False, 3: False, 4: False, 5: False, 6: False, 7: False, 8: False, 9: False}\n",
      "False 4 0\n",
      "True 8 1\n",
      "s\n",
      "True 0 2\n",
      "s\n",
      "True 7 3\n",
      "s\n",
      "True 9 4\n",
      "s\n",
      "True 2 5\n",
      "s\n",
      "True 1 6\n",
      "s\n",
      "True 5 7\n",
      "s\n",
      "True 3 8\n",
      "s\n",
      "True 6 9\n",
      "s\n",
      "{0: True, 1: True, 2: True, 3: True, 4: True, 5: True, 6: True, 7: True, 8: True, 9: True}\n",
      "9\n"
     ]
    }
   ],
   "source": [
    "def minSwaps(arr): \n",
    "    n = len(arr)  \n",
    "    arrpos = [*enumerate(arr)] \n",
    "    print(arrpos)\n",
    "    arrpos.sort(key = lambda it:it[1]) \n",
    "    print(arrpos)\n",
    "\n",
    "    vis = {k:False for k in range(n)} \n",
    "    print(vis)\n",
    "    # Initialize result \n",
    "    ans = 0\n",
    "    for i in range(n): \n",
    "        print(vis[i], arrpos[i][0], i)\n",
    "        if vis[i] or arrpos[i][0] == i: \n",
    "            print(\"s\")\n",
    "            continue\n",
    "        cycle_size = 0\n",
    "        j = i \n",
    "        while not vis[j]: \n",
    "            vis[j] = True\n",
    "            j = arrpos[j][0] \n",
    "            cycle_size += 1\n",
    "\n",
    "        if cycle_size > 0: \n",
    "            ans += (cycle_size - 1) \n",
    "    print(vis)\n",
    "    # return answer \n",
    "    return ans \n",
    "  \n",
    "# Driver Code      \n",
    "arr = [3, 7 ,6 ,9 ,1 ,8 ,10 ,4 ,2 ,5] \n",
    "print(minSwaps(arr)) \n",
    "  \n",
    "# This code is contributed \n",
    "# by Dharan Aditya "
   ]
  },
  {
   "cell_type": "code",
   "execution_count": 100,
   "metadata": {},
   "outputs": [
    {
     "name": "stdout",
     "output_type": "stream",
     "text": [
      "[3, 7, 6, 9, 1, 8, 10, 4, 2, 5] 0\n",
      "[1, 2, 3, 4, 5, 6, 7, 8, 9, 10] 17\n"
     ]
    }
   ],
   "source": [
    "a=[3, 7 ,6 ,9 ,1 ,8 ,10 ,4 ,2 ,5]\n",
    "j=len(a)-1\n",
    "swap=0\n",
    "swap1=0\n",
    "print(a,swap)\n",
    "for i in range(0,len(a)):\n",
    "    for _ in range(len(a)):\n",
    "        if i<j:\n",
    "            if a[i]<a[j]:\n",
    "                j-=1\n",
    "            else:\n",
    "                a[i],a[j]=a[j],a[i]\n",
    "                swap1=swap\n",
    "                swap+=1\n",
    "                j-=1\n",
    "        else:\n",
    "            j=len(a)-1\n",
    "            break\n",
    "print(a,swap)  "
   ]
  },
  {
   "cell_type": "code",
   "execution_count": null,
   "metadata": {},
   "outputs": [],
   "source": []
  }
 ],
 "metadata": {
  "kernelspec": {
   "display_name": "Python 3",
   "language": "python",
   "name": "python3"
  },
  "language_info": {
   "codemirror_mode": {
    "name": "ipython",
    "version": 3
   },
   "file_extension": ".py",
   "mimetype": "text/x-python",
   "name": "python",
   "nbconvert_exporter": "python",
   "pygments_lexer": "ipython3",
   "version": "3.7.3"
  }
 },
 "nbformat": 4,
 "nbformat_minor": 2
}
