{
 "cells": [
  {
   "cell_type": "markdown",
   "metadata": {},
   "source": [
    "#   fibbo O(N) time co and O(1) space co"
   ]
  },
  {
   "cell_type": "code",
   "execution_count": 62,
   "metadata": {},
   "outputs": [
    {
     "name": "stdout",
     "output_type": "stream",
     "text": [
      "fib = 21\n"
     ]
    }
   ],
   "source": [
    "def fib(n):\n",
    "    li=[0,1]\n",
    "    count=3\n",
    "    while(count<=n):\n",
    "        j=li[0]+li[1]\n",
    "        li[0]=li[1]\n",
    "        li[1]=j\n",
    "        count+=1\n",
    "    return li[1] if n>1 else li[0]\n",
    "print(\"fib =\",fib(9))"
   ]
  },
  {
   "cell_type": "code",
   "execution_count": 1,
   "metadata": {},
   "outputs": [],
   "source": [
    "import math as m\n",
    "PHI = (1 + m.sqrt(5)) / 2\n",
    "def fib(n: int):\n",
    "    return int(PHI ** n / m.sqrt(5) + 0.5)"
   ]
  },
  {
   "cell_type": "code",
   "execution_count": 2,
   "metadata": {},
   "outputs": [
    {
     "name": "stdout",
     "output_type": "stream",
     "text": [
      "fib = 21\n"
     ]
    }
   ],
   "source": [
    "print(\"fib =\",fib(8))"
   ]
  },
  {
   "cell_type": "code",
   "execution_count": null,
   "metadata": {},
   "outputs": [],
   "source": []
  }
 ],
 "metadata": {
  "kernelspec": {
   "display_name": "Python 3",
   "language": "python",
   "name": "python3"
  },
  "language_info": {
   "codemirror_mode": {
    "name": "ipython",
    "version": 3
   },
   "file_extension": ".py",
   "mimetype": "text/x-python",
   "name": "python",
   "nbconvert_exporter": "python",
   "pygments_lexer": "ipython3",
   "version": "3.7.3"
  }
 },
 "nbformat": 4,
 "nbformat_minor": 2
}
