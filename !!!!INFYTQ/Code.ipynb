{
 "cells": [
  {
   "cell_type": "code",
   "execution_count": 24,
   "metadata": {},
   "outputs": [
    {
     "name": "stdout",
     "output_type": "stream",
     "text": [
      "A AMSTRONG 8208\n"
     ]
    }
   ],
   "source": [
    "def rec(n,i,total,t):\n",
    "    if total==t:\n",
    "        print(\"A AMSTRONG\",t)\n",
    "    else:\n",
    "        if n!=0:\n",
    "            total+=int(n%10)**i\n",
    "            n=int(n/10)\n",
    "            #print(total,n,i)\n",
    "            rec(n,i,total,t)\n",
    "        else:print(\"NOT A AMSTRONG\")\n",
    "    \n",
    "n=8208\n",
    "rec(n,len(str(n)),0,n)"
   ]
  },
  {
   "cell_type": "code",
   "execution_count": 1,
   "metadata": {},
   "outputs": [
    {
     "name": "stdout",
     "output_type": "stream",
     "text": [
      "0 44356\n",
      "1 4435\n",
      "2 443\n",
      "3 44\n",
      "4 4\n",
      "5\n",
      "5\n",
      "4\n",
      "3\n",
      "2\n",
      "1\n",
      "1\n"
     ]
    }
   ],
   "source": [
    "def num(n,c):\n",
    "    if n>0:\n",
    "        print(c,n)\n",
    "        c+=1\n",
    "        num(int(n/10),c)\n",
    "    print(c)\n",
    "    return(c)\n",
    "\n",
    "n=44356\n",
    "print(num(n,0))"
   ]
  },
  {
   "cell_type": "code",
   "execution_count": 2,
   "metadata": {},
   "outputs": [
    {
     "name": "stdout",
     "output_type": "stream",
     "text": [
      "3\n"
     ]
    }
   ],
   "source": [
    "c=0\n",
    "def num(n):\n",
    "    global c\n",
    "    if n>0:\n",
    "        c+=1\n",
    "        num(int(n/10))\n",
    "    return(c)\n",
    "\n",
    "n=443\n",
    "print(num(n))"
   ]
  },
  {
   "cell_type": "markdown",
   "metadata": {},
   "source": [
    "# bubble sort"
   ]
  },
  {
   "cell_type": "code",
   "execution_count": 70,
   "metadata": {},
   "outputs": [
    {
     "name": "stdout",
     "output_type": "stream",
     "text": [
      "[1, 2, 3, 3, 6, 6, 8, 8]\n",
      "1 --> 1\n",
      "2 --> 1\n",
      "3 --> 2\n",
      "6 --> 2\n",
      "8 --> 2\n"
     ]
    }
   ],
   "source": [
    "def bubble(a):\n",
    "    n=len(a)\n",
    "    for i in range(n):\n",
    "        for j in range(n-i-1):\n",
    "            if a[j]>a[j+1]:\n",
    "                a[j],a[j+1]=a[j+1],a[j]\n",
    "\n",
    "\n",
    "arr=[1,6,3,8,3,2,6,8]            \n",
    "bubble(arr)\n",
    "print(arr)\n",
    "count=1\n",
    "arr.append(0)\n",
    "for i in range(len(arr)):\n",
    "    j=i\n",
    "    if(arr[i]!=0):\n",
    "        if arr[i]==arr[i+1]:\n",
    "            count+=1\n",
    "        else:\n",
    "            i=j\n",
    "            print(arr[i],\"-->\",count)\n",
    "            count=1"
   ]
  },
  {
   "cell_type": "code",
   "execution_count": 77,
   "metadata": {},
   "outputs": [
    {
     "name": "stdout",
     "output_type": "stream",
     "text": [
      "None\n"
     ]
    }
   ],
   "source": [
    "j=[3,5,2,7,7,99,6,9,4,7,56]\n",
    "print(j.sort())"
   ]
  },
  {
   "cell_type": "code",
   "execution_count": 82,
   "metadata": {},
   "outputs": [
    {
     "name": "stdout",
     "output_type": "stream",
     "text": [
      "[2, 3, 4, 5, 6, 7, 7, 7, 9, 56, 99]\n",
      "[2, 3, 4, 5, 6, 7, 9, 56, 99]\n"
     ]
    }
   ],
   "source": [
    "print(j)\n",
    "hj=set(j)\n",
    "print(sorted(hj))"
   ]
  },
  {
   "cell_type": "markdown",
   "metadata": {},
   "source": [
    "# PYTHON notification on windows"
   ]
  },
  {
   "cell_type": "code",
   "execution_count": 43,
   "metadata": {},
   "outputs": [],
   "source": [
    "from plyer import notification\n",
    "notification.notify(title=\"Hey Rohan\",\n",
    "                    message=\"IT WORKING\",\n",
    "                    timeout=10\n",
    "                   )"
   ]
  },
  {
   "cell_type": "markdown",
   "metadata": {},
   "source": [
    "# INTERNET CONNECTION IN PYTHON"
   ]
  },
  {
   "cell_type": "code",
   "execution_count": 7,
   "metadata": {},
   "outputs": [
    {
     "name": "stdout",
     "output_type": "stream",
     "text": [
      "False\n"
     ]
    }
   ],
   "source": [
    "print(\"\"\"A \n",
    "B \n",
    "C\"\"\"==\"A\\nB\\nC\\n\")"
   ]
  },
  {
   "cell_type": "code",
   "execution_count": 15,
   "metadata": {},
   "outputs": [
    {
     "name": "stdout",
     "output_type": "stream",
     "text": [
      "3.5999999999999996\n",
      "False\n"
     ]
    }
   ],
   "source": [
    "x=1.3+2.3\n",
    "print(x)\n",
    "print(x==3.6)"
   ]
  },
  {
   "cell_type": "code",
   "execution_count": 1,
   "metadata": {},
   "outputs": [
    {
     "name": "stdout",
     "output_type": "stream",
     "text": [
      "250\n",
      "!\n",
      "[2, 3]\n"
     ]
    }
   ],
   "source": [
    "y,z=10,15\n",
    "y*=y+z# first y+z>>>10+15--->25*y---->250\n",
    "print(y)\n",
    "#print(y*y+z)\n",
    "print(min(\"abCD123!\"))\n",
    "m=[1,2,3]\n",
    "print(m[1:])"
   ]
  },
  {
   "cell_type": "markdown",
   "metadata": {},
   "source": [
    "# ARRAY rotation"
   ]
  },
  {
   "cell_type": "code",
   "execution_count": 6,
   "metadata": {},
   "outputs": [
    {
     "name": "stdout",
     "output_type": "stream",
     "text": [
      "[1, 2, 3, 4, 5, 6, 7]\n",
      "[3, 4, 5, 6, 7, 1, 2]\n"
     ]
    }
   ],
   "source": [
    "def rot(a,d):\n",
    "    if(d>0):\n",
    "        for i in range(len(a)-1):\n",
    "            a[i],a[i-1]=a[i-1],a[i]\n",
    "        #a[len(a)-1],a[len(a)-2]=a[len(a)-2],a[len(a)-1]\n",
    "        rot(a,d-1)\n",
    "    else:\n",
    "        print(a)\n",
    "\n",
    "a=[1,2,3,4,5,6,7]\n",
    "print(a)\n",
    "d=2\n",
    "rot(a,d)"
   ]
  },
  {
   "cell_type": "code",
   "execution_count": null,
   "metadata": {},
   "outputs": [],
   "source": []
  },
  {
   "cell_type": "markdown",
   "metadata": {},
   "source": [
    "# remove dublicated unsorted array"
   ]
  },
  {
   "cell_type": "code",
   "execution_count": 137,
   "metadata": {},
   "outputs": [],
   "source": [
    "def bubble(a):\n",
    "    n=len(a)\n",
    "    for i in range(n):\n",
    "        for j in range(n-i-1):\n",
    "            if a[j]>a[j+1]:\n",
    "                a[j],a[j+1]=a[j+1],a[j]\n",
    "    return a"
   ]
  },
  {
   "cell_type": "code",
   "execution_count": 138,
   "metadata": {},
   "outputs": [
    {
     "name": "stdout",
     "output_type": "stream",
     "text": [
      "[1, 2, 6, 6, 7, 7, 8, 8, 9]\n"
     ]
    }
   ],
   "source": [
    "j=[1,8,2,6,6,7,7,8,9]\n",
    "o=bubble(j)\n",
    "print(o)"
   ]
  },
  {
   "cell_type": "code",
   "execution_count": 139,
   "metadata": {},
   "outputs": [
    {
     "name": "stdout",
     "output_type": "stream",
     "text": [
      "6 6 2\n",
      "6 6 2\n",
      "6 7 2\n",
      "6 7 2\n",
      "6 7 2\n",
      "6 7 2\n",
      "7 7 3\n",
      "7 7 3\n",
      "7 8 3\n",
      "7 8 3\n",
      "7 8 3\n",
      "8 8 4\n",
      "8 8 4\n",
      "8 9 4\n",
      "8 9 4\n",
      "[1, 2, 6, 7, 8, 9, 6, 7, 8]\n"
     ]
    }
   ],
   "source": [
    "co=0\n",
    "def recu(n,a):\n",
    "    global co\n",
    "    if n<len(a)-1:\n",
    "        if a[n]==a[n+1]:\n",
    "            co=co+1\n",
    "            #print(a[n],a[n+1],n) \n",
    "            for i in range(n,len(a)-1):\n",
    "                print(a[n],a[n+1],n)\n",
    "                a[i],a[i+1]=a[i+1],a[i]\n",
    "        recu(n+1,a)   \n",
    "recu(0,o)\n",
    "print(o)\n"
   ]
  },
  {
   "cell_type": "code",
   "execution_count": 140,
   "metadata": {},
   "outputs": [
    {
     "name": "stdout",
     "output_type": "stream",
     "text": [
      "[1, 2, 6, 7, 8, 9]\n"
     ]
    }
   ],
   "source": [
    "for i in range(co):\n",
    "    o.pop()\n",
    "print(o)"
   ]
  },
  {
   "cell_type": "code",
   "execution_count": 135,
   "metadata": {},
   "outputs": [
    {
     "name": "stdout",
     "output_type": "stream",
     "text": [
      "[1, 2, 6]\n"
     ]
    }
   ],
   "source": [
    "temp=[]\n",
    "for i in range(0,len(o)-co):\n",
    "    temp.append(o[i])\n",
    "print(temp)"
   ]
  },
  {
   "cell_type": "markdown",
   "metadata": {},
   "source": [
    "# srting anagram"
   ]
  },
  {
   "cell_type": "code",
   "execution_count": null,
   "metadata": {},
   "outputs": [],
   "source": [
    "st1=\"abcd\"\n",
    "st2=\"badc\"\n",
    "\n",
    "if len(st1)==len(st2):\n",
    "    \n"
   ]
  },
  {
   "cell_type": "code",
   "execution_count": 38,
   "metadata": {},
   "outputs": [
    {
     "name": "stdout",
     "output_type": "stream",
     "text": [
      "['a', 'a', 'a', 'a', 'b', 'b', 'b', 'b', 'c', 'c', 'c', 'c', 'd', 'd', 'd']\n",
      "a4b4c4\n"
     ]
    }
   ],
   "source": [
    "st1=\"abcdabcdaabbccd\"\n",
    "li=list(st1)\n",
    "li.sort()\n",
    "print(li)\n",
    "count=1\n",
    "stri=\"\"\n",
    "for i in range(0,len(li)-1):\n",
    "    if i!=len(li):\n",
    "        if li[i]==li[i+1]:\n",
    "            count+=1\n",
    "        else:\n",
    "            stri+=li[i]+str(count)\n",
    "            count=1\n",
    "print(stri)"
   ]
  },
  {
   "cell_type": "code",
   "execution_count": null,
   "metadata": {},
   "outputs": [],
   "source": []
  },
  {
   "cell_type": "code",
   "execution_count": 1,
   "metadata": {},
   "outputs": [
    {
     "ename": "SyntaxError",
     "evalue": "invalid syntax (<ipython-input-1-c076d2bf8716>, line 1)",
     "output_type": "error",
     "traceback": [
      "\u001b[1;36m  File \u001b[1;32m\"<ipython-input-1-c076d2bf8716>\"\u001b[1;36m, line \u001b[1;32m1\u001b[0m\n\u001b[1;33m    keyword = {\"break\"=0, \"case\"=0, \"continue\"=0, \"default\"=0, \"defer\"=0, \"else\"=0, \"for\"=0,\u001b[0m\n\u001b[1;37m                      ^\u001b[0m\n\u001b[1;31mSyntaxError\u001b[0m\u001b[1;31m:\u001b[0m invalid syntax\n"
     ]
    }
   ],
   "source": [
    "keyword = {\"break\":0, \"case\":0, \"continue\":0, \"default\":0, \"defer\":0, \"else\":0, \"for\":0, \n",
    "\"func\":0, \"goto\":0, \"if\":0, \"map\":0, \"range\":0, \"return\":0, \"struct\":0, \"type\":0, \"var\":0}\n",
    "\n",
    "input_var = \"Include return print(“hi”);   if a>10 break if a<10 continue\"\n",
    "in\n",
    "if input_var in keyword:\n",
    "    print(input_var+ \" is a keyword\")\n",
    "else:\n",
    "    print(input_var+ \" is a not keyword\")"
   ]
  },
  {
   "cell_type": "code",
   "execution_count": null,
   "metadata": {},
   "outputs": [],
   "source": [
    "dict={}"
   ]
  }
 ],
 "metadata": {
  "kernelspec": {
   "display_name": "Python 3",
   "language": "python",
   "name": "python3"
  },
  "language_info": {
   "codemirror_mode": {
    "name": "ipython",
    "version": 3
   },
   "file_extension": ".py",
   "mimetype": "text/x-python",
   "name": "python",
   "nbconvert_exporter": "python",
   "pygments_lexer": "ipython3",
   "version": "3.7.3"
  }
 },
 "nbformat": 4,
 "nbformat_minor": 2
}
