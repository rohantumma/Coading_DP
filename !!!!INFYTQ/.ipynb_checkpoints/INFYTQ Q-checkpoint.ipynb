{
 "cells": [
  {
   "cell_type": "code",
   "execution_count": 168,
   "metadata": {},
   "outputs": [
    {
     "name": "stdout",
     "output_type": "stream",
     "text": [
      "['lifes', '12312']\n"
     ]
    },
    {
     "ename": "TypeError",
     "evalue": "'str' object is not callable",
     "output_type": "error",
     "traceback": [
      "\u001b[1;31m---------------------------------------------------------------------------\u001b[0m",
      "\u001b[1;31mTypeError\u001b[0m                                 Traceback (most recent call last)",
      "\u001b[1;32m<ipython-input-168-16a26f5752e4>\u001b[0m in \u001b[0;36m<module>\u001b[1;34m\u001b[0m\n\u001b[0;32m      6\u001b[0m \u001b[0my\u001b[0m\u001b[1;33m=\u001b[0m\u001b[0mint\u001b[0m\u001b[1;33m(\u001b[0m\u001b[0mres\u001b[0m\u001b[1;33m[\u001b[0m\u001b[1;36m1\u001b[0m\u001b[1;33m]\u001b[0m\u001b[1;33m)\u001b[0m\u001b[1;33m\u001b[0m\u001b[1;33m\u001b[0m\u001b[0m\n\u001b[0;32m      7\u001b[0m \u001b[0mt\u001b[0m\u001b[1;33m=\u001b[0m\u001b[1;36m0\u001b[0m\u001b[1;33m\u001b[0m\u001b[1;33m\u001b[0m\u001b[0m\n\u001b[1;32m----> 8\u001b[1;33m \u001b[1;32mfor\u001b[0m \u001b[0mi\u001b[0m \u001b[1;32min\u001b[0m \u001b[0mrange\u001b[0m\u001b[1;33m(\u001b[0m\u001b[1;36m0\u001b[0m\u001b[1;33m,\u001b[0m\u001b[0mlen\u001b[0m\u001b[1;33m(\u001b[0m\u001b[0mstr\u001b[0m\u001b[1;33m(\u001b[0m\u001b[0my\u001b[0m\u001b[1;33m)\u001b[0m\u001b[1;33m)\u001b[0m\u001b[1;33m)\u001b[0m\u001b[1;33m:\u001b[0m\u001b[1;33m\u001b[0m\u001b[1;33m\u001b[0m\u001b[0m\n\u001b[0m\u001b[0;32m      9\u001b[0m     \u001b[0mu\u001b[0m\u001b[1;33m=\u001b[0m\u001b[0my\u001b[0m\u001b[1;33m%\u001b[0m\u001b[1;36m10\u001b[0m\u001b[1;33m\u001b[0m\u001b[1;33m\u001b[0m\u001b[0m\n\u001b[0;32m     10\u001b[0m     \u001b[0mt\u001b[0m\u001b[1;33m=\u001b[0m\u001b[0mt\u001b[0m\u001b[1;33m+\u001b[0m\u001b[1;33m(\u001b[0m\u001b[0mu\u001b[0m\u001b[1;33m*\u001b[0m\u001b[0mu\u001b[0m\u001b[1;33m)\u001b[0m\u001b[1;33m\u001b[0m\u001b[1;33m\u001b[0m\u001b[0m\n",
      "\u001b[1;31mTypeError\u001b[0m: 'str' object is not callable"
     ]
    }
   ],
   "source": [
    "s = 'lifes:12312'\n",
    "res = s.split(\":\"); \n",
    "print(res)\n",
    "o=res[0]\n",
    "y=int(res[1])\n",
    "t=0\n",
    "for i in range(0,len(str(y))):\n",
    "    u=y%10\n",
    "    t=t+(u*u)\n",
    "    y=int(y/10)\n",
    "    \n",
    "if(2 % 2):\n",
    "    for r in range(3):\n",
    "        j=o[r:] + o[:r]\n",
    "    print(j) \n",
    "else:\n",
    "    for r in range(2):\n",
    "        j=o[-r:]+o[:-r]\n",
    "    print(j)"
   ]
  },
  {
   "cell_type": "code",
   "execution_count": 169,
   "metadata": {},
   "outputs": [
    {
     "name": "stdout",
     "output_type": "stream",
     "text": [
      "['lifes', '3752']\n"
     ]
    },
    {
     "ename": "TypeError",
     "evalue": "'str' object is not callable",
     "output_type": "error",
     "traceback": [
      "\u001b[1;31m---------------------------------------------------------------------------\u001b[0m",
      "\u001b[1;31mTypeError\u001b[0m                                 Traceback (most recent call last)",
      "\u001b[1;32m<ipython-input-169-003433f816c2>\u001b[0m in \u001b[0;36m<module>\u001b[1;34m\u001b[0m\n\u001b[0;32m     17\u001b[0m \u001b[0my\u001b[0m\u001b[1;33m=\u001b[0m\u001b[0mint\u001b[0m\u001b[1;33m(\u001b[0m\u001b[0mres\u001b[0m\u001b[1;33m[\u001b[0m\u001b[1;36m1\u001b[0m\u001b[1;33m]\u001b[0m\u001b[1;33m)\u001b[0m\u001b[1;33m\u001b[0m\u001b[1;33m\u001b[0m\u001b[0m\n\u001b[0;32m     18\u001b[0m \u001b[0mr\u001b[0m\u001b[1;33m=\u001b[0m\u001b[1;33m[\u001b[0m\u001b[1;33m]\u001b[0m\u001b[1;33m\u001b[0m\u001b[1;33m\u001b[0m\u001b[0m\n\u001b[1;32m---> 19\u001b[1;33m \u001b[1;32mfor\u001b[0m \u001b[0mi\u001b[0m \u001b[1;32min\u001b[0m \u001b[0mrange\u001b[0m\u001b[1;33m(\u001b[0m\u001b[1;36m0\u001b[0m\u001b[1;33m,\u001b[0m\u001b[0mlen\u001b[0m\u001b[1;33m(\u001b[0m\u001b[0mstr\u001b[0m\u001b[1;33m(\u001b[0m\u001b[0my\u001b[0m\u001b[1;33m)\u001b[0m\u001b[1;33m)\u001b[0m\u001b[1;33m)\u001b[0m\u001b[1;33m:\u001b[0m\u001b[1;33m\u001b[0m\u001b[1;33m\u001b[0m\u001b[0m\n\u001b[0m\u001b[0;32m     20\u001b[0m     \u001b[0mu\u001b[0m\u001b[1;33m=\u001b[0m\u001b[0my\u001b[0m\u001b[1;33m%\u001b[0m\u001b[1;36m10\u001b[0m\u001b[1;33m\u001b[0m\u001b[1;33m\u001b[0m\u001b[0m\n\u001b[0;32m     21\u001b[0m     \u001b[0mr\u001b[0m\u001b[1;33m.\u001b[0m\u001b[0mappend\u001b[0m\u001b[1;33m(\u001b[0m\u001b[0mu\u001b[0m\u001b[1;33m)\u001b[0m\u001b[1;33m\u001b[0m\u001b[1;33m\u001b[0m\u001b[0m\n",
      "\u001b[1;31mTypeError\u001b[0m: 'str' object is not callable"
     ]
    }
   ],
   "source": [
    "s = 'lifes@3752'\n",
    "res = s.split(\"@\"); \n",
    "\n",
    "'''\n",
    "# anothe method using re package\n",
    "#re.findall(\"\\d\",s) \\d for digits \n",
    "#set gives uniqe numbes and strings in\n",
    "import re\n",
    "t=list(set(re.findall(\"\\d\",s)))\n",
    "print(t)\n",
    "# set gives uniqe print(set(re.findall(\"\\d\",s)))\n",
    "'''\n",
    "\n",
    "\n",
    "print(res)\n",
    "o=res[0]\n",
    "y=int(res[1])\n",
    "r=[]\n",
    "for i in range(0,len(str(y))):\n",
    "    u=y%10\n",
    "    r.append(u)\n",
    "    y=int(y/10)\n",
    "p=set(r)\n",
    "t=list(p)\n",
    "\n",
    "\n",
    "t.sort(reverse=True)\n",
    "even=[]\n",
    "for i in t:\n",
    "    if i%2==0:\n",
    "        even.append(i)\n",
    "\n",
    "#print(t)\n",
    "\n",
    "if(len(even)==0):\n",
    "    print(-1)\n",
    "else:\n",
    "    mineven=min(even)\n",
    "    i=t.index(mineven)\n",
    "    t.pop(i)\n",
    "    print(mineven,i)\n",
    "    t.append(mineven)\n",
    "    poki=''\n",
    "    for i in t:\n",
    "        poki=poki+str(i)\n",
    "    print(int(poki))"
   ]
  },
  {
   "cell_type": "code",
   "execution_count": 156,
   "metadata": {},
   "outputs": [
    {
     "name": "stdout",
     "output_type": "stream",
     "text": [
      "['9', '2', '7', '3', '5'] ['-']\n",
      "-92735\n",
      "digits present in sting are 9 2 7 3 5 and hence output is .Sence first character is '-' the negative number i.e  -92735\n"
     ]
    }
   ],
   "source": [
    "s = '-lifes93752'\n",
    "import re\n",
    "t=list(set(re.findall(\"\\d\",s)))\n",
    "sign=list(set(re.findall(\"-\",s)))\n",
    "print(t,sign)\n",
    "str1='digits present in sting are'\n",
    "str2=\".Sence first character is '-' the negative number i.e \"\n",
    "if len(sign)==0:\n",
    "    num=''\n",
    "    str2=''\n",
    "else:\n",
    "    num='-'\n",
    "for i in t:\n",
    "    str1=str1+\" \"+i\n",
    "    num=num+i\n",
    "    \n",
    "print(int(num))\n",
    "''''''print(str1,\"and hence output is\",str2,int(num))"
   ]
  },
  {
   "cell_type": "code",
   "execution_count": 103,
   "metadata": {},
   "outputs": [
    {
     "data": {
      "text/plain": [
       "'\\nflage=1\\nfor i in range(0,len(k)):\\n    if k[i]==jk[i]:\\n        flage=0\\n    else:\\n        print(\"not a pali\")\\n        break\\nprint(\"pali\")\\n'"
      ]
     },
     "execution_count": 103,
     "metadata": {},
     "output_type": "execute_result"
    }
   ],
   "source": [
    "'''\n",
    "y=4526\n",
    "k=list(str(y))\n",
    "jk=k\n",
    "jk.reverse()\n",
    "jk=''.join(jk)\n",
    "#print(jk)\n",
    "'''\n",
    "'''\n",
    "\n",
    "'''"
   ]
  },
  {
   "cell_type": "markdown",
   "metadata": {},
   "source": [
    "# printing rev of string bye remiving dublcates"
   ]
  },
  {
   "cell_type": "code",
   "execution_count": 31,
   "metadata": {},
   "outputs": [
    {
     "name": "stdout",
     "output_type": "stream",
     "text": [
      "['g', 'o', 'o', 'g', 'l', 'e']\n",
      "['e', 'g', 'o', 'l']\n",
      "['e', 'l', 'o', 'g']\n"
     ]
    }
   ],
   "source": [
    "def rsv(spr):\n",
    "    return [char for char in spr]\n",
    "s=rsv(\"google\")\n",
    "print(s)\n",
    "k=list(set(s))\n",
    "print(k)\n",
    "j=k.pop(0)\n",
    "k.append(j)\n",
    "k.reverse()\n",
    "print(k)"
   ]
  },
  {
   "cell_type": "code",
   "execution_count": 104,
   "metadata": {},
   "outputs": [
    {
     "name": "stdout",
     "output_type": "stream",
     "text": [
      "sdnap\n",
      "s!!d!!n!!a!!p\n"
     ]
    }
   ],
   "source": [
    "s=\"pandas\"\n",
    "f=list(dict.fromkeys(s))\n",
    "f.reverse()\n",
    "print(''.join(f))\n",
    "print('!!'.join(f))"
   ]
  },
  {
   "cell_type": "code",
   "execution_count": 217,
   "metadata": {},
   "outputs": [
    {
     "name": "stdout",
     "output_type": "stream",
     "text": [
      "1372\n",
      "['1', '3', '7', '2'] ['2', '7', '3', '1']\n",
      "4\n",
      "4103\n",
      "['4', '1', '0', '3'] ['3', '0', '1', '4']\n",
      "4\n",
      "7117\n",
      "['7', '1', '1', '7'] ['7', '1', '1', '7']\n",
      "4\n",
      "7117\n"
     ]
    }
   ],
   "source": [
    "m=0\n",
    "def pali(y):\n",
    "    flag=1\n",
    "    k=list(str(y))\n",
    "    jk=k\n",
    "    jk.reverse()\n",
    "    jk=int(''.join(jk))\n",
    "    m=y+jk\n",
    "    print(m)\n",
    "    k=list(str(m))\n",
    "    jk=list(str(m))\n",
    "    jk.reverse()\n",
    "    print(k,jk)\n",
    "    print(len(k))\n",
    "    for i in range(len(k)):\n",
    "        if k[i]==jk[i]:\n",
    "            #print(k[i],jk[i])\n",
    "            flag=0\n",
    "        else:\n",
    "            flag=1\n",
    "            return (pali(m))\n",
    "    if flag==0:\n",
    "        return m\n",
    "\n",
    "y=389\n",
    "print(pali(y))\n"
   ]
  },
  {
   "cell_type": "markdown",
   "metadata": {},
   "source": [
    "# Password generator"
   ]
  },
  {
   "cell_type": "code",
   "execution_count": 264,
   "metadata": {},
   "outputs": [
    {
     "name": "stdout",
     "output_type": "stream",
     "text": [
      "pandas ['7', '6', '4', '3', '2', '1']\n",
      "Onkar ['8', '7']\n",
      "Poki ['5', '4', '2']\n",
      "Mayur ['9', '7', '4', '3']\n",
      "Friends ['9', '9', '4', '2']\n",
      "Password = sXiue\n"
     ]
    }
   ],
   "source": [
    "s=\"pandas:123467,Onkar:87,Poki:254,Mayur:4739,Friends:2949\"\n",
    "j=s.split(\",\")\n",
    "passi=[]\n",
    "japan=\"\"\n",
    "for i in j:\n",
    "    jk=i.split(\":\")\n",
    "    name=jk[0]\n",
    "    pas=list(jk[1])\n",
    "    pas.sort(reverse=True)\n",
    "    for i in pas:\n",
    "        if int(i)==len(name) or int(i)<=len(name):\n",
    "            japan+=name[int(i)-1]\n",
    "            break\n",
    "    else:japan+=\"X\"\n",
    "    print(name,pas)\n",
    "print(\"Password =\",japan)"
   ]
  },
  {
   "cell_type": "markdown",
   "metadata": {},
   "source": [
    "# OTP generator"
   ]
  },
  {
   "cell_type": "code",
   "execution_count": 26,
   "metadata": {},
   "outputs": [
    {
     "name": "stdout",
     "output_type": "stream",
     "text": [
      "OTP 4254\n"
     ]
    }
   ],
   "source": [
    "import sympy \n",
    "\n",
    "def df(jk):\n",
    "    return [char for char in jk]\n",
    "\n",
    "def start(j):\n",
    "    jk=df(j)\n",
    "    kl=[]\n",
    "    d=''\n",
    "    for i in jk:\n",
    "        if sympy.isprime(int(i)):\n",
    "            kl.append(int(i)*int(i))\n",
    "    for i in kl:\n",
    "        d=d+str(i)\n",
    "        if len(d)>=4:\n",
    "            d=df(d)\n",
    "            if len(d)!=4:d.pop(-1)\n",
    "            d=''.join(d)\n",
    "            return d\n",
    "j=\"9298523\"\n",
    "print(\"OTP\",start(j))"
   ]
  },
  {
   "cell_type": "markdown",
   "metadata": {},
   "source": [
    "# Breacket validater"
   ]
  },
  {
   "cell_type": "code",
   "execution_count": null,
   "metadata": {},
   "outputs": [],
   "source": []
  },
  {
   "cell_type": "code",
   "execution_count": 48,
   "metadata": {},
   "outputs": [
    {
     "name": "stdout",
     "output_type": "stream",
     "text": [
      "String={{{[]}}}}\n",
      "[0, 3, 1] [0, 4, 1]\n",
      "Total brackets in string= 9\n"
     ]
    }
   ],
   "source": [
    "def sf(j):\n",
    "    return [char for char in j]\n",
    "j=\"String={{{[]}}}}\"\n",
    "print(j)\n",
    "d=sf(j)\n",
    "opp=['(','{','[']\n",
    "cll=[')','}',']']\n",
    "\n",
    "op={'(':0,'{':0,'[':0}\n",
    "cl={')':0,'}':0,']':0}\n",
    "\n",
    "for i in range(len(d)):\n",
    "    if d[i] in op:\n",
    "        op[d[i]]+=1 \n",
    "    if d[i] in cl:\n",
    "        cl[d[i]]+=1\n",
    "tl=[]\n",
    "mj=[]\n",
    "for i in opp:\n",
    "    tl.append(op[i])\n",
    "for i in cll:\n",
    "    mj.append(cl[i])\n",
    "count=[]\n",
    "print(tl,mj)\n",
    "for i in range (0,3):\n",
    "    #print(tl[i],mj[i])\n",
    "    if tl[i]==mj[i]:\n",
    "        count.append(tl[i]+tl[i])\n",
    "    elif tl[i]-mj[i]<0:\n",
    "        count.append(tl[i]+mj[i])\n",
    "    elif abs(tl[i]-mj[i])>0:\n",
    "        count.append(tl[i]+abs(tl[i]-mj[i])+mj[i])\n",
    "    else:\n",
    "        count.append(tl[i]+tl[i]+mj[i]+mj[i])\n",
    "#print(count)\n",
    "'''elif abs(tl[i]-mj[i])>0:\n",
    "        count.append(tl[i]+abs(tl[i]-mj[i])+mj[i])'''\n",
    "print(\"Total brackets in string=\",sum(count))"
   ]
  },
  {
   "cell_type": "markdown",
   "metadata": {},
   "source": [
    "# HARD OF MATRIX >> FINDING HORIZONTAL AND VERTICAL AND DIGONAL SAME NUMBER 4 times IN MATRIX\n",
    "INFYTQ 13 Q"
   ]
  },
  {
   "cell_type": "code",
   "execution_count": 65,
   "metadata": {},
   "outputs": [
    {
     "name": "stdout",
     "output_type": "stream",
     "text": [
      "5 5\n",
      "1 2 3 4 5\n",
      "2 3 4 5 6\n",
      "3 4 5 6 7\n",
      "6 5 4 3 2\n",
      "7 4 7 3 6\n",
      "[[1, 2, 3, 4, 5], [2, 3, 4, 5, 6], [3, 4, 5, 6, 7], [6, 5, 4, 3, 2], [7, 4, 7, 3, 6]]\n"
     ]
    }
   ],
   "source": [
    "row,column=map(int,input().split(\" \"))\n",
    "list_digit=[]\n",
    "matrix=[]\n",
    "\n",
    "for r in range(row):\n",
    "    row_c=list(map(int,input().split(\" \")))\n",
    "    matrix.append(row_c)\n",
    "print(matrix)"
   ]
  },
  {
   "cell_type": "code",
   "execution_count": 58,
   "metadata": {},
   "outputs": [],
   "source": [
    "#matrix=[[2, 4, 1, 6, 4], [3, 3, 3, 3, 5], [4, 4, 4, 4, 6], [7, 7, 7, 8, 8], [2, 2, 2, 2, 6]]"
   ]
  },
  {
   "cell_type": "code",
   "execution_count": 66,
   "metadata": {},
   "outputs": [
    {
     "name": "stdout",
     "output_type": "stream",
     "text": [
      "[1, 2, 3, 4, 5]\n",
      "[2, 3, 4, 5, 6]\n",
      "[3, 4, 5, 6, 7]\n",
      "[6, 5, 4, 3, 2]\n",
      "[7, 4, 7, 3, 6]\n"
     ]
    }
   ],
   "source": [
    "for i in matrix:\n",
    "    print(i)"
   ]
  },
  {
   "cell_type": "code",
   "execution_count": 67,
   "metadata": {},
   "outputs": [
    {
     "name": "stdout",
     "output_type": "stream",
     "text": [
      "[5]\n",
      "5\n",
      "[1, 2, 3, 4, 5]\n",
      "[2, 3, 4, 5, 6]\n",
      "[3, 4, 5, 6, 7]\n",
      "[6, 5, 4, 3, 2]\n",
      "[7, 4, 7, 3, 6]\n"
     ]
    }
   ],
   "source": [
    "for r in range(0,row):\n",
    "    for c in range(0,column):\n",
    "        if (c<column-3):\n",
    "            if matrix[r][c]==matrix[r][c+1]==matrix[r][c+2]==matrix[r][c+3]:\n",
    "                list_digit.append(matrix[r][c])\n",
    "        if r<row-3:\n",
    "            if matrix[r][c]==matrix[r+1][c]==matrix[r+2][c]==matrix[r+3][c]:\n",
    "                list_digit.append(matrix[r][c])\n",
    "        if (c<column-3 ) and (r>=3):\n",
    "            if matrix[r][c]==matrix[r-1][c+1]==matrix[r-2][c+2]==matrix[r-3][c+3]:\n",
    "                list_digit.append(matrix[r][c])\n",
    "        if (c>=3) and (r>=3):\n",
    "            if matrix[r][c]==matrix[r-1][c-1]==matrix[r-2][c-2]==matrix[r-3][c-3]:\n",
    "                list_digit.append(matrix[r][c])\n",
    "        \n",
    "if len(list_digit)==0:print(\"-1\")\n",
    "else:\n",
    "    print(list_digit)\n",
    "    print(min(list_digit))\n",
    "for i in matrix:\n",
    "    print(i)"
   ]
  }
 ],
 "metadata": {
  "kernelspec": {
   "display_name": "Python 3",
   "language": "python",
   "name": "python3"
  },
  "language_info": {
   "codemirror_mode": {
    "name": "ipython",
    "version": 3
   },
   "file_extension": ".py",
   "mimetype": "text/x-python",
   "name": "python",
   "nbconvert_exporter": "python",
   "pygments_lexer": "ipython3",
   "version": "3.7.3"
  }
 },
 "nbformat": 4,
 "nbformat_minor": 2
}
