{
 "cells": [
  {
   "cell_type": "markdown",
   "metadata": {},
   "source": [
    "# ANALYSIS 4 : 'BUNDLE' OR 'BOUGHT-TOGETHER' BASED ANALYSIS.\n",
    "- Check for the popular bundle (quantity in a bundle).\n",
    "- Top 10 Popular brands which sells Pack of 2 and 5, as they are the popular bundles.\n",
    "- Top 10 Popular Sub-Category with Pack of 2 and 5.\n",
    "- Checking for number of products the brand 'Rubie's Costume Co' has listed on Amazon since it has highest number of bundle in pack 2 and 5.\n",
    "- Minimum, Maximum and Average Selling Price of prodcts sold by the Brand 'Rubie's Costume Co'.\n",
    "- Top 10 Highest selling product in 'Clothing' Category for Brand 'Rubie's Costume Co'.\n",
    "- Top 10 most viewed product for brand 'Rubie's Costume Co'.\n",
    "-----------"
   ]
  },
  {
   "cell_type": "markdown",
   "metadata": {},
   "source": [
    "Importing all the required Libraries"
   ]
  },
  {
   "cell_type": "code",
   "execution_count": 5,
   "metadata": {
    "collapsed": true
   },
   "outputs": [],
   "source": [
    "# importing all the required Libraries\n",
    "import glob\n",
    "import json\n",
    "import csv\n",
    "import pandas as pd\n",
    "import numpy as np\n",
    "from vaderSentiment.vaderSentiment import SentimentIntensityAnalyzer\n",
    "from wordcloud import WordCloud\n",
    "import nltk\n",
    "from nltk.corpus import stopwords\n",
    "from nltk.tokenize import sent_tokenize, word_tokenize\n",
    "from textblob import TextBlob\n",
    "from textblob.sentiments import NaiveBayesAnalyzer\n",
    "import string\n",
    "import matplotlib.pyplot as plt\n",
    "from nltk.stem import PorterStemmer\n",
    "import calendar\n",
    "import collections\n",
    "import warnings\n",
    "warnings.filterwarnings(\"ignore\")"
   ]
  },
  {
   "cell_type": "markdown",
   "metadata": {},
   "source": [
    "Creating a path for product file 'ProductSample.json'."
   ]
  },
  {
   "cell_type": "code",
   "execution_count": 8,
   "metadata": {},
   "outputs": [],
   "source": [
    "# Creating a path for Review file i.e. input Data.\n",
    "file=glob.glob('../Data/Tested_Data/ProductSample.json')"
   ]
  },
  {
   "cell_type": "markdown",
   "metadata": {},
   "source": [
    "Cleaning of 'ProductSample.json' file and importing the data as pandas DataFrame."
   ]
  },
  {
   "cell_type": "code",
   "execution_count": 9,
   "metadata": {},
   "outputs": [],
   "source": [
    "# Reading a multiple json files from a single json file 'ProductSample.json'.\n",
    "product=[]\n",
    "with open(file[0]) as data_file:\n",
    "    data=data_file.read()\n",
    "    for i in data.split('\\n'):\n",
    "        product.append(i)        \n",
    "\n",
    "# Firstly cleaning the data by converting files into proper json format files by some replacements and \n",
    "# then Making a list of Tuples containg all the data of json files.         \n",
    "Combine=[]\n",
    "for x in product:\n",
    "    try:\n",
    "        y=x.replace(\"'\",'\"')\n",
    "        jdata=json.loads(y)\n",
    "        Combine.append((jdata['asin'],jdata['related']['bought_together'],jdata['price'],jdata['related']['also_bought'],jdata['related']['also_viewed']))   \n",
    "    except:\n",
    "        pass  \n",
    "    \n",
    "# getting numerical values for 'Number_Of_Pack' and etc.\n",
    "CombineValue=[]\n",
    "for i in Combine:\n",
    "        CombineValue.append((i[0],len(i[1])+1,i[2],len(i[3]),len(i[4])))\n",
    "        \n",
    "        \n",
    "# Creating a dataframe using the list of Tuples got in the previous step.     \n",
    "Pack_dataset=pd.DataFrame(CombineValue,columns=['Asin','Number_Of_Pack','Price','Also_Bought','Also_Viewed'])        "
   ]
  },
  {
   "cell_type": "markdown",
   "metadata": {},
   "source": [
    "Displaying few rows of DataFrame 'Pack_dataset'"
   ]
  },
  {
   "cell_type": "code",
   "execution_count": 12,
   "metadata": {
    "scrolled": false
   },
   "outputs": [
    {
     "data": {
      "text/html": [
       "<div>\n",
       "<table border=\"1\" class=\"dataframe\">\n",
       "  <thead>\n",
       "    <tr style=\"text-align: right;\">\n",
       "      <th></th>\n",
       "      <th>Asin</th>\n",
       "      <th>Number_Of_Pack</th>\n",
       "      <th>Price</th>\n",
       "      <th>Also_Bought</th>\n",
       "      <th>Also_Viewed</th>\n",
       "    </tr>\n",
       "  </thead>\n",
       "  <tbody>\n",
       "    <tr>\n",
       "      <th>0</th>\n",
       "      <td>0000031887</td>\n",
       "      <td>2</td>\n",
       "      <td>6.79</td>\n",
       "      <td>95</td>\n",
       "      <td>59</td>\n",
       "    </tr>\n",
       "    <tr>\n",
       "      <th>1</th>\n",
       "      <td>0123456479</td>\n",
       "      <td>3</td>\n",
       "      <td>64.98</td>\n",
       "      <td>9</td>\n",
       "      <td>59</td>\n",
       "    </tr>\n",
       "    <tr>\n",
       "      <th>2</th>\n",
       "      <td>5555015097</td>\n",
       "      <td>5</td>\n",
       "      <td>22.95</td>\n",
       "      <td>8</td>\n",
       "      <td>20</td>\n",
       "    </tr>\n",
       "    <tr>\n",
       "      <th>3</th>\n",
       "      <td>5555014368</td>\n",
       "      <td>5</td>\n",
       "      <td>22.95</td>\n",
       "      <td>14</td>\n",
       "      <td>42</td>\n",
       "    </tr>\n",
       "    <tr>\n",
       "      <th>4</th>\n",
       "      <td>5555012322</td>\n",
       "      <td>3</td>\n",
       "      <td>22.95</td>\n",
       "      <td>71</td>\n",
       "      <td>59</td>\n",
       "    </tr>\n",
       "  </tbody>\n",
       "</table>\n",
       "</div>"
      ],
      "text/plain": [
       "         Asin  Number_Of_Pack  Price  Also_Bought  Also_Viewed\n",
       "0  0000031887               2   6.79           95           59\n",
       "1  0123456479               3  64.98            9           59\n",
       "2  5555015097               5  22.95            8           20\n",
       "3  5555014368               5  22.95           14           42\n",
       "4  5555012322               3  22.95           71           59"
      ]
     },
     "execution_count": 12,
     "metadata": {},
     "output_type": "execute_result"
    }
   ],
   "source": [
    "Pack_dataset.head()"
   ]
  },
  {
   "cell_type": "markdown",
   "metadata": {},
   "source": [
    "# CHECK FOR THE POPULAR BUNDLE (i.e. QUANTITY IN A BUNDLE)."
   ]
  },
  {
   "cell_type": "markdown",
   "metadata": {},
   "source": [
    "Grouping by Number of Pack and getting their respective count."
   ]
  },
  {
   "cell_type": "code",
   "execution_count": 13,
   "metadata": {
    "scrolled": true
   },
   "outputs": [],
   "source": [
    "Pack_result=Pack_dataset.groupby('Number_Of_Pack')['Asin'].count().reset_index()"
   ]
  },
  {
   "cell_type": "code",
   "execution_count": 15,
   "metadata": {
    "scrolled": true
   },
   "outputs": [
    {
     "data": {
      "text/html": [
       "<div>\n",
       "<table border=\"1\" class=\"dataframe\">\n",
       "  <thead>\n",
       "    <tr style=\"text-align: right;\">\n",
       "      <th></th>\n",
       "      <th>Number_Of_Pack</th>\n",
       "      <th>Count</th>\n",
       "    </tr>\n",
       "  </thead>\n",
       "  <tbody>\n",
       "    <tr>\n",
       "      <th>0</th>\n",
       "      <td>2</td>\n",
       "      <td>14281</td>\n",
       "    </tr>\n",
       "    <tr>\n",
       "      <th>1</th>\n",
       "      <td>3</td>\n",
       "      <td>9571</td>\n",
       "    </tr>\n",
       "    <tr>\n",
       "      <th>2</th>\n",
       "      <td>4</td>\n",
       "      <td>5541</td>\n",
       "    </tr>\n",
       "    <tr>\n",
       "      <th>3</th>\n",
       "      <td>5</td>\n",
       "      <td>23153</td>\n",
       "    </tr>\n",
       "  </tbody>\n",
       "</table>\n",
       "</div>"
      ],
      "text/plain": [
       "   Number_Of_Pack  Count\n",
       "0               2  14281\n",
       "1               3   9571\n",
       "2               4   5541\n",
       "3               5  23153"
      ]
     },
     "execution_count": 15,
     "metadata": {},
     "output_type": "execute_result"
    }
   ],
   "source": [
    "Pack_result=Pack_result.rename(columns={'Asin': 'Count'})\n",
    "Pack_result"
   ]
  },
  {
   "cell_type": "markdown",
   "metadata": {},
   "source": [
    "Bar plot for Number of Packs"
   ]
  },
  {
   "cell_type": "code",
   "execution_count": 17,
   "metadata": {},
   "outputs": [
    {
     "data": {
      "image/png": "[encoded data removed]",
      "text/plain": [
       "<matplotlib.figure.Figure at 0x22a67862e8>"
      ]
     },
     "metadata": {},
     "output_type": "display_data"
    }
   ],
   "source": [
    "Pack_result.plot(x=\"Number_Of_Pack\",y=\"Count\",kind=\"bar\",title=\"POPULAR BUNDLE\")\n",
    "plt.show()"
   ]
  },
  {
   "cell_type": "markdown",
   "metadata": {},
   "source": [
    "Taking all the data to .csv file"
   ]
  },
  {
   "cell_type": "code",
   "execution_count": 18,
   "metadata": {
    "collapsed": true
   },
   "outputs": [],
   "source": [
    "Pack_result.to_csv('../Analysis/Analysis_4/Popular_Bundle.csv')"
   ]
  },
  {
   "cell_type": "markdown",
   "metadata": {},
   "source": [
    "# TOP 10 POPULAR BRANDS WHICH SELLS PACK OF 2 AND PACK OF 5, AS THEY ARE THE POPULAR BUNDLES"
   ]
  },
  {
   "cell_type": "markdown",
   "metadata": {},
   "source": [
    "Get all the asin for Pack 2 and 5 since they have the highest number of counts."
   ]
  },
  {
   "cell_type": "code",
   "execution_count": 19,
   "metadata": {},
   "outputs": [],
   "source": [
    "Pack2_5=Pack_dataset[(Pack_dataset.Number_Of_Pack == 2) | (Pack_dataset.Number_Of_Pack == 5)]\n",
    "list_Pack2_5=Pack2_5.Asin.tolist()"
   ]
  },
  {
   "cell_type": "markdown",
   "metadata": {
    "collapsed": true
   },
   "source": [
    "Getting the brand name of those asin which is present in the list 'list_Pack2_5'."
   ]
  },
  {
   "cell_type": "code",
   "execution_count": 20,
   "metadata": {
    "collapsed": true
   },
   "outputs": [],
   "source": [
    "pop_Brand=[]\n",
    "for x in product:\n",
    "    try:\n",
    "        y=x.replace(\"'\",'\"')\n",
    "        jdata=json.loads(y)\n",
    "        if jdata['asin'] in list_Pack2_5:\n",
    "            pop_Brand.append(jdata['brand'])  \n",
    "    except:\n",
    "        pass"
   ]
  },
  {
   "cell_type": "markdown",
   "metadata": {},
   "source": [
    "Removing the rows which does not have brand name."
   ]
  },
  {
   "cell_type": "code",
   "execution_count": 22,
   "metadata": {
    "collapsed": true
   },
   "outputs": [],
   "source": [
    "pop_Brand=list(filter(None, pop_Brand))"
   ]
  },
  {
   "cell_type": "markdown",
   "metadata": {},
   "source": [
    "Counting the occurence of brand name and giving the top 10 brands."
   ]
  },
  {
   "cell_type": "code",
   "execution_count": 23,
   "metadata": {},
   "outputs": [],
   "source": [
    "Top10=collections.Counter(pop_Brand).most_common(10)\n",
    "\n",
    "# creating a DataFrame\n",
    "Top10_data=pd.DataFrame(Top10,columns=['Brand','No_Of_Pack_2_&_5'])"
   ]
  },
  {
   "cell_type": "code",
   "execution_count": 24,
   "metadata": {
    "scrolled": false
   },
   "outputs": [
    {
     "data": {
      "text/html": [
       "<div>\n",
       "<table border=\"1\" class=\"dataframe\">\n",
       "  <thead>\n",
       "    <tr style=\"text-align: right;\">\n",
       "      <th></th>\n",
       "      <th>Brand</th>\n",
       "      <th>No_Of_Pack_2_&amp;_5</th>\n",
       "    </tr>\n",
       "  </thead>\n",
       "  <tbody>\n",
       "    <tr>\n",
       "      <th>0</th>\n",
       "      <td>Rubie&amp;#39;s Costume Co</td>\n",
       "      <td>804</td>\n",
       "    </tr>\n",
       "    <tr>\n",
       "      <th>1</th>\n",
       "      <td>Forum Novelties</td>\n",
       "      <td>505</td>\n",
       "    </tr>\n",
       "    <tr>\n",
       "      <th>2</th>\n",
       "      <td>Rothco</td>\n",
       "      <td>236</td>\n",
       "    </tr>\n",
       "    <tr>\n",
       "      <th>3</th>\n",
       "      <td>Disguise Costumes</td>\n",
       "      <td>219</td>\n",
       "    </tr>\n",
       "    <tr>\n",
       "      <th>4</th>\n",
       "      <td>Unknown</td>\n",
       "      <td>198</td>\n",
       "    </tr>\n",
       "  </tbody>\n",
       "</table>\n",
       "</div>"
      ],
      "text/plain": [
       "                    Brand  No_Of_Pack_2_&_5\n",
       "0  Rubie&#39;s Costume Co               804\n",
       "1         Forum Novelties               505\n",
       "2                  Rothco               236\n",
       "3       Disguise Costumes               219\n",
       "4                 Unknown               198"
      ]
     },
     "execution_count": 24,
     "metadata": {},
     "output_type": "execute_result"
    }
   ],
   "source": [
    "Top10_data.head()"
   ]
  },
  {
   "cell_type": "markdown",
   "metadata": {},
   "source": [
    "Bar plot for Popular Brand based on Pack of 2 and 5"
   ]
  },
  {
   "cell_type": "code",
   "execution_count": 25,
   "metadata": {},
   "outputs": [
    {
     "data": {
      "image/png": "[encoded data removed]",
      "text/plain": [
       "<matplotlib.figure.Figure at 0x22a7246240>"
      ]
     },
     "metadata": {},
     "output_type": "display_data"
    }
   ],
   "source": [
    "Top10_data.plot(x=\"Brand\",y=\"No_Of_Pack_2_&_5\",kind=\"bar\",title=\"POPULAR BRAND\")\n",
    "plt.show()"
   ]
  },
  {
   "cell_type": "markdown",
   "metadata": {},
   "source": [
    "Taking the data into .csv"
   ]
  },
  {
   "cell_type": "code",
   "execution_count": 26,
   "metadata": {
    "collapsed": true
   },
   "outputs": [],
   "source": [
    "Top10_data.to_csv('../Analysis/Analysis_4/Popular_Brand.csv')"
   ]
  },
  {
   "cell_type": "markdown",
   "metadata": {},
   "source": [
    "# TOP 10 POPULAR SUB-CATEGORY WITH PACK OF 2 AND 5"
   ]
  },
  {
   "cell_type": "markdown",
   "metadata": {},
   "source": [
    "Function to make multilevel list values flat."
   ]
  },
  {
   "cell_type": "code",
   "execution_count": 27,
   "metadata": {
    "collapsed": true
   },
   "outputs": [],
   "source": [
    "# to make a multilevel list values flat\n",
    "def make_flat(arr):\n",
    "    res = []\n",
    "    for l in arr:\n",
    "        if isinstance(l, list):# or isinstance(l, collections.Iterable)\n",
    "            res.extend(make_flat(l)) \n",
    "        else:\n",
    "            res.append(l)\n",
    "    return res"
   ]
  },
  {
   "cell_type": "markdown",
   "metadata": {},
   "source": [
    "Getting the category of those asin which is present in the list 'list_Pack2_5'."
   ]
  },
  {
   "cell_type": "code",
   "execution_count": 28,
   "metadata": {
    "collapsed": true
   },
   "outputs": [],
   "source": [
    "pop_Catg=[]\n",
    "for x in product:\n",
    "    try:\n",
    "        y=x.replace(\"'\",'\"')\n",
    "        jdata=json.loads(y)\n",
    "        if jdata['asin'] in list_Pack2_5:\n",
    "            pop_Catg.append(make_flat(jdata['categories']))  \n",
    "    except:\n",
    "        pass"
   ]
  },
  {
   "cell_type": "markdown",
   "metadata": {},
   "source": [
    "Making the 'pop_Catg' multilevel list flat."
   ]
  },
  {
   "cell_type": "code",
   "execution_count": 30,
   "metadata": {},
   "outputs": [],
   "source": [
    "pop_Catg= make_flat(pop_Catg)"
   ]
  },
  {
   "cell_type": "markdown",
   "metadata": {},
   "source": [
    "Counting the occurence of Sub-Category and giving the top 10 Sub-Category."
   ]
  },
  {
   "cell_type": "code",
   "execution_count": 31,
   "metadata": {},
   "outputs": [],
   "source": [
    "Top10Catg=collections.Counter(pop_Catg).most_common(11)\n",
    "Top10Catg_data=pd.DataFrame(Top10Catg[1:],columns=['Sub-Category','No_Of_Pack_2_&_5'])"
   ]
  },
  {
   "cell_type": "code",
   "execution_count": 72,
   "metadata": {
    "scrolled": true
   },
   "outputs": [
    {
     "data": {
      "text/html": [
       "<div>\n",
       "<table border=\"1\" class=\"dataframe\">\n",
       "  <thead>\n",
       "    <tr style=\"text-align: right;\">\n",
       "      <th></th>\n",
       "      <th>Sub-Category</th>\n",
       "      <th>No_Of_Pack_2_&amp;_5</th>\n",
       "    </tr>\n",
       "  </thead>\n",
       "  <tbody>\n",
       "    <tr>\n",
       "      <th>0</th>\n",
       "      <td>Women</td>\n",
       "      <td>24574</td>\n",
       "    </tr>\n",
       "    <tr>\n",
       "      <th>1</th>\n",
       "      <td>Novelty, Costumes &amp; More</td>\n",
       "      <td>23947</td>\n",
       "    </tr>\n",
       "    <tr>\n",
       "      <th>2</th>\n",
       "      <td>Novelty</td>\n",
       "      <td>12656</td>\n",
       "    </tr>\n",
       "    <tr>\n",
       "      <th>3</th>\n",
       "      <td>Men</td>\n",
       "      <td>12252</td>\n",
       "    </tr>\n",
       "    <tr>\n",
       "      <th>4</th>\n",
       "      <td>Clothing</td>\n",
       "      <td>11938</td>\n",
       "    </tr>\n",
       "  </tbody>\n",
       "</table>\n",
       "</div>"
      ],
      "text/plain": [
       "               Sub-Category  No_Of_Pack_2_&_5\n",
       "0                     Women             24574\n",
       "1  Novelty, Costumes & More             23947\n",
       "2                   Novelty             12656\n",
       "3                       Men             12252\n",
       "4                  Clothing             11938"
      ]
     },
     "execution_count": 72,
     "metadata": {},
     "output_type": "execute_result"
    }
   ],
   "source": [
    "Top10Catg_data.head()"
   ]
  },
  {
   "cell_type": "markdown",
   "metadata": {},
   "source": [
    "# CHECKING FOR NUMBER OF PRODUCTS THE BRAND 'RUBIE'S COSTUME CO' HAS LISTED ON AMAZON SINCE IT HAS HIGHEST NUMBER OF BUNDLE IN PACK 2 AND 5"
   ]
  },
  {
   "cell_type": "code",
   "execution_count": 32,
   "metadata": {},
   "outputs": [],
   "source": [
    "No_prod_brand=[]\n",
    "brand_List=['Rubie&#39;s Costume Co']\n",
    "for x in product:\n",
    "    try:\n",
    "        y=x.replace(\"'\",'\"')\n",
    "        jdata=json.loads(y)\n",
    "        if jdata['brand'] in brand_List:\n",
    "            No_prod_brand.append((jdata['asin'],jdata['title'],jdata['price']))   \n",
    "    except:\n",
    "        pass "
   ]
  },
  {
   "cell_type": "code",
   "execution_count": 33,
   "metadata": {},
   "outputs": [],
   "source": [
    "brand_Prod=pd.DataFrame(No_prod_brand,columns=['Asin','Title','Price'])"
   ]
  },
  {
   "cell_type": "code",
   "execution_count": 34,
   "metadata": {},
   "outputs": [],
   "source": [
    "Number_of_Products=brand_Prod.shape[0]"
   ]
  },
  {
   "cell_type": "code",
   "execution_count": 35,
   "metadata": {
    "scrolled": true
   },
   "outputs": [
    {
     "data": {
      "text/plain": [
       "2175"
      ]
     },
     "execution_count": 35,
     "metadata": {},
     "output_type": "execute_result"
    }
   ],
   "source": [
    "Number_of_Products"
   ]
  },
  {
   "cell_type": "markdown",
   "metadata": {},
   "source": [
    "# MINIMUM, MAXIMUM AND AVERAGE SELLING PRICE OF PRODCTS SOLD BY THE BRAND 'RUBIE'S COSTUME CO'."
   ]
  },
  {
   "cell_type": "markdown",
   "metadata": {},
   "source": [
    "Average Selling Price of Product Sold by 'RUBIE'S COSTUME CO'"
   ]
  },
  {
   "cell_type": "code",
   "execution_count": 37,
   "metadata": {},
   "outputs": [],
   "source": [
    "Avg_SP=brand_Prod['Price'].mean()"
   ]
  },
  {
   "cell_type": "code",
   "execution_count": 38,
   "metadata": {
    "scrolled": true
   },
   "outputs": [
    {
     "data": {
      "text/plain": [
       "20.43500689655169"
      ]
     },
     "execution_count": 38,
     "metadata": {},
     "output_type": "execute_result"
    }
   ],
   "source": [
    "Avg_SP"
   ]
  },
  {
   "cell_type": "markdown",
   "metadata": {},
   "source": [
    "Minimum Selling Price of Product Sold by 'RUBIE'S COSTUME CO'"
   ]
  },
  {
   "cell_type": "code",
   "execution_count": 39,
   "metadata": {
    "collapsed": true
   },
   "outputs": [],
   "source": [
    "Min_SP=brand_Prod['Price'].min()"
   ]
  },
  {
   "cell_type": "code",
   "execution_count": 40,
   "metadata": {},
   "outputs": [
    {
     "data": {
      "text/plain": [
       "0.66000000000000003"
      ]
     },
     "execution_count": 40,
     "metadata": {},
     "output_type": "execute_result"
    }
   ],
   "source": [
    "Min_SP"
   ]
  },
  {
   "cell_type": "markdown",
   "metadata": {},
   "source": [
    "Maximum Selling Price of Product Sold by 'RUBIE'S COSTUME CO'"
   ]
  },
  {
   "cell_type": "code",
   "execution_count": 41,
   "metadata": {
    "collapsed": true
   },
   "outputs": [],
   "source": [
    "Max_SP=brand_Prod['Price'].max()"
   ]
  },
  {
   "cell_type": "code",
   "execution_count": 42,
   "metadata": {},
   "outputs": [
    {
     "data": {
      "text/plain": [
       "783.01999999999998"
      ]
     },
     "execution_count": 42,
     "metadata": {},
     "output_type": "execute_result"
    }
   ],
   "source": [
    "Max_SP"
   ]
  },
  {
   "cell_type": "markdown",
   "metadata": {},
   "source": [
    "# TOP 10 HIGHEST SELLING PRODUCT IN 'CLOTHING' CATEGORY FOR BRAND 'RUBIE'S COSTUME CO'"
   ]
  },
  {
   "cell_type": "markdown",
   "metadata": {},
   "source": [
    "Taking all the Asin, SalesRank and etc. whose brand is 'RUBIE'S COSTUME CO'"
   ]
  },
  {
   "cell_type": "code",
   "execution_count": 43,
   "metadata": {
    "collapsed": true
   },
   "outputs": [],
   "source": [
    "rank_brand=[]\n",
    "brand_List=['Rubie&#39;s Costume Co']\n",
    "for x in product:\n",
    "    try:\n",
    "        y=x.replace(\"'\",'\"')\n",
    "        jdata=json.loads(y)\n",
    "        if jdata['brand'] in brand_List:\n",
    "            rank_brand.append((jdata['asin'],jdata['title'],jdata['price'],jdata['salesRank']['Clothing']))   \n",
    "    except:\n",
    "        pass "
   ]
  },
  {
   "cell_type": "markdown",
   "metadata": {},
   "source": [
    "Creating a DataFrame"
   ]
  },
  {
   "cell_type": "code",
   "execution_count": 45,
   "metadata": {
    "collapsed": true
   },
   "outputs": [],
   "source": [
    "Rank_Gross=pd.DataFrame(rank_brand,columns=['Asin','Title','Price','SalesRank'])"
   ]
  },
  {
   "cell_type": "markdown",
   "metadata": {},
   "source": [
    "Sorting DataFrame based on sales Rank."
   ]
  },
  {
   "cell_type": "code",
   "execution_count": 46,
   "metadata": {
    "scrolled": true
   },
   "outputs": [],
   "source": [
    "TopGross=Rank_Gross.sort('SalesRank',ascending=True)"
   ]
  },
  {
   "cell_type": "markdown",
   "metadata": {},
   "source": [
    "Taking data into .csv"
   ]
  },
  {
   "cell_type": "code",
   "execution_count": 54,
   "metadata": {
    "collapsed": true
   },
   "outputs": [],
   "source": [
    "TopGross.to_csv('../Analysis/Analysis_4/Popular_Product.csv')"
   ]
  },
  {
   "cell_type": "code",
   "execution_count": 56,
   "metadata": {
    "scrolled": true
   },
   "outputs": [
    {
     "data": {
      "text/html": [
       "<div>\n",
       "<table border=\"1\" class=\"dataframe\">\n",
       "  <thead>\n",
       "    <tr style=\"text-align: right;\">\n",
       "      <th></th>\n",
       "      <th>Asin</th>\n",
       "      <th>Title</th>\n",
       "      <th>Price</th>\n",
       "      <th>SalesRank</th>\n",
       "    </tr>\n",
       "  </thead>\n",
       "  <tbody>\n",
       "    <tr>\n",
       "      <th>171</th>\n",
       "      <td>B000I1D0BC</td>\n",
       "      <td>DC Comics Boys Action Trio Superhero Costume Set</td>\n",
       "      <td>26.89</td>\n",
       "      <td>1532</td>\n",
       "    </tr>\n",
       "    <tr>\n",
       "      <th>1312</th>\n",
       "      <td>B0077GSZLG</td>\n",
       "      <td>The Dark Knight Rises Batman Child Costume Kit</td>\n",
       "      <td>9.20</td>\n",
       "      <td>3718</td>\n",
       "    </tr>\n",
       "    <tr>\n",
       "      <th>478</th>\n",
       "      <td>B001DNK0HQ</td>\n",
       "      <td>Star Wars Clone Wars Ahsoka Lightsaber</td>\n",
       "      <td>11.99</td>\n",
       "      <td>4226</td>\n",
       "    </tr>\n",
       "    <tr>\n",
       "      <th>649</th>\n",
       "      <td>B0029F1X0A</td>\n",
       "      <td>Star Trek The Next Generation Deluxe Shirt Cos...</td>\n",
       "      <td>21.66</td>\n",
       "      <td>4234</td>\n",
       "    </tr>\n",
       "    <tr>\n",
       "      <th>59</th>\n",
       "      <td>B000H1Y0V2</td>\n",
       "      <td>Kids Cop Belt</td>\n",
       "      <td>13.16</td>\n",
       "      <td>4965</td>\n",
       "    </tr>\n",
       "  </tbody>\n",
       "</table>\n",
       "</div>"
      ],
      "text/plain": [
       "            Asin                                              Title  Price  \\\n",
       "171   B000I1D0BC   DC Comics Boys Action Trio Superhero Costume Set  26.89   \n",
       "1312  B0077GSZLG     The Dark Knight Rises Batman Child Costume Kit   9.20   \n",
       "478   B001DNK0HQ             Star Wars Clone Wars Ahsoka Lightsaber  11.99   \n",
       "649   B0029F1X0A  Star Trek The Next Generation Deluxe Shirt Cos...  21.66   \n",
       "59    B000H1Y0V2                                      Kids Cop Belt  13.16   \n",
       "\n",
       "      SalesRank  \n",
       "171        1532  \n",
       "1312       3718  \n",
       "478        4226  \n",
       "649        4234  \n",
       "59         4965  "
      ]
     },
     "execution_count": 56,
     "metadata": {},
     "output_type": "execute_result"
    }
   ],
   "source": [
    "TopGross.head()"
   ]
  },
  {
   "cell_type": "markdown",
   "metadata": {},
   "source": [
    "#### Average Selling Price for top 10 products"
   ]
  },
  {
   "cell_type": "code",
   "execution_count": 58,
   "metadata": {},
   "outputs": [
    {
     "data": {
      "text/plain": [
       "12.267999999999999"
      ]
     },
     "execution_count": 58,
     "metadata": {},
     "output_type": "execute_result"
    }
   ],
   "source": [
    "TopGross.head(10)['Price'].mean()"
   ]
  },
  {
   "cell_type": "markdown",
   "metadata": {},
   "source": [
    "Bar Plot for top 10 products based on SalesRank with its Price.  "
   ]
  },
  {
   "cell_type": "code",
   "execution_count": 72,
   "metadata": {},
   "outputs": [
    {
     "data": {
      "image/png": "[encoded data removed]",
      "text/plain": [
       "<matplotlib.figure.Figure at 0x22a68b23c8>"
      ]
     },
     "metadata": {},
     "output_type": "display_data"
    }
   ],
   "source": [
    "TopGross.head(10).plot(x=\"Asin\",y=\"Price\",kind=\"bar\",title=\"Top 10 Product based on Sales Rank with Prices \")\n",
    "plt.show()"
   ]
  },
  {
   "cell_type": "markdown",
   "metadata": {},
   "source": [
    "# TOP 10 MOST VIEWED PRODUCT FOR BRAND 'RUBIE'S COSTUME CO'"
   ]
  },
  {
   "cell_type": "markdown",
   "metadata": {},
   "source": [
    "From all the Asin getting all the Asin present in 'also_viewed' section of json file."
   ]
  },
  {
   "cell_type": "code",
   "execution_count": 60,
   "metadata": {
    "collapsed": true
   },
   "outputs": [],
   "source": [
    "Viewed_prod_brand=[]\n",
    "for x in product:\n",
    "    try:\n",
    "        y=x.replace(\"'\",'\"')\n",
    "        jdata=json.loads(y)\n",
    "        Viewed_prod_brand.append(jdata['related']['also_viewed'])   \n",
    "    except:\n",
    "        pass \n",
    "Viewed_prod_brand=make_flat(Viewed_prod_brand)    "
   ]
  },
  {
   "cell_type": "markdown",
   "metadata": {},
   "source": [
    "Counting the Occurence of Asin for brand Rubie's Costume Co."
   ]
  },
  {
   "cell_type": "code",
   "execution_count": 61,
   "metadata": {
    "collapsed": true
   },
   "outputs": [],
   "source": [
    "view_prod=collections.Counter(Viewed_prod_brand).most_common(len(set(Viewed_prod_brand)))"
   ]
  },
  {
   "cell_type": "markdown",
   "metadata": {},
   "source": [
    "Creating a DataFrame with Asin and its Views."
   ]
  },
  {
   "cell_type": "code",
   "execution_count": 62,
   "metadata": {
    "collapsed": true
   },
   "outputs": [],
   "source": [
    "view_prod_dataset=pd.DataFrame(view_prod,columns=['Asin','Views'])"
   ]
  },
  {
   "cell_type": "markdown",
   "metadata": {},
   "source": [
    "Getting products of brand Rubie's Costume Co."
   ]
  },
  {
   "cell_type": "code",
   "execution_count": 63,
   "metadata": {
    "collapsed": true
   },
   "outputs": [],
   "source": [
    "views=[]\n",
    "x_ls=['Rubie&#39;s Costume Co']\n",
    "for x in product:\n",
    "    try:\n",
    "        y=x.replace(\"'\",'\"')\n",
    "        jdata=json.loads(y)\n",
    "        if jdata['brand'] in x_ls:\n",
    "            views.append((jdata['asin'],jdata['title'],jdata['price']))   \n",
    "    except:\n",
    "        pass "
   ]
  },
  {
   "cell_type": "code",
   "execution_count": 64,
   "metadata": {
    "collapsed": true
   },
   "outputs": [],
   "source": [
    "views_dataset=pd.DataFrame(views,columns=['Asin','Title','Price'])"
   ]
  },
  {
   "cell_type": "markdown",
   "metadata": {},
   "source": [
    "- Merging the 2 DataFrames 'views_dataset' and 'view_prod_dataset' such that only the Rubie's Costume Co. products from 'view_prod_dataset' gets mapped.\n",
    "- Inner type merge was performed to get only mapped product with Rubie's Costume Co."
   ]
  },
  {
   "cell_type": "code",
   "execution_count": 65,
   "metadata": {},
   "outputs": [],
   "source": [
    "Most_Viewed=pd.merge(views_dataset,view_prod_dataset,on='Asin',how='inner')"
   ]
  },
  {
   "cell_type": "markdown",
   "metadata": {},
   "source": [
    "Sorting the DataFrame"
   ]
  },
  {
   "cell_type": "code",
   "execution_count": 66,
   "metadata": {},
   "outputs": [],
   "source": [
    "Most_Viewed=Most_Viewed.sort('Views',ascending=False)"
   ]
  },
  {
   "cell_type": "code",
   "execution_count": 67,
   "metadata": {
    "collapsed": true
   },
   "outputs": [],
   "source": [
    "Most_Viewed=Most_Viewed[['Asin','Title','Price']]"
   ]
  },
  {
   "cell_type": "code",
   "execution_count": 69,
   "metadata": {
    "collapsed": true
   },
   "outputs": [],
   "source": [
    "Most_Viewed.to_csv('../Analysis/Analysis_4/Most_Viewed_Product.csv')"
   ]
  },
  {
   "cell_type": "code",
   "execution_count": 70,
   "metadata": {
    "scrolled": true
   },
   "outputs": [
    {
     "data": {
      "text/html": [
       "<div>\n",
       "<table border=\"1\" class=\"dataframe\">\n",
       "  <thead>\n",
       "    <tr style=\"text-align: right;\">\n",
       "      <th></th>\n",
       "      <th>Asin</th>\n",
       "      <th>Title</th>\n",
       "      <th>Price</th>\n",
       "    </tr>\n",
       "  </thead>\n",
       "  <tbody>\n",
       "    <tr>\n",
       "      <th>65</th>\n",
       "      <td>B000H8GW2A</td>\n",
       "      <td>White Flapper Beads 60&amp;quot; - Pearl Necklace</td>\n",
       "      <td>8.39</td>\n",
       "    </tr>\n",
       "    <tr>\n",
       "      <th>578</th>\n",
       "      <td>B004YARDMA</td>\n",
       "      <td>The Walking Dead Split Jaw Latex Mask</td>\n",
       "      <td>12.99</td>\n",
       "    </tr>\n",
       "    <tr>\n",
       "      <th>446</th>\n",
       "      <td>B003BW790I</td>\n",
       "      <td>Harry Potter Deluxe Glasses</td>\n",
       "      <td>5.03</td>\n",
       "    </tr>\n",
       "    <tr>\n",
       "      <th>153</th>\n",
       "      <td>B000ROE4JC</td>\n",
       "      <td>Plastic Roman Costume Sword (toy)</td>\n",
       "      <td>7.99</td>\n",
       "    </tr>\n",
       "    <tr>\n",
       "      <th>364</th>\n",
       "      <td>B0029F1WOC</td>\n",
       "      <td>Star Trek Classic Spock Ears</td>\n",
       "      <td>6.10</td>\n",
       "    </tr>\n",
       "  </tbody>\n",
       "</table>\n",
       "</div>"
      ],
      "text/plain": [
       "           Asin                                          Title  Price\n",
       "65   B000H8GW2A  White Flapper Beads 60&quot; - Pearl Necklace   8.39\n",
       "578  B004YARDMA          The Walking Dead Split Jaw Latex Mask  12.99\n",
       "446  B003BW790I                    Harry Potter Deluxe Glasses   5.03\n",
       "153  B000ROE4JC              Plastic Roman Costume Sword (toy)   7.99\n",
       "364  B0029F1WOC                   Star Trek Classic Spock Ears   6.10"
      ]
     },
     "execution_count": 70,
     "metadata": {},
     "output_type": "execute_result"
    }
   ],
   "source": [
    "Most_Viewed.head()"
   ]
  },
  {
   "cell_type": "markdown",
   "metadata": {},
   "source": [
    "#### Minimum Selling Price for top 10 Viewed products"
   ]
  },
  {
   "cell_type": "code",
   "execution_count": 71,
   "metadata": {},
   "outputs": [
    {
     "data": {
      "text/plain": [
       "4.9500000000000002"
      ]
     },
     "execution_count": 71,
     "metadata": {},
     "output_type": "execute_result"
    }
   ],
   "source": [
    "Most_Viewed.head(10)['Price'].min()"
   ]
  },
  {
   "cell_type": "markdown",
   "metadata": {},
   "source": [
    "#### Maximum Selling Price for top 10 Viewed products"
   ]
  },
  {
   "cell_type": "code",
   "execution_count": 73,
   "metadata": {},
   "outputs": [
    {
     "data": {
      "text/plain": [
       "12.99"
      ]
     },
     "execution_count": 73,
     "metadata": {},
     "output_type": "execute_result"
    }
   ],
   "source": [
    "Most_Viewed.head(10)['Price'].max()"
   ]
  },
  {
   "cell_type": "markdown",
   "metadata": {},
   "source": [
    "#### Average Selling Price for top 10 Viewed products"
   ]
  },
  {
   "cell_type": "code",
   "execution_count": 74,
   "metadata": {},
   "outputs": [
    {
     "data": {
      "text/plain": [
       "7.241000000000001"
      ]
     },
     "execution_count": 74,
     "metadata": {},
     "output_type": "execute_result"
    }
   ],
   "source": [
    "Most_Viewed.head(10)['Price'].mean()"
   ]
  },
  {
   "cell_type": "markdown",
   "metadata": {},
   "source": [
    "Bar Plot for top 10 Viewed products with its Price.  "
   ]
  },
  {
   "cell_type": "code",
   "execution_count": 75,
   "metadata": {},
   "outputs": [
    {
     "data": {
      "image/png": "[encoded data removed]",
      "text/plain": [
       "<matplotlib.figure.Figure at 0x22acba3eb8>"
      ]
     },
     "metadata": {},
     "output_type": "display_data"
    }
   ],
   "source": [
    "TopGross.head(10).plot(x=\"Asin\",y=\"Price\",kind=\"bar\",title=\"Top 10 Viewed Product with Prices \")\n",
    "plt.show()"
   ]
  }
 ],
 "metadata": {
  "anaconda-cloud": {},
  "kernelspec": {
   "display_name": "Python 3",
   "language": "python",
   "name": "python3"
  },
  "language_info": {
   "codemirror_mode": {
    "name": "ipython",
    "version": 3
   },
   "file_extension": ".py",
   "mimetype": "text/x-python",
   "name": "python",
   "nbconvert_exporter": "python",
   "pygments_lexer": "ipython3",
   "version": "3.7.3"
  }
 },
 "nbformat": 4,
 "nbformat_minor": 1
}
