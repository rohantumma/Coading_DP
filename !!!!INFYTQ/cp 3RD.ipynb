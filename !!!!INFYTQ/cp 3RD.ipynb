{
 "cells": [
  {
   "cell_type": "code",
   "execution_count": 3,
   "metadata": {},
   "outputs": [
    {
     "name": "stdout",
     "output_type": "stream",
     "text": [
      "ENTER the COUNT OF derivate : 4\n",
      "ENTER  1 st Number:\n",
      "1\n",
      "ENTER  2 nd Number:\n",
      "2\n",
      "ENTER  3 rd Number:\n",
      "5\n",
      "ENTER  4 th Number:\n",
      "10\n",
      "YOUR SERIES IS= [1, 2, 5, 10, 17]\n"
     ]
    }
   ],
   "source": [
    "import ipywidgets as widgets\n",
    "count=int(input(\"ENTER the COUNT OF derivate : \"))\n",
    "#count=widgets.FloatText()\n",
    "row=count\n",
    "\n",
    "mat=[]\n",
    "\n",
    "for i in range (0,row):\n",
    "    mat.append([])\n",
    "\n",
    "for i in range (0,row):\n",
    "    for j in range (0,count+1):\n",
    "        mat[i].append(j)\n",
    "        mat[i][j]=0;\n",
    "\n",
    "for i in range(0,count):\n",
    "        if(i+1==1):\n",
    "            print(\"ENTER \",i+1,\"st Number:\")\n",
    "        elif(i+1==2):\n",
    "            print(\"ENTER \",i+1,\"nd Number:\")\n",
    "        elif(i+1==3):\n",
    "            print(\"ENTER \",i+1,\"rd Number:\")\n",
    "        else:\n",
    "            print(\"ENTER \",i+1,\"th Number:\")\n",
    "        mat[0][i]=int(input())\n",
    "\n",
    "\n",
    "for i in range (0,row):\n",
    "    for j in range (0,count,1):\n",
    "            if(mat[i][j+1]!=0):\n",
    "               # print(mat[i][j+1]-mat[i][j])\n",
    "                if(i!=3):\n",
    "                    mat[i+1][j]=mat[i][j+1]-mat[i][j]\n",
    "                #if(mat[i][j+1]==mat[i][j+2]==mat[i][j+3]):\n",
    "                    #goto m\n",
    "\n",
    "for i in range(0,row):\n",
    "        mat[0][count]=mat[0][count]+mat[i][count-1-i]\n",
    "        #print(mat[0][count],\" \",mat[i][count-1-i])\n",
    "\n",
    "\n",
    "\n",
    "\n",
    "print('YOUR SERIES IS=',mat[0])\n"
   ]
  },
  {
   "cell_type": "code",
   "execution_count": 4,
   "metadata": {},
   "outputs": [
    {
     "name": "stdout",
     "output_type": "stream",
     "text": [
      "PHI: ϴ\n",
      "6\n",
      "11\n",
      "16\n",
      "21\n",
      "26\n",
      "31\n",
      "36\n",
      "41\n",
      "46\n"
     ]
    }
   ],
   "source": [
    "print('PHI:',\"\\u03F4\")\n",
    "x=10\n",
    "for i in range(1,x):\n",
    "    print((i*5)+1)\n"
   ]
  },
  {
   "cell_type": "code",
   "execution_count": 2,
   "metadata": {},
   "outputs": [
    {
     "data": {
      "application/vnd.jupyter.widget-view+json": {
       "model_id": "eba60f8232a14902b0d7e06adac435ae",
       "version_major": 2,
       "version_minor": 0
      },
      "text/plain": [
       "Button(description='Next Number is', style=ButtonStyle())"
      ]
     },
     "metadata": {},
     "output_type": "display_data"
    },
    {
     "data": {
      "application/vnd.jupyter.widget-view+json": {
       "model_id": "94a06d3f93654237aafc604bd4088fb0",
       "version_major": 2,
       "version_minor": 0
      },
      "text/plain": [
       "Output()"
      ]
     },
     "metadata": {},
     "output_type": "display_data"
    }
   ],
   "source": [
    "from IPython.display import display\n",
    "button = widgets.Button(description=\"Next Number is\")\n",
    "output = widgets.Output()\n",
    "\n",
    "display(button, output)\n",
    "\n",
    "def on_button_clicked(b):\n",
    "    with output:\n",
    "        print('Next Number in Series :',mat[0][count])\n",
    "        print('YOUR SERIES IS :',mat[0])\n",
    "\n",
    "button.on_click(on_button_clicked)"
   ]
  },
  {
   "cell_type": "code",
   "execution_count": 1,
   "metadata": {},
   "outputs": [
    {
     "data": {
      "application/vnd.jupyter.widget-view+json": {
       "model_id": "bf883c91aea54138a32ee084be3deec3",
       "version_major": 2,
       "version_minor": 0
      },
      "text/plain": [
       "GridBox(children=(Button(layout=Layout(height='auto', width='auto'), style=ButtonStyle(button_color='darkseagr…"
      ]
     },
     "metadata": {},
     "output_type": "display_data"
    }
   ],
   "source": [
    "from ipywidgets import Button, GridBox, Layout, ButtonStyle\n",
    "GridBox(children=[Button(layout=Layout(width='auto', height='auto'),\n",
    "                         style=ButtonStyle(button_color='darkseagreen')) for i in range(9)\n",
    "                 ],\n",
    "        layout=Layout(\n",
    "            width='50%',\n",
    "            grid_template_columns='100px 50px 100px',\n",
    "            grid_template_rows='80px auto 80px',\n",
    "            grid_gap='5px 10px')\n",
    "       )\n",
    "\n"
   ]
  },
  {
   "cell_type": "code",
   "execution_count": 5,
   "metadata": {},
   "outputs": [
    {
     "data": {
      "application/vnd.jupyter.widget-view+json": {
       "model_id": "fd421e1b09644165a823622e2af00882",
       "version_major": 2,
       "version_minor": 0
      },
      "text/plain": [
       "Button(description='Next Number', style=ButtonStyle())"
      ]
     },
     "metadata": {},
     "output_type": "display_data"
    },
    {
     "data": {
      "application/vnd.jupyter.widget-view+json": {
       "model_id": "5e100f06443944c28c3a2855fb7eb687",
       "version_major": 2,
       "version_minor": 0
      },
      "text/plain": [
       "Output()"
      ]
     },
     "metadata": {},
     "output_type": "display_data"
    }
   ],
   "source": [
    "\n",
    "from IPython.display import display\n",
    "button = widgets.Button(description=\"Next Number\")\n",
    "output = widgets.Output()\n",
    "\n",
    "display(button, output)\n",
    "\n",
    "def on_button_clicked(b):\n",
    "    with output:\n",
    "        print('YOUR SERIES IS=',mat[0])\n",
    "\n",
    "button.on_click(on_button_clicked)\n",
    "\n"
   ]
  },
  {
   "cell_type": "code",
   "execution_count": 6,
   "metadata": {},
   "outputs": [
    {
     "name": "stdout",
     "output_type": "stream",
     "text": [
      "your series is\n"
     ]
    },
    {
     "data": {
      "application/vnd.jupyter.widget-view+json": {
       "model_id": "8f855c3908cc414498ee85f3cd9ea1c9",
       "version_major": 2,
       "version_minor": 0
      },
      "text/plain": [
       "Box(children=(Label(value='2'), Label(value='2'), Label(value='2')))"
      ]
     },
     "metadata": {},
     "output_type": "display_data"
    }
   ],
   "source": [
    "items = [widgets.Label(str(i)) for i in mat[0]]\n",
    "print(\"your series is\")\n",
    "widgets.Box(items)"
   ]
  },
  {
   "cell_type": "code",
   "execution_count": 7,
   "metadata": {},
   "outputs": [
    {
     "data": {
      "application/vnd.jupyter.widget-view+json": {
       "model_id": "001d8366e169437a91424752b5a1a463",
       "version_major": 2,
       "version_minor": 0
      },
      "text/plain": [
       "BoundedIntText(value=7, description='Text:', max=10)"
      ]
     },
     "metadata": {},
     "output_type": "display_data"
    },
    {
     "data": {
      "application/vnd.jupyter.widget-view+json": {
       "model_id": "f692bff0bfc24440ba9e9c78ca80e8a1",
       "version_major": 2,
       "version_minor": 0
      },
      "text/plain": [
       "FloatText(value=0.0)"
      ]
     },
     "metadata": {},
     "output_type": "display_data"
    },
    {
     "data": {
      "application/vnd.jupyter.widget-view+json": {
       "model_id": "fb657c33d5214b9e96ffbc953b873e43",
       "version_major": 2,
       "version_minor": 0
      },
      "text/plain": [
       "FloatSlider(value=0.0)"
      ]
     },
     "metadata": {},
     "output_type": "display_data"
    }
   ],
   "source": [
    "import ipywidgets as widgets\n",
    "a = widgets.BoundedIntText(\n",
    "                            value=7,\n",
    "                            min=0,\n",
    "                            max=10,\n",
    "                            step=1,\n",
    "                            description='Text:',\n",
    "                            disabled=False\n",
    "                          )\n",
    "r = widgets.FloatText()\n",
    "b = widgets.FloatSlider()\n",
    "display(a,r,b)\n",
    "\n",
    "mylink = widgets.jslink((r, 'value'), (b, 'value'))"
   ]
  },
  {
   "cell_type": "code",
   "execution_count": 8,
   "metadata": {},
   "outputs": [
    {
     "data": {
      "application/vnd.jupyter.widget-view+json": {
       "model_id": "148970a0f4904ed4ace2e59641fc606c",
       "version_major": 2,
       "version_minor": 0
      },
      "text/plain": [
       "HBox(children=(VBox(children=(IntSlider(value=0, description='a'), IntSlider(value=0, description='b'), IntSli…"
      ]
     },
     "metadata": {},
     "output_type": "display_data"
    }
   ],
   "source": [
    "a = widgets.IntSlider(description='a')\n",
    "b = widgets.IntSlider(description='b')\n",
    "c = widgets.IntSlider(description='c')\n",
    "def f(a, b, c):\n",
    "    print('{}*{}*{}={}'.format(a, b, c, a*b*c))\n",
    "\n",
    "out = widgets.interactive_output(f, {'a': a, 'b': b, 'c': c})\n",
    "widgets.HBox([widgets.VBox([a, b, c]), out])\n"
   ]
  },
  {
   "cell_type": "code",
   "execution_count": 48,
   "metadata": {},
   "outputs": [
    {
     "name": "stdout",
     "output_type": "stream",
     "text": [
      "dsf\n"
     ]
    }
   ],
   "source": [
    "print('dsf')"
   ]
  }
 ],
 "metadata": {
  "kernelspec": {
   "display_name": "Python 3",
   "language": "python",
   "name": "python3"
  },
  "language_info": {
   "codemirror_mode": {
    "name": "ipython",
    "version": 3
   },
   "file_extension": ".py",
   "mimetype": "text/x-python",
   "name": "python",
   "nbconvert_exporter": "python",
   "pygments_lexer": "ipython3",
   "version": "3.7.3"
  }
 },
 "nbformat": 4,
 "nbformat_minor": 2
}
