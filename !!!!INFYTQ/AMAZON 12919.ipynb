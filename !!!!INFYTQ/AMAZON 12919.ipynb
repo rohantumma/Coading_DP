{
 "cells": [
  {
   "cell_type": "code",
   "execution_count": 20,
   "metadata": {},
   "outputs": [
    {
     "ename": "SyntaxError",
     "evalue": "can't assign to function call (<ipython-input-20-edc3bae2dbbd>, line 11)",
     "output_type": "error",
     "traceback": [
      "\u001b[1;36m  File \u001b[1;32m\"<ipython-input-20-edc3bae2dbbd>\"\u001b[1;36m, line \u001b[1;32m11\u001b[0m\n\u001b[1;33m    nums.append(i)=total\u001b[0m\n\u001b[1;37m    ^\u001b[0m\n\u001b[1;31mSyntaxError\u001b[0m\u001b[1;31m:\u001b[0m can't assign to function call\n"
     ]
    }
   ],
   "source": [
    "def new_num(n):\n",
    "    if n==0:return 1\n",
    "    x=[1,2]\n",
    "    nums=[]\n",
    "    nums[0]=0\n",
    "    for i in range (1,n):\n",
    "        total=0\n",
    "        for j in x:\n",
    "            if i-j>=0:\n",
    "                total +=nums[i-j]\n",
    "        nums.append(i)=total\n",
    "    return nums[n]\n",
    "\n",
    "n=int(input(\"ENTE N\"))\n",
    "print (\"total ways:\",new_num(n))\n",
    "    "
   ]
  },
  {
   "cell_type": "markdown",
   "metadata": {},
   "source": [
    "# allow only to take 1,3,5 steps only "
   ]
  },
  {
   "cell_type": "code",
   "execution_count": 44,
   "metadata": {},
   "outputs": [
    {
     "name": "stdout",
     "output_type": "stream",
     "text": [
      "ENTE N : 6\n",
      "total ways : 8\n"
     ]
    }
   ],
   "source": [
    "def new(n):\n",
    "    if n==0:return 1\n",
    "    total =0\n",
    "    x=[1,3,5]\n",
    "    for i in x:\n",
    "        if n-1>=0:\n",
    "            total+=new(n-i)\n",
    "    return total\n",
    "\n",
    "n=int(input(\"ENTE N : \"))\n",
    "print (\"total ways :\",new(n))"
   ]
  },
  {
   "cell_type": "markdown",
   "metadata": {},
   "source": [
    "# allow any steps  "
   ]
  },
  {
   "cell_type": "code",
   "execution_count": 46,
   "metadata": {},
   "outputs": [
    {
     "name": "stdout",
     "output_type": "stream",
     "text": [
      "ENTE N : 4\n",
      "total ways : 5\n"
     ]
    }
   ],
   "source": [
    "def num(n):\n",
    "    if n==0 or n==1:return 1\n",
    "    else:return num(n-1)+num(n-2)\n",
    "\n",
    "n=int(input(\"ENTE N : \"))\n",
    "print (\"total ways :\",num(n))"
   ]
  },
  {
   "cell_type": "code",
   "execution_count": 49,
   "metadata": {},
   "outputs": [
    {
     "name": "stdout",
     "output_type": "stream",
     "text": [
      "YES\n",
      "0.1\n"
     ]
    }
   ],
   "source": [
    "f=0.1\n",
    "if f==0.1:\n",
    "    print(\"YES\")\n",
    "\n",
    "print(f)"
   ]
  }
 ],
 "metadata": {
  "kernelspec": {
   "display_name": "Python 3",
   "language": "python",
   "name": "python3"
  },
  "language_info": {
   "codemirror_mode": {
    "name": "ipython",
    "version": 3
   },
   "file_extension": ".py",
   "mimetype": "text/x-python",
   "name": "python",
   "nbconvert_exporter": "python",
   "pygments_lexer": "ipython3",
   "version": "3.7.3"
  }
 },
 "nbformat": 4,
 "nbformat_minor": 2
}
